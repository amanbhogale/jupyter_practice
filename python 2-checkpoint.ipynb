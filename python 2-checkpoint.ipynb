{
 "cells": [
  {
   "cell_type": "markdown",
   "metadata": {},
   "source": [
    "### Branching using Conditional statements and Loops in Python."
   ]
  },
  {
   "cell_type": "markdown",
   "metadata": {},
   "source": [
    "### Branching with if, else and elif "
   ]
  },
  {
   "cell_type": "markdown",
   "metadata": {},
   "source": [
    "### The if statement\n",
    "\n",
    "#### In python , branching is done using if statement, which is written as follows:\n",
    "\n",
    "  #### if condition:\n",
    "  \n",
    "           #### statement 1\n",
    "           #### statement 2\n",
    "           \n",
    "           \n",
    " #### The condition can either be variable or an expression . If the condition evaluates to True, then the statements within the if block are executed. note the 4 spaces before statement 1 , statement 2 etc the spaces inform Python that these statements are associated with the if statement above. This techique of structuring code by adding space is called indentagtion         .\n",
    " \n",
    " \n",
    " Indentation:Python relies heavily on indentation(While space before a statement) to define structure in code. This makes Python code easy to read and understand,"
   ]
  },
  {
   "cell_type": "code",
   "execution_count": 1,
   "metadata": {},
   "outputs": [],
   "source": [
    "a_number =34"
   ]
  },
  {
   "cell_type": "code",
   "execution_count": null,
   "metadata": {},
   "outputs": [],
   "source": [
    "if a_number % 2 == 0:\n",
    "    print(\"We're inside an if block\")\n",
    "    print(\"The given number {} is even.\" .format(a_number))"
   ]
  },
  {
   "cell_type": "markdown",
   "metadata": {},
   "source": [
    "### Note that we are using the modulus operator % to find the remainder from the division of  a_number by 2, and then we are using the comparision operator == check if the remainder is 0,indicating that the number is divisible by 2 i.e it is even.\n",
    "\n",
    "##### Since the number 34 is indeed divisible by 2 the expression a_number % 2 == 0 evaluates to True, so the print statement under the if statement is executed. Also note that we are using the string format method to include the number within the message"
   ]
  },
  {
   "cell_type": "code",
   "execution_count": 4,
   "metadata": {},
   "outputs": [],
   "source": [
    "another_number = 33"
   ]
  },
  {
   "cell_type": "code",
   "execution_count": 6,
   "metadata": {},
   "outputs": [],
   "source": [
    "if another_number % 2 == 0:\n",
    "    print(\"The given number {} is even\" .format(another_number))"
   ]
  },
  {
   "cell_type": "markdown",
   "metadata": {},
   "source": [
    "#### No output is printed\n",
    "\n",
    "## The else ststement \n",
    "\n",
    " #### print diff method if the number is not even in the above example. This can be done by adding the else ststement. it is written as follows:\n",
    " \n",
    " if condition:\n",
    "     statement1\n",
    "     statement2\n",
    " else:\n",
    "     statement4\n",
    "     statement5\n",
    " \n",
    " if the condition evvaluates to True , the statement in the if block are executed,and if it False statement in else block are axecuted."
   ]
  },
  {
   "cell_type": "code",
   "execution_count": 7,
   "metadata": {},
   "outputs": [],
   "source": [
    "a_number = 34"
   ]
  },
  {
   "cell_type": "code",
   "execution_count": 9,
   "metadata": {},
   "outputs": [
    {
     "name": "stdout",
     "output_type": "stream",
     "text": [
      "The given number 34 is even.\n"
     ]
    }
   ],
   "source": [
    "if a_number % 2 == 0:\n",
    "    print(\"The given number {} is even.\" .format(a_number))\n",
    "else:\n",
    "    print(\"The given number is odd.\" .format(a_number))\n"
   ]
  },
  {
   "cell_type": "code",
   "execution_count": 10,
   "metadata": {},
   "outputs": [],
   "source": [
    "another_number =33"
   ]
  },
  {
   "cell_type": "code",
   "execution_count": 11,
   "metadata": {},
   "outputs": [
    {
     "name": "stdout",
     "output_type": "stream",
     "text": [
      "The given number is odd.\n"
     ]
    }
   ],
   "source": [
    "if another_number % 2 == 0:\n",
    "    print(\"The given number {} is even.\" .format(another_number))\n",
    "else:\n",
    "    print(\"The given number is odd.\" .format(another_number))"
   ]
  },
  {
   "cell_type": "code",
   "execution_count": 12,
   "metadata": {},
   "outputs": [],
   "source": [
    "the_3_musketeers = (\"Athos\", \"Porthos\",\"Aramis\")"
   ]
  },
  {
   "cell_type": "code",
   "execution_count": 13,
   "metadata": {},
   "outputs": [],
   "source": [
    "a_candidate = \"D'Artagnan\""
   ]
  },
  {
   "cell_type": "code",
   "execution_count": 14,
   "metadata": {},
   "outputs": [
    {
     "name": "stdout",
     "output_type": "stream",
     "text": [
      "D'Artagnan is not a musketeer\n"
     ]
    }
   ],
   "source": [
    "if a_candidate in the_3_musketeers:\n",
    "    print(\"{} is a musketeer\" .format(a_candidate))\n",
    "else:\n",
    "    print(\"{} is not a musketeer\".format(a_candidate))"
   ]
  },
  {
   "cell_type": "markdown",
   "metadata": {},
   "source": [
    "### The elif statement \n",
    "\n",
    "#### Python also providesam elif statement (short for \"else iif\"), to chain a series of conditional blocks. The condition are evaluated one by one. For the first condition that evaluates to True , the ststement in the respective block are executed, and the remaining condition are not evaluated. so, in a chain of of, elif,elif ....statements , exactly one conditional block is evaluated."
   ]
  },
  {
   "cell_type": "code",
   "execution_count": 15,
   "metadata": {},
   "outputs": [],
   "source": [
    "today = \"Wednesday\""
   ]
  },
  {
   "cell_type": "code",
   "execution_count": 17,
   "metadata": {},
   "outputs": [
    {
     "name": "stdout",
     "output_type": "stream",
     "text": [
      "Today is the day of odin, the supreme diety.\n"
     ]
    }
   ],
   "source": [
    "if today == \"Sunday\":\n",
    "    print(\"Today is the day of the sun.\")\n",
    "elif today == \"Monday\":\n",
    "    print(\"Today is the day of the moon. \")\n",
    "elif today == \"Tuesday\":\n",
    "    print(\"Today is the day of Tyr, the god of war.\")\n",
    "elif today == \"Wednesday\":\n",
    "    print(\"Today is the day of odin, the supreme diety.\")\n",
    "elif today == \"Thursday\":\n",
    "    print(\"Today is the day of Thor, the god of thunder.\" )\n",
    "elif today == \"Friday\":\n",
    "    print(\"Today is the day of Frigga, the godess of beauty.\")\n",
    "elif today == \"Saturday\":\n",
    "    print(\"Today is the day of saturn, the god of fun aand feasting.\")"
   ]
  },
  {
   "cell_type": "markdown",
   "metadata": {},
   "source": [
    "## using if , elif and else together\n",
    "\n",
    "### You can also include an else statement at the end of a chain of if , elif ... statements. This code within the else block are evaluate when none of the conditions hold true."
   ]
  },
  {
   "cell_type": "code",
   "execution_count": 18,
   "metadata": {},
   "outputs": [],
   "source": [
    "a_number = 49\n"
   ]
  },
  {
   "cell_type": "code",
   "execution_count": 20,
   "metadata": {},
   "outputs": [
    {
     "name": "stdout",
     "output_type": "stream",
     "text": [
      "49 is divisible 7\n"
     ]
    }
   ],
   "source": [
    "if a_number % 2 == 0:\n",
    "    print(\"{} is divisible by 2\" .format(a_number))\n",
    "elif a_number % 3 == 0:\n",
    "    print (\"{} is divisible by 3\" . format(a_number))\n",
    "elif a_number % 5 == 0:\n",
    "    print(\"{} is divisible by 5\" . format(a_number))\n",
    "elif a_number % 7 == 0:\n",
    "    print(\"{} isareb divisible 7\" .format(a_number))\n",
    "else:\n",
    "    print(\"All checks faileed!\")\n",
    "    print(\"{} is not divisible by 2,3 or 5\" .format(a_number))"
   ]
  },
  {
   "cell_type": "markdown",
   "metadata": {},
   "source": [
    "### condition can also combine using the logic operators and , or , and not ."
   ]
  },
  {
   "cell_type": "code",
   "execution_count": 21,
   "metadata": {},
   "outputs": [],
   "source": [
    "a_number = 12"
   ]
  },
  {
   "cell_type": "code",
   "execution_count": 23,
   "metadata": {},
   "outputs": [
    {
     "name": "stdout",
     "output_type": "stream",
     "text": [
      "the number 12 is not divisible by 3 and 5\n"
     ]
    }
   ],
   "source": [
    "if a_number % 3 == 0 and a_number % 5 == 0:\n",
    "    print(\"the number {} is divisible by 3 and 5\" .format(a_number))\n",
    "elif not a_number % 5 == 0:\n",
    "    print(\"the number {} is not divisible by 3 and 5\" .format(a_number))"
   ]
  },
  {
   "cell_type": "markdown",
   "metadata": {},
   "source": [
    "## Non-Boolean conditions\n",
    "### Note that condition do not necessarily have to be boolean, condition can be value, The value is converted into boolean automatically using bool operator, this means that falsy values like 0 , \" \" ,{ } ,[ ] etc evaluate to False and other all values evaluate to True."
   ]
  },
  {
   "cell_type": "code",
   "execution_count": 24,
   "metadata": {},
   "outputs": [
    {
     "name": "stdout",
     "output_type": "stream",
     "text": [
      "The condition evaluated to False\n"
     ]
    }
   ],
   "source": [
    "if \"\":\n",
    "    print(\"The condition evaluated to True \")\n",
    "else:\n",
    "    print(\"The condition evaluated to False\")"
   ]
  },
  {
   "cell_type": "code",
   "execution_count": 25,
   "metadata": {},
   "outputs": [],
   "source": [
    "a_number = 15"
   ]
  },
  {
   "cell_type": "code",
   "execution_count": 31,
   "metadata": {},
   "outputs": [
    {
     "name": "stdout",
     "output_type": "stream",
     "text": [
      "15 is odd\n",
      "15 is also divisible by 5\n"
     ]
    }
   ],
   "source": [
    "if a_number % 2 == 0:\n",
    "    print(\"{} is divisible by 2\" .format(a_number))\n",
    "    if a_number % 3 == 0:\n",
    "        print (\"{} is divisible by 3\" .format(a_number))\n",
    "    else:\n",
    "        print(\"{} is not divisible by 3\".format(a_number))\n",
    "          \n",
    "else:\n",
    "    print(\"{} is odd\" . format(a_number))\n",
    "    if a_number % 5 == 0:\n",
    "          print(\"{} is also divisible by 5\" .format(a_number))\n",
    "    else:\n",
    "        print(\"{} is not divisible by 5\".format(a_number))\n",
    "  \n",
    "          "
   ]
  },
  {
   "cell_type": "markdown",
   "metadata": {},
   "source": [
    "## shorthand if condition expression\n",
    "### A common case of the if statement involves testing a condition and setting the value of a variable based on the condition."
   ]
  },
  {
   "cell_type": "code",
   "execution_count": 32,
   "metadata": {},
   "outputs": [
    {
     "name": "stdout",
     "output_type": "stream",
     "text": [
      "The number 13 is odd \n"
     ]
    }
   ],
   "source": [
    "a_number = 13\n",
    " \n",
    "if a_number % 2 == 0:\n",
    "    parity = \"even\"\n",
    "else:\n",
    "    parity = \"odd\"\n",
    "print(\"The number {} is {} \" .format(a_number , parity))    "
   ]
  },
  {
   "cell_type": "markdown",
   "metadata": {},
   "source": [
    "# Iteration with while loops\n",
    "\n",
    "### While loop syntax\n",
    "\n",
    "  ### while condition:\n",
    "           statement(s)\n",
    "  ### The statement under while are executed repeatedly as long as the condition  evaluates to True . In most cases the block of statements makes some changes to a variable which causes the condition to evaluate to False after a certain number of iteration.       "
   ]
  },
  {
   "cell_type": "code",
   "execution_count": 37,
   "metadata": {},
   "outputs": [
    {
     "name": "stdout",
     "output_type": "stream",
     "text": [
      "The factorial of 100 is : 93326215443944152681699238856266700490715968264381621468592963895217599993229915608941463976156518286253697920827223758251185210916864000000000000000000000000 \n"
     ]
    }
   ],
   "source": [
    "result = 1\n",
    "i = 1\n",
    "while i <= 100:\n",
    "    result = result * i \n",
    "    i =  i + 1\n",
    "print(\"The factorial of 100 is : {} \".format(result))    "
   ]
  },
  {
   "cell_type": "code",
   "execution_count": 1,
   "metadata": {},
   "outputs": [
    {
     "name": "stdout",
     "output_type": "stream",
     "text": [
      "*\n",
      "**\n",
      "***\n",
      "****\n",
      "*****\n",
      "******\n",
      "*******\n",
      "********\n",
      "*********\n",
      "**********\n",
      "***********\n",
      "**********\n",
      "*********\n",
      "********\n",
      "*******\n",
      "******\n",
      "*****\n",
      "****\n",
      "***\n",
      "**\n",
      "*\n"
     ]
    }
   ],
   "source": [
    "line = \"*\"\n",
    "max_length = 10\n",
    "\n",
    "while len(line) <= max_length:\n",
    "    print(line)\n",
    "    line += \"*\"\n",
    "while len(line) > 0:\n",
    "    print(line)\n",
    "    line = line[: -1]"
   ]
  },
  {
   "cell_type": "code",
   "execution_count": 9,
   "metadata": {},
   "outputs": [
    {
     "name": "stdout",
     "output_type": "stream",
     "text": [
      "  *  \n",
      "  *  *\n",
      "  *  **\n",
      "  *  ***\n",
      "  *  ****\n",
      "  *  *****\n",
      "  *  ******\n",
      "  *  *****\n",
      "  *  ****\n",
      "  *  ***\n",
      "  *  **\n",
      "  *  *\n",
      "  *  \n",
      "  * \n",
      "  *\n",
      "  \n",
      " \n"
     ]
    }
   ],
   "source": [
    "line = \"  *  \"\n",
    "max_length = 10\n",
    "\n",
    "while len(line) <= max_length:\n",
    "    print(line)\n",
    "    line += \"*\"\n",
    "while len(line) >0:\n",
    "    print(line)\n",
    "    line = line[:-1]"
   ]
  },
  {
   "cell_type": "code",
   "execution_count": 10,
   "metadata": {},
   "outputs": [
    {
     "ename": "KeyboardInterrupt",
     "evalue": "",
     "output_type": "error",
     "traceback": [
      "\u001b[1;31m---------------------------------------------------------------------------\u001b[0m",
      "\u001b[1;31mKeyboardInterrupt\u001b[0m                         Traceback (most recent call last)",
      "\u001b[1;32m<ipython-input-10-a743a891de27>\u001b[0m in \u001b[0;36m<module>\u001b[1;34m\u001b[0m\n\u001b[0;32m      4\u001b[0m \u001b[0mi\u001b[0m \u001b[1;33m=\u001b[0m \u001b[1;36m1\u001b[0m\u001b[1;33m\u001b[0m\u001b[1;33m\u001b[0m\u001b[0m\n\u001b[0;32m      5\u001b[0m \u001b[1;32mwhile\u001b[0m \u001b[0mi\u001b[0m \u001b[1;33m<=\u001b[0m \u001b[1;36m100\u001b[0m\u001b[1;33m:\u001b[0m\u001b[1;33m\u001b[0m\u001b[1;33m\u001b[0m\u001b[0m\n\u001b[1;32m----> 6\u001b[1;33m     \u001b[0mresult\u001b[0m \u001b[1;33m=\u001b[0m \u001b[0mresult\u001b[0m \u001b[1;33m+\u001b[0m \u001b[0mi\u001b[0m\u001b[1;33m\u001b[0m\u001b[1;33m\u001b[0m\u001b[0m\n\u001b[0m\u001b[0;32m      7\u001b[0m     \u001b[1;31m# forget to increment i\u001b[0m\u001b[1;33m\u001b[0m\u001b[1;33m\u001b[0m\u001b[1;33m\u001b[0m\u001b[0m\n\u001b[0;32m      8\u001b[0m \u001b[1;33m\u001b[0m\u001b[0m\n",
      "\u001b[1;31mKeyboardInterrupt\u001b[0m: "
     ]
    }
   ],
   "source": [
    "# infinite loop - Interrupt this cell\n",
    "\n",
    "result = 1\n",
    "i = 1\n",
    "while i <= 100:\n",
    "    result = result + i\n",
    "    # forget to increment i\n",
    "    \n"
   ]
  },
  {
   "cell_type": "markdown",
   "metadata": {},
   "source": [
    "## break and continue statement \n",
    "\n",
    "### You can use the break statement within the body of the loop to immediately stop the execution and break out of the loop(Even if the condition provided to while still hold true)."
   ]
  },
  {
   "cell_type": "code",
   "execution_count": 14,
   "metadata": {},
   "outputs": [
    {
     "name": "stdout",
     "output_type": "stream",
     "text": [
      "Magic number 42 reached! stopping execution..\n",
      "i: 42\n",
      "reguest: 1405006117752879898543142606244511569936384000000000\n"
     ]
    }
   ],
   "source": [
    "i = 1 \n",
    "result = 1\n",
    "while i <= 100:\n",
    "    result *= i\n",
    "    if i == 42:\n",
    "        print(\"Magic number 42 reached! stopping execution..\")\n",
    "        break\n",
    "    i += 1\n",
    "print(\"i:\" , i)\n",
    "print(\"reguest:\", result)"
   ]
  },
  {
   "cell_type": "code",
   "execution_count": 17,
   "metadata": {},
   "outputs": [
    {
     "name": "stdout",
     "output_type": "stream",
     "text": [
      "skipping 2 \n",
      "Multiplaying with3 \n",
      "skipping 4 \n",
      "Multiplaying with5 \n",
      "skipping 6 \n",
      "Multiplaying with7 \n",
      "skipping 8 \n",
      "Multiplaying with9 \n",
      "skipping 10 \n",
      "Multiplaying with11 \n",
      "skipping 12 \n",
      "Multiplaying with13 \n",
      "skipping 14 \n",
      "Multiplaying with15 \n",
      "skipping 16 \n",
      "Multiplaying with17 \n",
      "skipping 18 \n",
      "Multiplaying with19 \n",
      "skipping 20 \n",
      "i: 20\n",
      "result: 654729075\n"
     ]
    }
   ],
   "source": [
    "# continue statement\n",
    "i = 1\n",
    "result = 1\n",
    "\n",
    "while i < 20:\n",
    "    i += 1\n",
    "    if i % 2 == 0:\n",
    "        print(\"skipping {} \".format(i))\n",
    "        continue\n",
    "    print(\"Multiplaying with{} \".format(i))\n",
    "    result *= i\n",
    "print(\"i:\" , i)\n",
    "print(\"result:\" , result)"
   ]
  },
  {
   "cell_type": "markdown",
   "metadata": {},
   "source": [
    "## For loop\n",
    "\n",
    "#### A for loop is used for iterating or looping over sequence i.e lists, tuples, dictionaries, strings and range. For loops have the following syntax:\n",
    "    \n",
    "   #### for value in sequence:\n",
    "           statement(s)\n",
    "           \n",
    "    The ststement within the loop are executed once for each element in sequence. Here's an example that prints all the elements of the list.       "
   ]
  },
  {
   "cell_type": "code",
   "execution_count": 18,
   "metadata": {},
   "outputs": [
    {
     "name": "stdout",
     "output_type": "stream",
     "text": [
      "Monday\n",
      "Tuesday\n",
      "Wednesday\n",
      "Thursday\n",
      "Friday\n"
     ]
    }
   ],
   "source": [
    "days = [\"Monday\" , \"Tuesday\", \"Wednesday\", \"Thursday\", \"Friday\"]\n",
    "\n",
    "for day in days:\n",
    "    print(day)"
   ]
  },
  {
   "cell_type": "code",
   "execution_count": 19,
   "metadata": {},
   "outputs": [
    {
     "name": "stdout",
     "output_type": "stream",
     "text": [
      "M\n",
      "o\n",
      "n\n",
      "d\n",
      "a\n",
      "y\n"
     ]
    }
   ],
   "source": [
    "# looping over string \n",
    "for char in \"Monday\":\n",
    "    print(char)"
   ]
  },
  {
   "cell_type": "code",
   "execution_count": 21,
   "metadata": {},
   "outputs": [
    {
     "name": "stdout",
     "output_type": "stream",
     "text": [
      "Here's a fruit: Apple \n",
      "Here's a fruit: Banana\n",
      "Here's a fruit: Guava\n"
     ]
    }
   ],
   "source": [
    "# Looping over a list\n",
    "for fruit in [ \"Apple \", \"Banana\", \"Guava\"]:\n",
    "    print(\"Here's a fruit:\" , fruit)"
   ]
  },
  {
   "cell_type": "code",
   "execution_count": 2,
   "metadata": {},
   "outputs": [
    {
     "name": "stdout",
     "output_type": "stream",
     "text": [
      "Key: name , Value: John doe\n",
      "Key: sex , Value: Male\n",
      "Key: Age , Value: 32\n",
      "Key: Married , Value: True\n"
     ]
    }
   ],
   "source": [
    "# looping over a dictiionary \n",
    "person = {\n",
    "    'name': 'John doe',\n",
    "    'sex' : 'Male',\n",
    "    'Age': 32,\n",
    "    'Married': True\n",
    "    \n",
    "}\n",
    "for key in person:\n",
    "    print(\"Key:\", key, \",\" , \"Value:\" , person[key])\n",
    "    \n"
   ]
  },
  {
   "cell_type": "markdown",
   "metadata": {},
   "source": [
    "#### Note   dictionary with a for loop, the iteration happens over keys within the dictionary. The key can be used within the loop to access the value. You can also iterate directly over the value using the .values method of the dictionaries, or over key-velue pairs using the .itema method."
   ]
  },
  {
   "cell_type": "code",
   "execution_count": 4,
   "metadata": {},
   "outputs": [
    {
     "name": "stdout",
     "output_type": "stream",
     "text": [
      "John doe\n",
      "Male\n",
      "32\n",
      "True\n"
     ]
    }
   ],
   "source": [
    " for value in person.values():\n",
    "        print(value)"
   ]
  },
  {
   "cell_type": "code",
   "execution_count": 6,
   "metadata": {},
   "outputs": [
    {
     "name": "stdout",
     "output_type": "stream",
     "text": [
      "('name', 'John doe')\n",
      "('sex', 'Male')\n",
      "('Age', 32)\n",
      "('Married', True)\n"
     ]
    }
   ],
   "source": [
    "for Key_value_pair in person.items():\n",
    "    print(Key_value_pair)"
   ]
  },
  {
   "cell_type": "markdown",
   "metadata": {},
   "source": [
    "for key values "
   ]
  },
  {
   "cell_type": "code",
   "execution_count": 9,
   "metadata": {},
   "outputs": [
    {
     "name": "stdout",
     "output_type": "stream",
     "text": [
      "Key: name , value: John doe\n",
      "Key: sex , value: Male\n",
      "Key: Age , value: 32\n",
      "Key: Married , value: True\n"
     ]
    }
   ],
   "source": [
    "for key, value in person.items():\n",
    "    print(\"Key:\" , key, \",\" , \"value:\" , value)"
   ]
  },
  {
   "cell_type": "markdown",
   "metadata": {},
   "source": [
    " ### Iterate using range and enumerate\n",
    " \n",
    " #### The range function is used to create a sequence of numbers that can be iterated over using a for loop. it can be used in 3 ways:\n",
    " \n",
    " 1: range(n) - creates a sequence of numbers from 0 to n-1                                        .\n",
    " 2: range(a , b) - creates a sequence of numbers from a to b-1                                    . \n",
    " 3: range(a , b, step) - creates a sequence of numbers from a to b-1 with incerements of step     .\n",
    " "
   ]
  },
  {
   "cell_type": "code",
   "execution_count": 11,
   "metadata": {},
   "outputs": [
    {
     "name": "stdout",
     "output_type": "stream",
     "text": [
      "0\n",
      "1\n",
      "2\n",
      "3\n",
      "4\n",
      "5\n",
      "6\n"
     ]
    }
   ],
   "source": [
    "for i in range(7):\n",
    "    print(i)"
   ]
  },
  {
   "cell_type": "code",
   "execution_count": 12,
   "metadata": {},
   "outputs": [
    {
     "name": "stdout",
     "output_type": "stream",
     "text": [
      "3\n",
      "4\n",
      "5\n",
      "6\n",
      "7\n",
      "8\n",
      "9\n"
     ]
    }
   ],
   "source": [
    "for i in range(3 , 10):\n",
    "    print(i)"
   ]
  },
  {
   "cell_type": "code",
   "execution_count": 13,
   "metadata": {},
   "outputs": [
    {
     "name": "stdout",
     "output_type": "stream",
     "text": [
      "3\n",
      "7\n",
      "11\n"
     ]
    }
   ],
   "source": [
    "for i in range(3 , 14 , 4):\n",
    "    print(i)"
   ]
  },
  {
   "cell_type": "code",
   "execution_count": 16,
   "metadata": {},
   "outputs": [
    {
     "name": "stdout",
     "output_type": "stream",
     "text": [
      "the value at position 0 is monday. \n",
      "the value at position 1 is tuesday. \n",
      "the value at position 2 is wednesday. \n",
      "the value at position 3 is Thursday. \n",
      "the value at position 4 is Friday. \n"
     ]
    }
   ],
   "source": [
    "a_list = [\"monday\", \"tuesday\" , \"wednesday\", \"Thursday\", \"Friday\"]\n",
    "\n",
    "for i in range(len(a_list)):\n",
    "    print(\"the value at position {} is {}. \" .format(i , a_list[i]) )"
   ]
  },
  {
   "cell_type": "markdown",
   "metadata": {},
   "source": [
    "## Break and continue statements \n",
    " to break through \n",
    " to contnue"
   ]
  },
  {
   "cell_type": "code",
   "execution_count": 18,
   "metadata": {},
   "outputs": [],
   "source": [
    "weekdays = [\"monday\", \"tuesday\" , \"wednesday\", \"Thursday\", \"Friday\"]"
   ]
  },
  {
   "cell_type": "code",
   "execution_count": 19,
   "metadata": {},
   "outputs": [
    {
     "name": "stdout",
     "output_type": "stream",
     "text": [
      "Today is monday \n",
      "Today is tuesday \n",
      "Today is wednesday \n",
      "I don't work beyound wednesday!\n"
     ]
    }
   ],
   "source": [
    "for day in weekdays:\n",
    "    print(\"Today is {} \".format(day))\n",
    "    if (day == \"wednesday\"):\n",
    "        print(\"I don't work beyound wednesday!\")\n",
    "        break"
   ]
  },
  {
   "cell_type": "code",
   "execution_count": 22,
   "metadata": {},
   "outputs": [
    {
     "name": "stdout",
     "output_type": "stream",
     "text": [
      "Today is monday \n",
      "Today is tuesday \n",
      "I don't work on wednesday!\n",
      "Today is Thursday \n",
      "Today is Friday \n"
     ]
    }
   ],
   "source": [
    "# continue\n",
    "for day in weekdays:\n",
    "    if (day == \"wednesday\" ):\n",
    "        print(\"I don't work on wednesday!\")\n",
    "        continue\n",
    "    print(\"Today is {} \" .format(day))    "
   ]
  },
  {
   "cell_type": "code",
   "execution_count": 23,
   "metadata": {},
   "outputs": [],
   "source": [
    "for day in weekdays:\n",
    "    pass"
   ]
  },
  {
   "cell_type": "code",
   "execution_count": null,
   "metadata": {},
   "outputs": [],
   "source": []
  }
 ],
 "metadata": {
  "kernelspec": {
   "display_name": "Python 3",
   "language": "python",
   "name": "python3"
  },
  "language_info": {
   "codemirror_mode": {
    "name": "ipython",
    "version": 3
   },
   "file_extension": ".py",
   "mimetype": "text/x-python",
   "name": "python",
   "nbconvert_exporter": "python",
   "pygments_lexer": "ipython3",
   "version": "3.8.5"
  }
 },
 "nbformat": 4,
 "nbformat_minor": 4
}
