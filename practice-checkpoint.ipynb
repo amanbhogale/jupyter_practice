{
 "cells": [
  {
   "cell_type": "markdown",
   "metadata": {},
   "source": [
    "The built-in function `isinstance` will allow us to check if an object is of a given type. You can also use the built-in `type` function to check an object’s type. For example, the following code checks if an object is an integer:"
   ]
  },
  {
   "cell_type": "code",
   "execution_count": 1,
   "metadata": {},
   "outputs": [
    {
     "data": {
      "text/plain": [
       "int"
      ]
     },
     "execution_count": 1,
     "metadata": {},
     "output_type": "execute_result"
    }
   ],
   "source": [
    "x = 1\n",
    "type(x)"
   ]
  },
  {
   "cell_type": "code",
   "execution_count": 2,
   "metadata": {},
   "outputs": [
    {
     "data": {
      "text/plain": [
       "True"
      ]
     },
     "execution_count": 2,
     "metadata": {},
     "output_type": "execute_result"
    }
   ],
   "source": [
    "isinstance(x , int)"
   ]
  },
  {
   "cell_type": "markdown",
   "metadata": {},
   "source": [
    "Number Types\n",
    "Python has three basic types of numbers: integers, “floating-point” numbers, and complex numbers. Familiar mathematical symbols can be used to perform arithmetic on all of these numbers (comparison operators like “greater than” are not defined for complex numbers):\n",
    "\n",
    "Operation\n",
    "\n",
    "Description\n",
    "\n",
    "x + y\n",
    "\n",
    "Sum of two numbers\n",
    "\n",
    "x - y\n",
    "\n",
    "Difference of two numbers\n",
    "\n",
    "x * y\n",
    "\n",
    "Product of two numbers\n",
    "\n",
    "x / y\n",
    "\n",
    "Quotient of two numbers\n",
    "\n",
    "x // y\n",
    "\n",
    "Quotient of two numbers, returned as an integer\n",
    "\n",
    "x % y\n",
    "\n",
    "x “modulo”: y: The remainder of x / y for positive x, y\n",
    "\n",
    "x ** y\n",
    "\n",
    "x raised to the power y\n",
    "\n",
    "-x\n",
    "\n",
    "A negated number\n",
    "\n",
    "abs(x)\n",
    "\n",
    "The absolute value of a number\n",
    "\n",
    "x == y\n",
    "\n",
    "Check if two numbers have the same value\n",
    "\n",
    "x != y\n",
    "\n",
    "Check if two numbers have different values\n",
    "\n",
    "x > y\n",
    "\n",
    "Check if x is greater than y\n",
    "\n",
    "x >= y\n",
    "\n",
    "Check if x is greater than or equal to y\n",
    "\n",
    "x < y\n",
    "\n",
    "Check if x is less than y\n",
    "\n",
    "x <= y\n",
    "\n",
    "Check if x is less than or equal to y"
   ]
  },
  {
   "cell_type": "code",
   "execution_count": 3,
   "metadata": {},
   "outputs": [
    {
     "data": {
      "text/plain": [
       "7"
      ]
     },
     "execution_count": 3,
     "metadata": {},
     "output_type": "execute_result"
    }
   ],
   "source": [
    "1 + 2 * 3"
   ]
  },
  {
   "cell_type": "code",
   "execution_count": 4,
   "metadata": {},
   "outputs": [
    {
     "data": {
      "text/plain": [
       "9"
      ]
     },
     "execution_count": 4,
     "metadata": {},
     "output_type": "execute_result"
    }
   ],
   "source": [
    "(1 + 2) * 3"
   ]
  },
  {
   "cell_type": "code",
   "execution_count": 5,
   "metadata": {},
   "outputs": [
    {
     "data": {
      "text/plain": [
       "1"
      ]
     },
     "execution_count": 5,
     "metadata": {},
     "output_type": "execute_result"
    }
   ],
   "source": [
    "# finding the remainder of the division two positive number \n",
    "11 % 5"
   ]
  },
  {
   "cell_type": "code",
   "execution_count": 6,
   "metadata": {},
   "outputs": [
    {
     "data": {
      "text/plain": [
       "True"
      ]
     },
     "execution_count": 6,
     "metadata": {},
     "output_type": "execute_result"
    }
   ],
   "source": [
    "# checking the inequality \n",
    "(2**3) < (2**4)"
   ]
  },
  {
   "cell_type": "code",
   "execution_count": 7,
   "metadata": {},
   "outputs": [
    {
     "data": {
      "text/plain": [
       "1.5"
      ]
     },
     "execution_count": 7,
     "metadata": {},
     "output_type": "execute_result"
    }
   ],
   "source": [
    "3 /2"
   ]
  },
  {
   "cell_type": "code",
   "execution_count": 8,
   "metadata": {},
   "outputs": [
    {
     "data": {
      "text/plain": [
       "2.0"
      ]
     },
     "execution_count": 8,
     "metadata": {},
     "output_type": "execute_result"
    }
   ],
   "source": [
    "4 / 2"
   ]
  },
  {
   "cell_type": "markdown",
   "metadata": {},
   "source": [
    "The `//` operator is known as the “floor-divide” operator: it performs division between two numbers and returns the result as an integer by discarding any decimal-places for that number (thus returning the “floor” of that number). This can be used to perform the integer-division traditionally used in other programming languages:\n",
    "\n"
   ]
  },
  {
   "cell_type": "code",
   "execution_count": 9,
   "metadata": {},
   "outputs": [
    {
     "data": {
      "text/plain": [
       "0"
      ]
     },
     "execution_count": 9,
     "metadata": {},
     "output_type": "execute_result"
    }
   ],
   "source": [
    "# floor-division\n",
    "1//3 # is 0.333333.... ---->0"
   ]
  },
  {
   "cell_type": "code",
   "execution_count": 10,
   "metadata": {},
   "outputs": [
    {
     "data": {
      "text/plain": [
       "1"
      ]
     },
     "execution_count": 10,
     "metadata": {},
     "output_type": "execute_result"
    }
   ],
   "source": [
    "3//2 #is 1.5 , -----> 1"
   ]
  },
  {
   "cell_type": "markdown",
   "metadata": {},
   "source": [
    "The modulo operator, %, is not commonly seen in mathematics textbooks. It is, however, a very useful operation to have at our disposal. x % y (said as x “mod” y in programmer’s jargon) returns the remainder of x / y, when x and `y are non-negative numbers. For example:\n",
    "\n",
    "32=1+12. 2 “goes into” 3 one time, leaving a remainder of 1. Thus 3 % 2 returns 1\n",
    "\n",
    "93=3. 3 “goes into” 9 three times, and leaves no remainder. Thus 9 % 3 returns 0\n",
    "\n",
    "Given this description of the “mod” operator, simplify the following by hand, and then use the IPython console to check your work:\n",
    "\n",
    "1 % 5\n",
    "\n",
    "2 % 5\n",
    "\n",
    "22 % 1\n",
    "\n",
    "22 % 2\n",
    "\n",
    "22 % 3\n",
    "\n",
    "22 % 4\n",
    "\n",
    "22 % 5\n",
    "\n",
    "22 % 6\n",
    "\n",
    "Now, given any integer, n, what are the possible values that n % 2 can return? See if you can come up with a simple rule for explaining the behavior of n % 2."
   ]
  },
  {
   "cell_type": "markdown",
   "metadata": {},
   "source": [
    "Python’s math module\n",
    "The standard library’s math module provides us with many more mathematical functions, like logarithms and trigonometric functions. A complete listing of them [can be found in the official Python documentation](https://docs.python.org/3/library/math.html#number-theoretic-and-representation-functions). This module must be imported into your code in order to use its functions:"
   ]
  },
  {
   "cell_type": "code",
   "execution_count": 11,
   "metadata": {},
   "outputs": [
    {
     "data": {
      "text/plain": [
       "2.0"
      ]
     },
     "execution_count": 11,
     "metadata": {},
     "output_type": "execute_result"
    }
   ],
   "source": [
    "# using the `math` module to use\n",
    "# additional mathematical functions\n",
    "import math\n",
    "math.sqrt(4)\n"
   ]
  },
  {
   "cell_type": "code",
   "execution_count": 12,
   "metadata": {},
   "outputs": [
    {
     "data": {
      "text/plain": [
       "1.0"
      ]
     },
     "execution_count": 12,
     "metadata": {},
     "output_type": "execute_result"
    }
   ],
   "source": [
    "# base-10 log \n",
    "math.log10(10)"
   ]
  },
  {
   "cell_type": "code",
   "execution_count": 13,
   "metadata": {},
   "outputs": [
    {
     "data": {
      "text/plain": [
       "24"
      ]
     },
     "execution_count": 13,
     "metadata": {},
     "output_type": "execute_result"
    }
   ],
   "source": [
    "# factorial\n",
    "math.factorial(4)"
   ]
  },
  {
   "cell_type": "code",
   "execution_count": 14,
   "metadata": {},
   "outputs": [
    {
     "data": {
      "text/plain": [
       "int"
      ]
     },
     "execution_count": 14,
     "metadata": {},
     "output_type": "execute_result"
    }
   ],
   "source": [
    "type(-3)"
   ]
  },
  {
   "cell_type": "code",
   "execution_count": 15,
   "metadata": {},
   "outputs": [
    {
     "data": {
      "text/plain": [
       "1"
      ]
     },
     "execution_count": 15,
     "metadata": {},
     "output_type": "execute_result"
    }
   ],
   "source": [
    "int(1.3)"
   ]
  },
  {
   "cell_type": "markdown",
   "metadata": {},
   "source": [
    "#### Scientific Notation\n",
    "A float can also be created using familiar scientific notation. The character e is used to represent ×10, and the proceeding number is the exponent. Here are some examples of traditional scientific notation, and their corresponding representation in Python:\n",
    "\n",
    "1.38×10−4→ `1.38e-04`\n",
    "\n",
    "−4.2×1010→ `-4.2e10`\n",
    "\n",
    "Python will automatically display a float that possesses many digits in scientific notation:"
   ]
  },
  {
   "cell_type": "code",
   "execution_count": 16,
   "metadata": {},
   "outputs": [
    {
     "data": {
      "text/plain": [
       "1e-11"
      ]
     },
     "execution_count": 16,
     "metadata": {},
     "output_type": "execute_result"
    }
   ],
   "source": [
    "0.00000000001"
   ]
  },
  {
   "cell_type": "markdown",
   "metadata": {},
   "source": [
    "#### Understanding Numerical Precision\n",
    "Whereas a Python integer can be made to be as large as you’d like, a floating-point number is limited in the number of digits it can store. That is, your computer will only use a set amount of memory - 8 bytes (64 bits) on most machines - to store the value of a floating-point number.\n",
    "\n",
    "In effect, this means that a float can only be represented with a numerical precision of approximately 16 decimal places, when that number is written in scientific notation. The computer will not be able to reliably represent a number’s digits beyond those accounted for by the allotted 8 bytes. For instance, the following Python integer is defined with 100 digits, but when this number is converted to a float, it only retains 15 decimal places in scientific notation:"
   ]
  },
  {
   "cell_type": "code",
   "execution_count": 17,
   "metadata": {},
   "outputs": [
    {
     "data": {
      "text/plain": [
       "1111111111111111111111111111111111111111111111111111111111111111111111111111111111111111111111111111"
      ]
     },
     "execution_count": 17,
     "metadata": {},
     "output_type": "execute_result"
    }
   ],
   "source": [
    "# Demonstrating the finite-precision of a float.\n",
    "\n",
    "# An integer with 100 digits - Python will use as\n",
    "# much memory as needed to store an integer\n",
    "int(\"1\"*100)  # creates a string with 100 1s and makes it an int"
   ]
  },
  {
   "cell_type": "code",
   "execution_count": 18,
   "metadata": {},
   "outputs": [
    {
     "data": {
      "text/plain": [
       "1.111111111111111e+99"
      ]
     },
     "execution_count": 18,
     "metadata": {},
     "output_type": "execute_result"
    }
   ],
   "source": [
    "# Converted to a float, it retains only\n",
    "# 16 decimal places, when written in scientific\n",
    "# notation. This is the precision permitted by\n",
    "# 8 bytes of memory.\n",
    "float(\"1\"*100)  # creates a string with 100 1s and makes it a float"
   ]
  },
  {
   "cell_type": "markdown",
   "metadata": {},
   "source": [
    "The computer cannot keep track of those last 84 decimal places because doing so would require more than 8 bytes of memory to store the entire value of that float. If you had been diligently counting stars in the sky (perhaps across many universes, this number far exceeds the estimated number of stars in our universe), you would have just lost track of over 1×10^83 of them simply by converting your integer count to a float!\n",
    "\n",
    "As such, attempting to modify a floating point number in decimal places beyond its numerical precision does not have any effect:"
   ]
  },
  {
   "cell_type": "code",
   "execution_count": 19,
   "metadata": {},
   "outputs": [
    {
     "data": {
      "text/plain": [
       "1.0"
      ]
     },
     "execution_count": 19,
     "metadata": {},
     "output_type": "execute_result"
    }
   ],
   "source": [
    "# changing a float beyond its precision has no effect\n",
    "1. + 1e-16"
   ]
  },
  {
   "cell_type": "markdown",
   "metadata": {},
   "source": [
    "Even in light of this discussion on float precision, you may be shocked and dismayed to see the following outcome of float arithmetic"
   ]
  },
  {
   "cell_type": "code",
   "execution_count": 20,
   "metadata": {},
   "outputs": [
    {
     "data": {
      "text/plain": [
       "False"
      ]
     },
     "execution_count": 20,
     "metadata": {},
     "output_type": "execute_result"
    }
   ],
   "source": [
    "# the finite-precision of float \n",
    "# result in non-obvious behavior\n",
    "0.1 + 0.1 + 0.1 - 0.3 == 0"
   ]
  },
  {
   "cell_type": "code",
   "execution_count": 21,
   "metadata": {},
   "outputs": [
    {
     "data": {
      "text/plain": [
       "5.551115123125783e-17"
      ]
     },
     "execution_count": 21,
     "metadata": {},
     "output_type": "execute_result"
    }
   ],
   "source": [
    "# the effects of having finite numerical precision\n",
    "0.1 + 0.1 + 0.1 - 0.3"
   ]
  },
  {
   "cell_type": "markdown",
   "metadata": {},
   "source": [
    "This is not a quirk of Python; this is a [well-understood](https://docs.python.org/3/tutorial/floatingpoint.html) aspect of dealing with floating-point numbers with limited numerical precision. To accommodate this, don’t check if two floats are “equal”. Rather, you should check if they are “close enough in value”. Let me emphasize this:"
   ]
  },
  {
   "cell_type": "markdown",
   "metadata": {},
   "source": [
    "##### You should never check to see if two floats are exactly equal in value. Instead, you should only check that two floats are approximately equal to one another."
   ]
  },
  {
   "cell_type": "markdown",
   "metadata": {},
   "source": [
    "The `math` module has a very nice function for this; `math.isclose` will check if the relative difference between two numbers is less than **1×10−9.** You can change this tolerance value along with the type of tolerance-checking used by the function; see its documentation here. Because in the previous example we compare values that are close to 0, we will check if their absolute difference is sufficiently small:"
   ]
  },
  {
   "cell_type": "code",
   "execution_count": 22,
   "metadata": {},
   "outputs": [
    {
     "data": {
      "text/plain": [
       "True"
      ]
     },
     "execution_count": 22,
     "metadata": {},
     "output_type": "execute_result"
    }
   ],
   "source": [
    "# checking if two float values are 'almost equal'\n",
    "import math\n",
    "\n",
    "#check:\n",
    "# | (0.1 + 0.1 + 0.1 - 0.3) - 0 | < 1x10^{-9}\n",
    "math.isclose((0.1 + 0.1 + 0.1 - 0.3) , 0. , abs_tol=1e-9)"
   ]
  },
  {
   "cell_type": "code",
   "execution_count": 23,
   "metadata": {},
   "outputs": [
    {
     "data": {
      "text/plain": [
       "True"
      ]
     },
     "execution_count": 23,
     "metadata": {},
     "output_type": "execute_result"
    }
   ],
   "source": [
    "round(0.1 +0.1 +0.1 , 10) == round(0.3 , 10)"
   ]
  },
  {
   "cell_type": "markdown",
   "metadata": {},
   "source": [
    "If you do not heed this lesson, it is inevitable that you will end up with serious, hard-to-find bugs in your code. Lastly, when doing numerical work in Python (and any other programming language), you must understand that the finite numerical precision of floating-point numbers is a source of error, akin to error associated with imprecision with a measuring device, and should be accounted for in your analysis (if error analysis is warranted).\n",
    "\n"
   ]
  },
  {
   "cell_type": "markdown",
   "metadata": {},
   "source": [
    "Python’s [decimal module](https://docs.python.org/3.0/library/decimal.html) can be used to define higher (or lower) precision numbers than permitted by the standard 8-byte floats. Furthermore, all arithmetic involving decimal numbers from this module is guaranteed to be exact, meaning that `0.1 + 0.1 + 0.1 - 0.3` would be exactly `0.`. There is also a built-in [fractions module,](https://docs.python.org/3.0/library/decimal.html) which provides tools for working with exact representations of rational numbers. Although we will not be using them here, it is very important to keep in mind that these modules exist and that floating point numbers are not the only way around the number line in Python."
   ]
  },
  {
   "cell_type": "markdown",
   "metadata": {},
   "source": [
    "#### Complex Numbers\n",
    "In mathematics, a “complex number” is a number with the form `a+bi`, where a and b are real-valued numbers, and `i` is defined to be the number that satisfies the relationship i^2=−1. Because no real-valued number satisfies this relationship, i is called the “imaginary number”.\n",
    "\n",
    "Weirdo electrical engineers use the symbol j in place of i, which is why Python displays the complex number 2+3i as `2+3j` (this is actually because i typically denotes current; we like electrical engineers too).\n",
    "\n",
    "Along with the `a + bj` syntax, built-in type `complex` can be used to create complex-type numbers:"
   ]
  },
  {
   "cell_type": "code",
   "execution_count": 24,
   "metadata": {},
   "outputs": [
    {
     "data": {
      "text/plain": [
       "(2+3j)"
      ]
     },
     "execution_count": 24,
     "metadata": {},
     "output_type": "execute_result"
    }
   ],
   "source": [
    "# creating complex numbers\n",
    "2 + 3j"
   ]
  },
  {
   "cell_type": "code",
   "execution_count": 25,
   "metadata": {},
   "outputs": [
    {
     "data": {
      "text/plain": [
       "(2+3j)"
      ]
     },
     "execution_count": 25,
     "metadata": {},
     "output_type": "execute_result"
    }
   ],
   "source": [
    "complex(2 , 3)"
   ]
  },
  {
   "cell_type": "code",
   "execution_count": 26,
   "metadata": {},
   "outputs": [
    {
     "data": {
      "text/plain": [
       "complex"
      ]
     },
     "execution_count": 26,
     "metadata": {},
     "output_type": "execute_result"
    }
   ],
   "source": [
    "type(2 + 3j)"
   ]
  },
  {
   "cell_type": "code",
   "execution_count": 27,
   "metadata": {},
   "outputs": [
    {
     "data": {
      "text/plain": [
       "True"
      ]
     },
     "execution_count": 27,
     "metadata": {},
     "output_type": "execute_result"
    }
   ],
   "source": [
    "isinstance(2-4j , complex)"
   ]
  },
  {
   "cell_type": "markdown",
   "metadata": {},
   "source": [
    "Note that `j` is not, by itself, reserved as a special placeholder for `i`. Rather, `j` must be preceded immediately with a numerical literal (i.e. you cannot use a variable) in order for the Python interpreter to treat it as a complex number."
   ]
  },
  {
   "cell_type": "code",
   "execution_count": 28,
   "metadata": {},
   "outputs": [
    {
     "ename": "NameError",
     "evalue": "name 'j' is not defined",
     "output_type": "error",
     "traceback": [
      "\u001b[1;31m---------------------------------------------------------------------------\u001b[0m",
      "\u001b[1;31mNameError\u001b[0m                                 Traceback (most recent call last)",
      "\u001b[1;32m<ipython-input-28-75347c5404dd>\u001b[0m in \u001b[0;36m<module>\u001b[1;34m\u001b[0m\n\u001b[0;32m      1\u001b[0m \u001b[1;31m# `j` by itself is treated like an other character\u001b[0m\u001b[1;33m\u001b[0m\u001b[1;33m\u001b[0m\u001b[1;33m\u001b[0m\u001b[0m\n\u001b[1;32m----> 2\u001b[1;33m \u001b[0mj\u001b[0m\u001b[1;33m\u001b[0m\u001b[1;33m\u001b[0m\u001b[0m\n\u001b[0m",
      "\u001b[1;31mNameError\u001b[0m: name 'j' is not defined"
     ]
    }
   ],
   "source": [
    "# `j` by itself is treated like an other character\n",
    "j"
   ]
  },
  {
   "cell_type": "code",
   "execution_count": 29,
   "metadata": {},
   "outputs": [
    {
     "data": {
      "text/plain": [
       "(-1+0j)"
      ]
     },
     "execution_count": 29,
     "metadata": {},
     "output_type": "execute_result"
    }
   ],
   "source": [
    "# `1j` is interpreted as the imaginary number\n",
    "(1j)**2"
   ]
  },
  {
   "cell_type": "markdown",
   "metadata": {},
   "source": [
    "You can access `a` and `b` from `a + bj`, the real and imaginary parts of the complex number, respectively."
   ]
  },
  {
   "cell_type": "code",
   "execution_count": 30,
   "metadata": {},
   "outputs": [],
   "source": [
    "# Accesing the real and imaginary part of \n",
    "# a complex number.\n",
    "x = complex(1.2 , -3.4)"
   ]
  },
  {
   "cell_type": "code",
   "execution_count": 31,
   "metadata": {},
   "outputs": [
    {
     "data": {
      "text/plain": [
       "1.2"
      ]
     },
     "execution_count": 31,
     "metadata": {},
     "output_type": "execute_result"
    }
   ],
   "source": [
    "x.real"
   ]
  },
  {
   "cell_type": "code",
   "execution_count": 32,
   "metadata": {},
   "outputs": [
    {
     "data": {
      "text/plain": [
       "-3.4"
      ]
     },
     "execution_count": 32,
     "metadata": {},
     "output_type": "execute_result"
    }
   ],
   "source": [
    "x.imag"
   ]
  },
  {
   "cell_type": "markdown",
   "metadata": {},
   "source": [
    "The cmath (“complex math”) module provides a collection of mathematical functions defined for complex numbers. For a complete listing of these functions, refer to the official [documentation.](https://docs.python.org/3/library/cmath.html#module-cmath)"
   ]
  },
  {
   "cell_type": "markdown",
   "metadata": {},
   "source": [
    "* In Python, performing an arithmetic operation, such as addition or multiplication, on two integers will return an integer, and performing an operation on two floats will return a float:\n",
    "\n",
    "> 2 * 3\n",
    ">> 6\n",
    "\n",
    "> 2.0 * 3.0\n",
    ">> 6.0\n",
    "\n",
    "For which operation, among + - * / **, does this not hold?\n",
    "\n",
    "* What type of number will be returned if you perform a mathematical operation using an integer and a floating-point number? Does this hold for all the arithmetic operations? Determine this by trial and error.\n",
    "\n",
    "* Given the function f(x)=e|x−2|, make use of the math module to compute f(−0.2).\n",
    "\n",
    "* Using Python’s syntax for scientific notation, write an expression that verifies that one trillion divided by one billion is equal to one thousand\n",
    "\n"
   ]
  },
  {
   "cell_type": "markdown",
   "metadata": {},
   "source": [
    "Augmented Assignment Statements\n",
    "Python provides a nice “shortcut” for updating a variable via an arithmetic operation. For example, suppose you want to increase the value of `x` by 1. Currently, we would update `x` as follows:"
   ]
  },
  {
   "cell_type": "code",
   "execution_count": 33,
   "metadata": {},
   "outputs": [],
   "source": [
    "# increment `x` by 1 \n",
    "x  = 5\n",
    "x = x + 1"
   ]
  },
  {
   "cell_type": "code",
   "execution_count": 34,
   "metadata": {},
   "outputs": [
    {
     "data": {
      "text/plain": [
       "6"
      ]
     },
     "execution_count": 34,
     "metadata": {},
     "output_type": "execute_result"
    }
   ],
   "source": [
    "x"
   ]
  },
  {
   "cell_type": "markdown",
   "metadata": {},
   "source": [
    "We can make use of a special assignment operation += to perform this update in an abbreviated way."
   ]
  },
  {
   "cell_type": "code",
   "execution_count": 35,
   "metadata": {},
   "outputs": [],
   "source": [
    "# using `+=` to increment `x` by 1\n",
    "x = 5"
   ]
  },
  {
   "cell_type": "code",
   "execution_count": 36,
   "metadata": {},
   "outputs": [],
   "source": [
    " x += 1 # equivalent to 'x = x + 1'"
   ]
  },
  {
   "cell_type": "code",
   "execution_count": 37,
   "metadata": {},
   "outputs": [
    {
     "data": {
      "text/plain": [
       "6"
      ]
     },
     "execution_count": 37,
     "metadata": {},
     "output_type": "execute_result"
    }
   ],
   "source": [
    "x"
   ]
  },
  {
   "cell_type": "markdown",
   "metadata": {},
   "source": [
    "`+=` is a type of augmented assignment statement. In general, an augmented assignment performs a mathematical operation on a variable, and then updates that variable using the result. Augmented assignment statements are available for all of the arithmetic operations. Assuming x and n are both types of numbers, the following summarizes the available arithmetic augmented assignment statements that we can perform on `x`, using `n`:\n",
    "* `x += n` → `x = x + n`\n",
    "\n",
    "* `x -= n` → `x = x - n`\n",
    "\n",
    "* `x *= n` → x = `x * n`\n",
    "\n",
    "* `x /= n `→ x = `x / n`\n",
    "\n",
    "* `x //= n `→ `x = x // n`\n",
    "\n",
    "* `x **= n `→ `x = x ** n`"
   ]
  },
  {
   "cell_type": "markdown",
   "metadata": {},
   "source": [
    "#### Improving The Readability of Numbers\n",
    "Python version 3.6 introduced the ability to include underscores between the digits of a number as a visual delimiter. This character can be used to improve the readability of long numbers in your code. For example the number `662607004` can be rewritten as `662_607_004`, using _ to delimit digits separated by orders of one thousand. Leading, trailing, or multiple underscores in a row are not allowed; otherwise this character can be included anywhere within a numerical literal."
   ]
  },
  {
   "cell_type": "code",
   "execution_count": 38,
   "metadata": {},
   "outputs": [
    {
     "data": {
      "text/plain": [
       "1000000"
      ]
     },
     "execution_count": 38,
     "metadata": {},
     "output_type": "execute_result"
    }
   ],
   "source": [
    "# examples of using `_` as a visual delimiter in numbers\n",
    "1_000_000  # this is nice!\n"
   ]
  },
  {
   "cell_type": "code",
   "execution_count": 39,
   "metadata": {},
   "outputs": [
    {
     "data": {
      "text/plain": [
       "234.567"
      ]
     },
     "execution_count": 39,
     "metadata": {},
     "output_type": "execute_result"
    }
   ],
   "source": [
    "# this is gross but is permitted\n",
    "2_3_4.5_6_7\n"
   ]
  },
  {
   "cell_type": "code",
   "execution_count": 40,
   "metadata": {},
   "outputs": [
    {
     "data": {
      "text/plain": [
       "10000j"
      ]
     },
     "execution_count": 40,
     "metadata": {},
     "output_type": "execute_result"
    }
   ],
   "source": [
    "# underscores work with all variety of numerical literals\n",
    "10_000j\n"
   ]
  },
  {
   "cell_type": "markdown",
   "metadata": {},
   "source": [
    "#### Compatibility Warning\n",
    "\n",
    "The permitted use of the underscore character, _, in numerical literals was introduced in Python 3.6. Thus utilizing this syntax in your code will render it incompatible with Python 3.5 and earlier."
   ]
  },
  {
   "cell_type": "markdown",
   "metadata": {},
   "source": [
    "#### The Boolean Type\n",
    "There are two boolean-type objects: `True` and `False`; they belong to the built-in type `bool`. We have already seen that the `isinstance` function either returns `True` or `False`, as a given object either is or isn’t an instance of a specific type."
   ]
  },
  {
   "cell_type": "code",
   "execution_count": 41,
   "metadata": {},
   "outputs": [
    {
     "data": {
      "text/plain": [
       "True"
      ]
     },
     "execution_count": 41,
     "metadata": {},
     "output_type": "execute_result"
    }
   ],
   "source": [
    "# the two boolean-objects: `True` and `False`\n",
    "type(True)\n",
    "# `False` is a boolean-type object\n",
    "isinstance(False , bool)"
   ]
  },
  {
   "cell_type": "markdown",
   "metadata": {},
   "source": [
    "`True` and `False` must be specified with capital letters in Python. These should not be confused with strings; note that there are no quotation marks used here."
   ]
  },
  {
   "cell_type": "markdown",
   "metadata": {},
   "source": [
    "#### Logic Operators\n",
    "Python provides familiar operators for performing basic boolean logic:\n",
    "\n",
    "| Logic Operation | Symbolic Operator|\n",
    "|-----------------|------------------|\n",
    "|and              |   &              |\n",
    "| or              |   \\|             |\n",
    "\n"
   ]
  },
  {
   "cell_type": "markdown",
   "metadata": {},
   "source": [
    "|  operator  |  Name   | Description                                    |\n",
    "|------------|---------|------------------------------------------------|\n",
    "| &          | AND     | Sets each bit to 1 if both bits are one        |\n",
    "| \\|         | OR      | sets each bit to 1 if one of two bits is 1     |\n",
    "| ^          | XOR     | sets each bit to 1 if only one of two bits is 1|\n",
    "| ~          | NOT     | Inverts all the bits                           |\n",
    "| <<         | Zero fill left shift  | Shift left by pushing zeros in form the right and let the leftmost bits fall off|\n",
    "| >>         | Signed right Shift| Shift right by pushing copies of the leftmost bit in from the left, and let the rightmost bits fall off|"
   ]
  },
  {
   "cell_type": "code",
   "execution_count": 42,
   "metadata": {},
   "outputs": [
    {
     "data": {
      "text/plain": [
       "True"
      ]
     },
     "execution_count": 42,
     "metadata": {},
     "output_type": "execute_result"
    }
   ],
   "source": [
    "# demonstration boolean-logic operators\n",
    "True or False"
   ]
  },
  {
   "cell_type": "code",
   "execution_count": 43,
   "metadata": {},
   "outputs": [
    {
     "data": {
      "text/plain": [
       "False"
      ]
     },
     "execution_count": 43,
     "metadata": {},
     "output_type": "execute_result"
    }
   ],
   "source": [
    "True and False"
   ]
  },
  {
   "cell_type": "code",
   "execution_count": 44,
   "metadata": {},
   "outputs": [
    {
     "data": {
      "text/plain": [
       "True"
      ]
     },
     "execution_count": 44,
     "metadata": {},
     "output_type": "execute_result"
    }
   ],
   "source": [
    "not False"
   ]
  },
  {
   "cell_type": "markdown",
   "metadata": {},
   "source": [
    "Operator symbols are available in place of the reserved words `and` and `or`:"
   ]
  },
  {
   "cell_type": "code",
   "execution_count": 45,
   "metadata": {},
   "outputs": [
    {
     "data": {
      "text/plain": [
       "True"
      ]
     },
     "execution_count": 45,
     "metadata": {},
     "output_type": "execute_result"
    }
   ],
   "source": [
    "# demonstrating the symbolic logic operators \n",
    "False | True # equivalent to: `False or True` "
   ]
  },
  {
   "cell_type": "code",
   "execution_count": 46,
   "metadata": {},
   "outputs": [
    {
     "data": {
      "text/plain": [
       "False"
      ]
     },
     "execution_count": 46,
     "metadata": {},
     "output_type": "execute_result"
    }
   ],
   "source": [
    "False & True # equivalent to: `False and True`"
   ]
  },
  {
   "cell_type": "markdown",
   "metadata": {},
   "source": [
    "That being said, it is generally more “Pythonic” (i.e. in-vogue with Python users) to favor the use of the word-operators over the symbolic ones.\n",
    "\n",
    "Multiple logic operators can be used in a single line and parentheses can be used to group expressions:"
   ]
  },
  {
   "cell_type": "code",
   "execution_count": 47,
   "metadata": {},
   "outputs": [
    {
     "data": {
      "text/plain": [
       "True"
      ]
     },
     "execution_count": 47,
     "metadata": {},
     "output_type": "execute_result"
    }
   ],
   "source": [
    "(True or False) and True"
   ]
  },
  {
   "cell_type": "markdown",
   "metadata": {},
   "source": [
    "comparision Statement used in basic mathematics naturally return boolean objects."
   ]
  },
  {
   "cell_type": "code",
   "execution_count": 48,
   "metadata": {},
   "outputs": [
    {
     "data": {
      "text/plain": [
       "True"
      ]
     },
     "execution_count": 48,
     "metadata": {},
     "output_type": "execute_result"
    }
   ],
   "source": [
    "2 < 3"
   ]
  },
  {
   "cell_type": "code",
   "execution_count": 49,
   "metadata": {},
   "outputs": [
    {
     "data": {
      "text/plain": [
       "False"
      ]
     },
     "execution_count": 49,
     "metadata": {},
     "output_type": "execute_result"
    }
   ],
   "source": [
    "10.5 < 0"
   ]
  },
  {
   "cell_type": "code",
   "execution_count": 50,
   "metadata": {},
   "outputs": [
    {
     "data": {
      "text/plain": [
       "False"
      ]
     },
     "execution_count": 50,
     "metadata": {},
     "output_type": "execute_result"
    }
   ],
   "source": [
    "(2 < 4) and not ( 4 != -1)"
   ]
  },
  {
   "cell_type": "markdown",
   "metadata": {},
   "source": [
    "The `bool` type has additional utilities, which will be discussed in the “Conditional Statements” section."
   ]
  },
  {
   "cell_type": "markdown",
   "metadata": {},
   "source": [
    "#### Boolean Objects are Integers\n",
    "The two boolean objects `True` and `False` formally belong to the `int` type in addition to `bool`, and are associated with the values `1` and` 0`, respectively:"
   ]
  },
  {
   "cell_type": "code",
   "execution_count": 51,
   "metadata": {},
   "outputs": [
    {
     "data": {
      "text/plain": [
       "True"
      ]
     },
     "execution_count": 51,
     "metadata": {},
     "output_type": "execute_result"
    }
   ],
   "source": [
    "isinstance( True , int)"
   ]
  },
  {
   "cell_type": "code",
   "execution_count": 52,
   "metadata": {},
   "outputs": [
    {
     "data": {
      "text/plain": [
       "1"
      ]
     },
     "execution_count": 52,
     "metadata": {},
     "output_type": "execute_result"
    }
   ],
   "source": [
    "int(True)"
   ]
  },
  {
   "cell_type": "code",
   "execution_count": 53,
   "metadata": {},
   "outputs": [
    {
     "data": {
      "text/plain": [
       "True"
      ]
     },
     "execution_count": 53,
     "metadata": {},
     "output_type": "execute_result"
    }
   ],
   "source": [
    "isinstance(False , int)"
   ]
  },
  {
   "cell_type": "code",
   "execution_count": 54,
   "metadata": {},
   "outputs": [
    {
     "data": {
      "text/plain": [
       "0"
      ]
     },
     "execution_count": 54,
     "metadata": {},
     "output_type": "execute_result"
    }
   ],
   "source": [
    "int(False)"
   ]
  },
  {
   "cell_type": "markdown",
   "metadata": {},
   "source": [
    "As such, they can be used in mathematical expressions interchangeably with 1 and 0"
   ]
  },
  {
   "cell_type": "code",
   "execution_count": 55,
   "metadata": {},
   "outputs": [
    {
     "data": {
      "text/plain": [
       "3"
      ]
     },
     "execution_count": 55,
     "metadata": {},
     "output_type": "execute_result"
    }
   ],
   "source": [
    "3 * True - False # equivalent to : 3 * 1 + 0"
   ]
  },
  {
   "cell_type": "code",
   "execution_count": 56,
   "metadata": {},
   "outputs": [
    {
     "ename": "ZeroDivisionError",
     "evalue": "division by zero",
     "output_type": "error",
     "traceback": [
      "\u001b[1;31m---------------------------------------------------------------------------\u001b[0m",
      "\u001b[1;31mZeroDivisionError\u001b[0m                         Traceback (most recent call last)",
      "\u001b[1;32m<ipython-input-56-7d318107bb08>\u001b[0m in \u001b[0;36m<module>\u001b[1;34m\u001b[0m\n\u001b[1;32m----> 1\u001b[1;33m \u001b[1;32mTrue\u001b[0m \u001b[1;33m/\u001b[0m  \u001b[1;32mFalse\u001b[0m \u001b[1;31m# 1/0 (zero  division  error)\u001b[0m\u001b[1;33m\u001b[0m\u001b[1;33m\u001b[0m\u001b[0m\n\u001b[0m",
      "\u001b[1;31mZeroDivisionError\u001b[0m: division by zero"
     ]
    }
   ],
   "source": [
    "True /  False # 1/0 (zero  division  error)"
   ]
  },
  {
   "cell_type": "markdown",
   "metadata": {},
   "source": [
    "The purpose of having `True` and `False` double as integers is beyond the scope of this section. It is simply useful to be aware of these facts so that this behavior is not completely alien to you as you begin to write code in Python."
   ]
  },
  {
   "cell_type": "markdown",
   "metadata": {},
   "source": [
    "* Assuming `x` is a an integer-type, write a comparison statement that will return `True` if `x` is an even number, and `False` otherwise. (Hint: recall the purpose of the `%` operator)\n",
    "\n",
    "* Assuming `x` and `y` are both real-valued numbers (i.e. not complex numbers), write a line of code that will return `False` if: `x` and `y` are within 0.9 of one another, and `x` is a positive number. (Hint: try writing the expression that will return `True` for this condition, and then negate it)\n",
    "\n",
    "* Write an expression that returns `True` if `x` is a boolean-type object or a float-type object."
   ]
  },
  {
   "cell_type": "markdown",
   "metadata": {},
   "source": [
    "The None-Type\n",
    "There is a simple type, `NoneType` that has exactly one object: `None`. `None `is used to represent “null”… nothing."
   ]
  },
  {
   "cell_type": "code",
   "execution_count": 57,
   "metadata": {},
   "outputs": [
    {
     "data": {
      "text/plain": [
       "NoneType"
      ]
     },
     "execution_count": 57,
     "metadata": {},
     "output_type": "execute_result"
    }
   ],
   "source": [
    "# `None` is the *only* object belonging to NoneType\n",
    "type(None)"
   ]
  },
  {
   "cell_type": "markdown",
   "metadata": {},
   "source": [
    "As such, instead of checking if an object belongs to NoneType, you should simply check if the object is `None`. Python reserves `is` as an operation that checks if two objects are identical. This is different than `==`, which checks if two objects are associated with the same value or state:"
   ]
  },
  {
   "cell_type": "code",
   "execution_count": 58,
   "metadata": {},
   "outputs": [
    {
     "data": {
      "text/plain": [
       "False"
      ]
     },
     "execution_count": 58,
     "metadata": {},
     "output_type": "execute_result"
    }
   ],
   "source": [
    "# check if an object \"is\" None, insted \n",
    "# of checking if it is of NoneType\n",
    "\n",
    "x = 22\n",
    "x is None"
   ]
  },
  {
   "cell_type": "code",
   "execution_count": 59,
   "metadata": {},
   "outputs": [
    {
     "data": {
      "text/plain": [
       "True"
      ]
     },
     "execution_count": 59,
     "metadata": {},
     "output_type": "execute_result"
    }
   ],
   "source": [
    "x is not None"
   ]
  },
  {
   "cell_type": "markdown",
   "metadata": {},
   "source": [
    "`None` appears frequently, and is often used as a placeholder in code. Here is a simple example where `None` could be useful; don’t worry that this code may not make perfect sense to you yet:"
   ]
  },
  {
   "cell_type": "code",
   "execution_count": 60,
   "metadata": {},
   "outputs": [
    {
     "name": "stdout",
     "output_type": "stream",
     "text": [
      "The list did not contain any number larger than 10\n"
     ]
    }
   ],
   "source": [
    "# Demonstrating the use of `None` as a placeholder\n",
    "\n",
    "# In this code, we want to get the first \n",
    "# item in a list that is greater than 10, and notify \n",
    "# the user if there is no such number\n",
    "\n",
    "large_num = None\n",
    "for number in [1 , 2 , 3, 4]:\n",
    "    if number > 10:\n",
    "        large_num = number\n",
    "        break\n",
    "if large_num is None:\n",
    "    print(\"The list did not contain any number larger than 10\")\n",
    "        \n",
    "    "
   ]
  },
  {
   "cell_type": "markdown",
   "metadata": {},
   "source": [
    "### Strings\n",
    "#### Introducing the string type\n",
    "The string type is used to store written characters. A string can be formed using:\n",
    "\n",
    "* single quotes:` 'Hello world' `\n",
    "\n",
    "* double quotes:` \"Hello world\" `\n",
    "\n",
    "* triple quotes:` \"\"\"Hello world\"\"\" `or` '''Hello world''' `"
   ]
  },
  {
   "cell_type": "code",
   "execution_count": 61,
   "metadata": {},
   "outputs": [
    {
     "name": "stdout",
     "output_type": "stream",
     "text": [
      "hello, 你好, Olá, 123\n"
     ]
    }
   ],
   "source": [
    "# String contains written character , even those \n",
    "# not  found in the english alphabet!\n",
    "print(\"hello, 你好, Olá, 123\")"
   ]
  },
  {
   "cell_type": "markdown",
   "metadata": {},
   "source": [
    "By default, Python 3 [uses UTF-8 unicode](https://docs.python.org/3/howto/unicode.html#unicode-howto) to represent this wide variety of characters. Don’t worry about this detail beyond making note of it, for now.\n",
    "\n",
    "Strings belong to the built-in` str `type, which can be used to convert non-string objects into strings."
   ]
  },
  {
   "cell_type": "code",
   "execution_count": 62,
   "metadata": {},
   "outputs": [
    {
     "data": {
      "text/plain": [
       "str"
      ]
     },
     "execution_count": 62,
     "metadata": {},
     "output_type": "execute_result"
    }
   ],
   "source": [
    "# the type ` str `\n",
    "type(\"hello\")"
   ]
  },
  {
   "cell_type": "code",
   "execution_count": 63,
   "metadata": {},
   "outputs": [
    {
     "data": {
      "text/plain": [
       "True"
      ]
     },
     "execution_count": 63,
     "metadata": {},
     "output_type": "execute_result"
    }
   ],
   "source": [
    "isinstance('83' , str)"
   ]
  },
  {
   "cell_type": "code",
   "execution_count": 64,
   "metadata": {},
   "outputs": [
    {
     "data": {
      "text/plain": [
       "'10.34'"
      ]
     },
     "execution_count": 64,
     "metadata": {},
     "output_type": "execute_result"
    }
   ],
   "source": [
    "# Using the ` str ` to convert non-string objects\n",
    "# into string\n",
    "str(10.34)"
   ]
  },
  {
   "cell_type": "markdown",
   "metadata": {},
   "source": [
    "Once a string is formed, it cannot be changed (without creating an entirely new string). Thus a given string object cannot be “mutated” - a string is an immutable object.\n",
    "\n",
    "As the string stores a sequence of characters, Python provides a means for accessing individual characters and subsequences of characters from a string:"
   ]
  },
  {
   "cell_type": "code",
   "execution_count": 65,
   "metadata": {},
   "outputs": [
    {
     "data": {
      "text/plain": [
       "'T'"
      ]
     },
     "execution_count": 65,
     "metadata": {},
     "output_type": "execute_result"
    }
   ],
   "source": [
    "sentence = \"The cat in the hat.\"\n",
    "sentence[0]"
   ]
  },
  {
   "cell_type": "code",
   "execution_count": 66,
   "metadata": {},
   "outputs": [
    {
     "data": {
      "text/plain": [
       "'The'"
      ]
     },
     "execution_count": 66,
     "metadata": {},
     "output_type": "execute_result"
    }
   ],
   "source": [
    "sentence[0:3]"
   ]
  },
  {
   "cell_type": "markdown",
   "metadata": {},
   "source": [
    "Strings are not the only sequence-type in Python; lists and tuples are examples of sequences as well. We will reserve a separate section to learn about the common interface that Python has for all of its types that are sequential in nature, including the “indexing” and “slicing” demonstrated here."
   ]
  },
  {
   "cell_type": "markdown",
   "metadata": {},
   "source": [
    "String essentials\n",
    "We will only scratch the surface with strings, touching on some essentials. Please refer to the [official Python tutorial](https://docs.python.org/3/tutorial/introduction.html#strings) for a more extensive, but still informal, overview of strings.\n",
    "\n",
    "In a string, `\\n` is treated as a single character. It denotes a new-line in a string, and will be rendered thusly when the string is printed. Similarly, `\\t` will render as a tab-character."
   ]
  },
  {
   "cell_type": "code",
   "execution_count": 67,
   "metadata": {},
   "outputs": [
    {
     "name": "stdout",
     "output_type": "stream",
     "text": [
      "hii..\n",
      "...bye\n"
     ]
    }
   ],
   "source": [
    "# using \\n to create a new line \n",
    "print(\"hii..\\n...bye\")"
   ]
  },
  {
   "cell_type": "code",
   "execution_count": 68,
   "metadata": {},
   "outputs": [
    {
     "data": {
      "text/plain": [
       "'I am string.\\nI am part of the same string.\\nme... too!1'"
      ]
     },
     "execution_count": 68,
     "metadata": {},
     "output_type": "execute_result"
    }
   ],
   "source": [
    "# using triple-quotes to write amultiple-line string \n",
    "x = \"\"\"I am string.\n",
    "I am part of the same string.\n",
    "me... too!1\"\"\"\n",
    "x"
   ]
  },
  {
   "cell_type": "markdown",
   "metadata": {},
   "source": [
    "Python’s strings have a large number of fantastic, built-in functions available to them. It is very important that you familiarize yourself with these functions by looking over [the official documentation](https://docs.python.org/3/library/stdtypes.html#string-methods). To demonstrate a few of these:"
   ]
  },
  {
   "cell_type": "code",
   "execution_count": 69,
   "metadata": {},
   "outputs": [
    {
     "data": {
      "text/plain": [
       "'Hello'"
      ]
     },
     "execution_count": 69,
     "metadata": {},
     "output_type": "execute_result"
    }
   ],
   "source": [
    "# demonstrating a few of the built-in functions for strings\n",
    "\"hello\".capitalize()"
   ]
  },
  {
   "cell_type": "code",
   "execution_count": 70,
   "metadata": {},
   "outputs": [
    {
     "data": {
      "text/plain": [
       "'item1...item2...item3'"
      ]
     },
     "execution_count": 70,
     "metadata": {},
     "output_type": "execute_result"
    }
   ],
   "source": [
    "# join a list of strings , using \"...\"\n",
    "\"...\".join([\"item1\" , \"item2\" , \"item3\"])"
   ]
  },
  {
   "cell_type": "code",
   "execution_count": 71,
   "metadata": {},
   "outputs": [
    {
     "data": {
      "text/plain": [
       "('item1', 'item2', ['item3'])"
      ]
     },
     "execution_count": 71,
     "metadata": {},
     "output_type": "execute_result"
    }
   ],
   "source": [
    "# split a string wherever \",\" occurs \n",
    "\"item1\" , \"item2\" , \"item3\".split(',')"
   ]
  },
  {
   "cell_type": "code",
   "execution_count": 72,
   "metadata": {},
   "outputs": [
    {
     "data": {
      "text/plain": [
       "True"
      ]
     },
     "execution_count": 72,
     "metadata": {},
     "output_type": "execute_result"
    }
   ],
   "source": [
    "# does this string end with \".py\"?\n",
    "\"script.py\".endswith(\".py\")"
   ]
  },
  {
   "cell_type": "code",
   "execution_count": 73,
   "metadata": {},
   "outputs": [
    {
     "data": {
      "text/plain": [
       "True"
      ]
     },
     "execution_count": 73,
     "metadata": {},
     "output_type": "execute_result"
    }
   ],
   "source": [
    "# does the steing start with \"sc\"?\n",
    "\"script.py\".startswith(\"sc\")"
   ]
  },
  {
   "cell_type": "code",
   "execution_count": 74,
   "metadata": {},
   "outputs": [
    {
     "data": {
      "text/plain": [
       "'x:3.2 , y:8.4 , z:-1.0'"
      ]
     },
     "execution_count": 74,
     "metadata": {},
     "output_type": "execute_result"
    }
   ],
   "source": [
    "# inserting objects into a string , in its \n",
    "# \"formating\" fields {}\n",
    "\"x:{} , y:{} , z:{}\".format(3.2 , 8.4 , -1.0)"
   ]
  },
  {
   "cell_type": "code",
   "execution_count": 75,
   "metadata": {},
   "outputs": [
    {
     "data": {
      "text/plain": [
       "True"
      ]
     },
     "execution_count": 75,
     "metadata": {},
     "output_type": "execute_result"
    }
   ],
   "source": [
    "# Are the characters in the string \n",
    "# numerical digits?\n",
    "\"7\".isdigit()"
   ]
  },
  {
   "cell_type": "markdown",
   "metadata": {},
   "source": [
    "#### Formatting strings\n",
    "Python provides multiple syntaxes for formatting strings; these permit us to do things like programmatically inject the values of variables into strings, align fields using whitespace, and control the number of decimal places with which numbers are displayed in a string. This section is designed to simply expose the reader to the different varieties of string-formatting.\n",
    "\n",
    "[pyformat.info](https://pyformat.info/) is the best resource to consult to see an exhaustive (but still intuitive) treatment of string-formatting in Python. You can also refer to the official documentation [here](https://docs.python.org/3/library/string.html#format-examples).\n",
    "\n",
    "In Python 3, you can leverage the `format` method towards this end:"
   ]
  },
  {
   "cell_type": "code",
   "execution_count": 76,
   "metadata": {},
   "outputs": [
    {
     "data": {
      "text/plain": [
       "'Bruce is 80 years old'"
      ]
     },
     "execution_count": 76,
     "metadata": {},
     "output_type": "execute_result"
    }
   ],
   "source": [
    "# using ` format` to replace placeholder with values \n",
    "\"{name} is {age} years old\".format(name=\"Bruce\" , age=80)"
   ]
  },
  {
   "cell_type": "code",
   "execution_count": 77,
   "metadata": {},
   "outputs": [
    {
     "data": {
      "text/plain": [
       "'    stew'"
      ]
     },
     "execution_count": 77,
     "metadata": {},
     "output_type": "execute_result"
    }
   ],
   "source": [
    "# padding a string with leading-space so that it has at least  8 characters\n",
    "\"{item:>8}\".format(item=\"stew\")"
   ]
  },
  {
   "cell_type": "markdown",
   "metadata": {},
   "source": [
    "Note that you may encounter the use of the cryptic` % `operator to format strings to the same effect:"
   ]
  },
  {
   "cell_type": "code",
   "execution_count": 78,
   "metadata": {},
   "outputs": [
    {
     "data": {
      "text/plain": [
       "'My name is Selina'"
      ]
     },
     "execution_count": 78,
     "metadata": {},
     "output_type": "execute_result"
    }
   ],
   "source": [
    "# using ` % ` to format string (avoid this)\n",
    "name = \"Selina\"\n",
    "\"My name is %s\" % name "
   ]
  },
  {
   "cell_type": "markdown",
   "metadata": {},
   "source": [
    "this is a relic of Python 2; it is recommend that you avoid this formatting syntax.\n",
    "\n",
    "If you are using Python 3.6 or beyond, then you have the luxury of being able to use f-strings, which provide a supremely convenient means for formatting strings. Here is an example of an f-string in action:"
   ]
  },
  {
   "cell_type": "code",
   "execution_count": 79,
   "metadata": {},
   "outputs": [
    {
     "data": {
      "text/plain": [
       "'Batman has 12 apples. Catwomen has 10 apples. Together , they have 22 apples'"
      ]
     },
     "execution_count": 79,
     "metadata": {},
     "output_type": "execute_result"
    }
   ],
   "source": [
    "# an example of an \"f-string\"\n",
    "batman = 12\n",
    "catwomen = 10\n",
    "f\"Batman has {batman} apples . Catwomen has {catwomen} apples. Togather , they have {batman + catwomen} apples\"\n",
    "'Batman has 12 apples. Catwomen has 10 apples. Together , they have 22 apples'"
   ]
  },
  {
   "cell_type": "markdown",
   "metadata": {},
   "source": [
    "See that an f-string has a special syntax; an f-string is denoted by preceding the opening quotation mark with the lowercase f character:"
   ]
  },
  {
   "cell_type": "code",
   "execution_count": 80,
   "metadata": {},
   "outputs": [
    {
     "data": {
      "text/plain": [
       "''"
      ]
     },
     "execution_count": 80,
     "metadata": {},
     "output_type": "execute_result"
    }
   ],
   "source": [
    "# this is typical empty string \n",
    "\"\""
   ]
  },
  {
   "cell_type": "code",
   "execution_count": 81,
   "metadata": {},
   "outputs": [
    {
     "data": {
      "text/plain": [
       "''"
      ]
     },
     "execution_count": 81,
     "metadata": {},
     "output_type": "execute_result"
    }
   ],
   "source": [
    "# this is empty f-string\n",
    "f\"\""
   ]
  },
  {
   "cell_type": "markdown",
   "metadata": {},
   "source": [
    "An f-string is special because it permits us to write Python code within a string; any expression within curly brackets,` {}`, will be executed as Python code, and the resulting value will be converted to a string and inserted into the f-string at that position."
   ]
  },
  {
   "cell_type": "code",
   "execution_count": 82,
   "metadata": {},
   "outputs": [
    {
     "data": {
      "text/plain": [
       "\"x is a <class 'float'>-number . Its value is 7.9.The statement 'x is greater than 5' is True\""
      ]
     },
     "execution_count": 82,
     "metadata": {},
     "output_type": "execute_result"
    }
   ],
   "source": [
    "x = 7.9\n",
    "f\"x is a {type(x)}-number . Its value is {x}.The statement 'x is greater than 5' is {x > 5}\""
   ]
  },
  {
   "cell_type": "markdown",
   "metadata": {},
   "source": [
    "As seen in the preceding examples, this permits us to elegantly include variables in our strings and even do things like call functions within the string construction syntax."
   ]
  },
  {
   "cell_type": "markdown",
   "metadata": {},
   "source": [
    "#### f-string Compatibility:\n",
    "\n",
    "The ‘f-string’ syntax was introduced in Python 3.6. It is not available in earlier versions of Python."
   ]
  },
  {
   "cell_type": "markdown",
   "metadata": {},
   "source": [
    "#### Official documentation for strings\n",
    "It is highly recommended that you take time to read over all of the functions that are built-in to a string.\n",
    "\n",
    "* [Built-in functions for strings](https://docs.python.org/3/library/stdtypes.html#string-methods)\n",
    "\n",
    "* [Formatting strings](https://docs.python.org/3/library/string.html#format-examples)"
   ]
  },
  {
   "cell_type": "markdown",
   "metadata": {},
   "source": [
    "#### Reading Comprehension: Strings\n",
    "\n",
    "To answer some of the following questions, you will need to peruse the documentation for the built-in functions of strings. It may take a bit of experimentation to understand the documentation’s use of square-brackets to indicate optional inputs for a function.\n",
    "\n",
    "* Use a function that will take the string` \"cat\"`, and returns the string` \"   cat    \" `(which has a length of 11, including the letters c, a, t). Now, change the way you call the function so that it returns` \"----cat----\" `instead.\n",
    "\n",
    "* Replace the first three periods of this string with a space-character: `\"I.am.aware.that.spaces.are.a.thing\"`\n",
    "\n",
    "* Remove the whitespace from both ends of:` \"  basket    \"`\n",
    "\n",
    "* Create a string that will print as (the second line begins with a tab-character):\n",
    "\n",
    ">`Hello\n",
    "    over there`\n",
    "* Convert the integer` 12 `to the string` \"12\"`.\n",
    "\n",
    "* Only kids 13 and up are allowed to see Wayne’s World. Given the variables `name` (a string) and `age` (an integer), use an f-string that will display: “NAME is old enough to watch the movie: BOOL”, where NAME is to be replaced with the kid’s name, and BOOL should be `True` if the kid is at least 13 years old, and `False` otherwise."
   ]
  },
  {
   "cell_type": "markdown",
   "metadata": {},
   "source": [
    "#### Lists\n",
    "A` list `is a type of Python object that allows us to store a sequence of other objects. One of its major utilities is that it provides us with means for updating the contents of a list later on.\n",
    "\n",
    "A list object is created using square-brackets, and its contents are separated by commas:` [item1, item2, ..., itemN]`. Its contents need not be of the same type of object."
   ]
  },
  {
   "cell_type": "code",
   "execution_count": 83,
   "metadata": {},
   "outputs": [
    {
     "data": {
      "text/plain": [
       "[3.5, None, 3.5, True, 'hello']"
      ]
     },
     "execution_count": 83,
     "metadata": {},
     "output_type": "execute_result"
    }
   ],
   "source": [
    "# a list-type object stores a sequence of other objects\n",
    "[3.5 , None , 3.5 , True , \"hello\"]"
   ]
  },
  {
   "cell_type": "code",
   "execution_count": 84,
   "metadata": {},
   "outputs": [
    {
     "data": {
      "text/plain": [
       "list"
      ]
     },
     "execution_count": 84,
     "metadata": {},
     "output_type": "execute_result"
    }
   ],
   "source": [
    "type([1,2,3,4])"
   ]
  },
  {
   "cell_type": "code",
   "execution_count": 85,
   "metadata": {},
   "outputs": [
    {
     "data": {
      "text/plain": [
       "True"
      ]
     },
     "execution_count": 85,
     "metadata": {},
     "output_type": "execute_result"
    }
   ],
   "source": [
    "isinstance([1,3] , list)"
   ]
  },
  {
   "cell_type": "code",
   "execution_count": 86,
   "metadata": {},
   "outputs": [
    {
     "data": {
      "text/plain": [
       "[]"
      ]
     },
     "execution_count": 86,
     "metadata": {},
     "output_type": "execute_result"
    }
   ],
   "source": [
    "# constructing an empty list\n",
    "[]"
   ]
  },
  {
   "cell_type": "code",
   "execution_count": 87,
   "metadata": {},
   "outputs": [
    {
     "data": {
      "text/plain": [
       "['hello']"
      ]
     },
     "execution_count": 87,
     "metadata": {},
     "output_type": "execute_result"
    }
   ],
   "source": [
    "# constructing a list with only one member\n",
    "[\"hello\"]"
   ]
  },
  {
   "cell_type": "markdown",
   "metadata": {},
   "source": [
    "You can also include variables, equations, and other Python expressions in the list constructor; Python will simplify these expressions and construct the list with the resulting objects.\n",
    "\n"
   ]
  },
  {
   "cell_type": "code",
   "execution_count": 88,
   "metadata": {},
   "outputs": [
    {
     "data": {
      "text/plain": [
       "[True, 'Hello', 25, [1, 2]]"
      ]
     },
     "execution_count": 88,
     "metadata": {},
     "output_type": "execute_result"
    }
   ],
   "source": [
    "# the list constructor will simplify expressions\n",
    "# and store their resulting objects\n",
    "x = \"hello\"\n",
    "[2 < 3 , x.capitalize() , 5**2 , [1,2]]"
   ]
  },
  {
   "cell_type": "markdown",
   "metadata": {},
   "source": [
    "The built-in `list` type can be used to convert other types of sequences (and more generally, any iterable object, which we will discuss later) into a list:"
   ]
  },
  {
   "cell_type": "code",
   "execution_count": 89,
   "metadata": {},
   "outputs": [
    {
     "data": {
      "text/plain": [
       "['A', 'p', 'p', 'l', 'e', 's']"
      ]
     },
     "execution_count": 89,
     "metadata": {},
     "output_type": "execute_result"
    }
   ],
   "source": [
    "# `list` forms a list out of the contents of other sequences\n",
    "list(\"Apples\")"
   ]
  },
  {
   "cell_type": "markdown",
   "metadata": {},
   "source": [
    "#### Lists are sequences\n",
    "Like a string, the ordering of a list’s contents matters, meaning that a list is sequential in nature."
   ]
  },
  {
   "cell_type": "code",
   "execution_count": 90,
   "metadata": {},
   "outputs": [
    {
     "data": {
      "text/plain": [
       "False"
      ]
     },
     "execution_count": 90,
     "metadata": {},
     "output_type": "execute_result"
    }
   ],
   "source": [
    "# a list's ordering matters\n",
    "[1 , \"a\" , True] == [1 , True , \"a\"]"
   ]
  },
  {
   "cell_type": "markdown",
   "metadata": {},
   "source": [
    "Thus a list supports the same mechanism for accessing its contents, via indexing and slicing, as does a string. Indexing and slicing will be covered in detail in the next section."
   ]
  },
  {
   "cell_type": "code",
   "execution_count": 91,
   "metadata": {},
   "outputs": [],
   "source": [
    "# Acessing the contents of a list with indexing and slicing\n",
    "x = [2 , 4 ,6 ,8, 10]"
   ]
  },
  {
   "cell_type": "code",
   "execution_count": 92,
   "metadata": {},
   "outputs": [
    {
     "data": {
      "text/plain": [
       "5"
      ]
     },
     "execution_count": 92,
     "metadata": {},
     "output_type": "execute_result"
    }
   ],
   "source": [
    "# `x` contains five items\n",
    "len(x)"
   ]
  },
  {
   "cell_type": "code",
   "execution_count": 93,
   "metadata": {},
   "outputs": [
    {
     "data": {
      "text/plain": [
       "2"
      ]
     },
     "execution_count": 93,
     "metadata": {},
     "output_type": "execute_result"
    }
   ],
   "source": [
    "# acess the 0th item in the list via \"indexing\"\n",
    "x[0]"
   ]
  },
  {
   "cell_type": "code",
   "execution_count": 94,
   "metadata": {},
   "outputs": [
    {
     "data": {
      "text/plain": [
       "[4, 6]"
      ]
     },
     "execution_count": 94,
     "metadata": {},
     "output_type": "execute_result"
    }
   ],
   "source": [
    "# acess a subsequence of the list via \"slicing\"\n",
    "x[1:3]"
   ]
  },
  {
   "cell_type": "markdown",
   "metadata": {},
   "source": [
    "#### Lists can be “mutated”\n",
    "We will encounter other types of containers in Python, what makes the list stand out is that the contents of a list can be changed after the list has already been constructed. Thus a list is an example of a mutable object."
   ]
  },
  {
   "cell_type": "code",
   "execution_count": 95,
   "metadata": {},
   "outputs": [],
   "source": [
    "# changing a list after it has been constructed \n",
    "x = [2 , 4 , 6 , 8 , 10]\n",
    "y = [2, 4 , 6 , 8 , 10]"
   ]
  },
  {
   "cell_type": "code",
   "execution_count": 96,
   "metadata": {},
   "outputs": [],
   "source": [
    "# \"set\" the string \"apple\" into positions 1 0f \" x\"\n",
    "x[1] = 'apple'"
   ]
  },
  {
   "cell_type": "code",
   "execution_count": 97,
   "metadata": {},
   "outputs": [
    {
     "data": {
      "text/plain": [
       "[2, 'apple', 6, 8, 10]"
      ]
     },
     "execution_count": 97,
     "metadata": {},
     "output_type": "execute_result"
    }
   ],
   "source": [
    "x"
   ]
  },
  {
   "cell_type": "code",
   "execution_count": 98,
   "metadata": {},
   "outputs": [
    {
     "data": {
      "text/plain": [
       "[2, -3, -4, -5, 10]"
      ]
     },
     "execution_count": 98,
     "metadata": {},
     "output_type": "execute_result"
    }
   ],
   "source": [
    "# replace a subsequence of `y`\n",
    "y[1:4] = [-3  , -4  , -5]\n",
    "y"
   ]
  },
  {
   "cell_type": "markdown",
   "metadata": {},
   "source": [
    "The built-in list-functions “append” and “extend” allow us to add one item and multiple items to the end of a list, respectively:"
   ]
  },
  {
   "cell_type": "code",
   "execution_count": 99,
   "metadata": {},
   "outputs": [
    {
     "data": {
      "text/plain": [
       "[2, 4, 6, 8, 10, 'moo']"
      ]
     },
     "execution_count": 99,
     "metadata": {},
     "output_type": "execute_result"
    }
   ],
   "source": [
    "x = [2,4,6,8,10]\n",
    "# use `append` to add a single object to the end of a list\n",
    "x.append('moo')\n",
    "x"
   ]
  },
  {
   "cell_type": "code",
   "execution_count": 100,
   "metadata": {},
   "outputs": [
    {
     "data": {
      "text/plain": [
       "[2, 4, 6, 8, 10, 'moo', True, False, None]"
      ]
     },
     "execution_count": 100,
     "metadata": {},
     "output_type": "execute_result"
    }
   ],
   "source": [
    "# use `extend` to add a sequence of items to the end of a list\n",
    "x.extend([True , False , None])\n",
    "x"
   ]
  },
  {
   "cell_type": "markdown",
   "metadata": {},
   "source": [
    "The “pop” and “remove” functions allow us to remove an item from a list based on its position in the list, or by specifying the item itself, respectively."
   ]
  },
  {
   "cell_type": "code",
   "execution_count": 101,
   "metadata": {},
   "outputs": [
    {
     "data": {
      "text/plain": [
       "'b'"
      ]
     },
     "execution_count": 101,
     "metadata": {},
     "output_type": "execute_result"
    }
   ],
   "source": [
    "x = ['a' , 'b' , 'c' , 'd']\n",
    "# pop the position-1 item out from a list\n",
    "# `pop` will return the item that gets removed.\n",
    "\n",
    "x.pop(1)"
   ]
  },
  {
   "cell_type": "code",
   "execution_count": 102,
   "metadata": {},
   "outputs": [
    {
     "data": {
      "text/plain": [
       "['a', 'c', 'd']"
      ]
     },
     "execution_count": 102,
     "metadata": {},
     "output_type": "execute_result"
    }
   ],
   "source": [
    "x"
   ]
  },
  {
   "cell_type": "code",
   "execution_count": 103,
   "metadata": {},
   "outputs": [
    {
     "data": {
      "text/plain": [
       "['a', 'c']"
      ]
     },
     "execution_count": 103,
     "metadata": {},
     "output_type": "execute_result"
    }
   ],
   "source": [
    "# remove the object \"d\" from the list\n",
    "x.remove('d')\n",
    "x"
   ]
  },
  {
   "cell_type": "markdown",
   "metadata": {},
   "source": [
    "#### Official documentation for lists\n",
    "It is highly recommended that you take time to read over all of the functions that are built-in to a list. These are all designed to allow us to either inspect or mutate the contents of a list.\n",
    "\n",
    "* [Built-in functions for a list](https://docs.python.org/3/tutorial/datastructures.html#more-on-lists)"
   ]
  },
  {
   "cell_type": "markdown",
   "metadata": {},
   "source": [
    "Reading Comprehension: Lists\n",
    "\n",
    "To answer some of the following questions, you will need to peruse the documentation for the built-in functions of lists.\n",
    "\n",
    "Create a list whose sole entry is the` None `object.\n",
    "\n",
    "Assign to the variable `k` a list that contains an integer, a boolean, and a string, in that order. Then, add two more entries to the end of the list: a float and a complex number.\n",
    "\n",
    "Alphabetize the list of names: `[\"Jane\", \"Adam\", \"Ryan\", \"Bob\", \"Zordon\", \"Jack\", \"Jackenzie\"]`.\n",
    "\n"
   ]
  },
  {
   "cell_type": "markdown",
   "metadata": {},
   "source": [
    "#### Summary\n",
    "The term “object” is a catch-all in Python, meaning anything that we can assign to a variable. Objects behave differently from one another according to what “type” a given object is.\n",
    "\n",
    "We reviewed several fundamental object types in Python:\n",
    "\n",
    "* `int`, `float`, `complex`: the numerical types\n",
    "\n",
    "* `bool`: the boolean type. `True` and `False` are the only boolean-type objects\n",
    "\n",
    "* `NoneType`: the “null” type; `None` is the only object that belongs to this type\n",
    "\n",
    "* `str`: the string type\n",
    "\n",
    "* `list`: the list type\n",
    "\n",
    "The built-in function `type` permits us to check the type of any object:"
   ]
  },
  {
   "cell_type": "markdown",
   "metadata": {},
   "source": [
    "## Sequence Types\n",
    "#### Note:\n",
    "\n",
    ">There are reading-comprehension exercises included throughout the text. These are meant to help you put your reading to practice. Solutions for the exercises are included at the bottom of this page.\n",
    "\n",
    "The following objects are all example of sequences:"
   ]
  },
  {
   "cell_type": "code",
   "execution_count": 104,
   "metadata": {},
   "outputs": [
    {
     "data": {
      "text/plain": [
       "[0, None, -2, 1]"
      ]
     },
     "execution_count": 104,
     "metadata": {},
     "output_type": "execute_result"
    }
   ],
   "source": [
    "# example of sequence\n",
    "\n",
    "# a list\n",
    "[0 , None , -2 , 1 ]"
   ]
  },
  {
   "cell_type": "code",
   "execution_count": 105,
   "metadata": {},
   "outputs": [
    {
     "data": {
      "text/plain": [
       "'hello out there'"
      ]
     },
     "execution_count": 105,
     "metadata": {},
     "output_type": "execute_result"
    }
   ],
   "source": [
    "# a string\n",
    "'hello out there'"
   ]
  },
  {
   "cell_type": "code",
   "execution_count": 106,
   "metadata": {},
   "outputs": [
    {
     "data": {
      "text/plain": [
       "('a', False, 0, 1)"
      ]
     },
     "execution_count": 106,
     "metadata": {},
     "output_type": "execute_result"
    }
   ],
   "source": [
    "# a tuple\n",
    "('a' , False , 0 , 1)"
   ]
  },
  {
   "cell_type": "code",
   "execution_count": 107,
   "metadata": {},
   "outputs": [],
   "source": [
    "# a Numpy array\n",
    "import numpy as np"
   ]
  },
  {
   "cell_type": "code",
   "execution_count": 108,
   "metadata": {},
   "outputs": [
    {
     "ename": "TypeError",
     "evalue": "'float' object cannot be interpreted as an integer",
     "output_type": "error",
     "traceback": [
      "\u001b[1;31m---------------------------------------------------------------------------\u001b[0m",
      "\u001b[1;31mTypeError\u001b[0m                                 Traceback (most recent call last)",
      "\u001b[1;32m<ipython-input-108-72cee9d59c82>\u001b[0m in \u001b[0;36m<module>\u001b[1;34m\u001b[0m\n\u001b[1;32m----> 1\u001b[1;33m \u001b[0mnp\u001b[0m\u001b[1;33m.\u001b[0m\u001b[0mndarray\u001b[0m\u001b[1;33m(\u001b[0m\u001b[1;33m[\u001b[0m\u001b[1;36m0.2\u001b[0m\u001b[1;33m,\u001b[0m \u001b[1;36m0.4\u001b[0m\u001b[1;33m,\u001b[0m \u001b[1;36m0.6\u001b[0m\u001b[1;33m,\u001b[0m \u001b[1;36m0.8\u001b[0m\u001b[1;33m]\u001b[0m\u001b[1;33m)\u001b[0m\u001b[1;33m\u001b[0m\u001b[1;33m\u001b[0m\u001b[0m\n\u001b[0m",
      "\u001b[1;31mTypeError\u001b[0m: 'float' object cannot be interpreted as an integer"
     ]
    }
   ],
   "source": [
    "np.ndarray([0.2, 0.4, 0.6, 0.8])"
   ]
  },
  {
   "cell_type": "markdown",
   "metadata": {},
   "source": [
    "Being able to work with sequences of objects/data is so important that it warrants us to take our first (relatively) deep dive into Python. The preceding reading introduced Python lists and strings, two important objects that are built into the Python language. Although quite distinct from one another in terms of what they can contain, lists and strings are both types of sequences - they store a finite collection of objects whose ordering matters (e.g.` \"cat\"` and` \"tac\" `should be considered distinct strings). As such, lists, strings, and the other sequence types in Python all share a common interface for allowing users to inspect, retrieve, and summarize their contents.\n",
    "\n",
    "In this section, we will:\n",
    "\n",
    "* Introduce tuples, the last built-in sequence type that we have yet to encounter.\n",
    "\n",
    "* Demonstrate the common interface that can be used to inspect and summarize the contents of a sequence.\n",
    "\n",
    "* Detail the all-important indexing scheme used by Python, which will allow us to access specific items or subsequences from a sequence."
   ]
  },
  {
   "cell_type": "markdown",
   "metadata": {},
   "source": [
    "#### Tuples\n",
    "The last built-in sequence type that we have yet to encounter is the tuple type. A tuple is very similar to a list, in that it can store a sequence of arbitrary objects (a mix of numbers, strings, lists, other tuples, etc.). Where lists are constructed using square-brackets, tuples use parentheses:"
   ]
  },
  {
   "cell_type": "code",
   "execution_count": 109,
   "metadata": {},
   "outputs": [],
   "source": [
    "# creating a tuple\n",
    "x = (1, \"a\" , 2) # tuple with 3 emtries\n",
    "\n"
   ]
  },
  {
   "cell_type": "code",
   "execution_count": 110,
   "metadata": {},
   "outputs": [
    {
     "data": {
      "text/plain": [
       "tuple"
      ]
     },
     "execution_count": 110,
     "metadata": {},
     "output_type": "execute_result"
    }
   ],
   "source": [
    "# (3) does not make a tuple with one entry\n",
    "# you must provide a training comma in this\n",
    "# instance\n",
    "y = (3,)  # a tuple with 1 entry\n",
    "\n",
    "type(x)"
   ]
  },
  {
   "cell_type": "code",
   "execution_count": 111,
   "metadata": {},
   "outputs": [
    {
     "data": {
      "text/plain": [
       "True"
      ]
     },
     "execution_count": 111,
     "metadata": {},
     "output_type": "execute_result"
    }
   ],
   "source": [
    "isinstance(y  , tuple)"
   ]
  },
  {
   "cell_type": "markdown",
   "metadata": {},
   "source": [
    "#### Checking multiple types:\n",
    "\n",
    "`isinstance` can be used to check multiple types at once, by supplying it a tuple of types. That is,\n",
    "\n",
    ">isinstance(x, (tuple, list, str))\n",
    "\n",
    "Will check if` x `is a tuple or a list or a string."
   ]
  },
  {
   "cell_type": "code",
   "execution_count": 112,
   "metadata": {},
   "outputs": [
    {
     "data": {
      "text/plain": [
       "True"
      ]
     },
     "execution_count": 112,
     "metadata": {},
     "output_type": "execute_result"
    }
   ],
   "source": [
    "isinstance(x , (tuple , list , str))"
   ]
  },
  {
   "cell_type": "markdown",
   "metadata": {},
   "source": [
    "Unlike a list, once a tuple is formed, it cannot be changed. That is, a tuple is immutable, whereas a list is mutable. Tuples generally consume less memory than do lists, since it is known that a tuple will not change in size. Furthermore, tuples come in handy when you want to ensure that a sequence of data cannot be changed by subsequent code.m"
   ]
  },
  {
   "cell_type": "code",
   "execution_count": 113,
   "metadata": {},
   "outputs": [
    {
     "data": {
      "text/plain": [
       "[2, 'moo', None]"
      ]
     },
     "execution_count": 113,
     "metadata": {},
     "output_type": "execute_result"
    }
   ],
   "source": [
    "# the contents of a list can be changed: it is \"mutable\"\n",
    "x = [1, \"moo\"  , None]\n",
    "x[0] = 2\n",
    "x"
   ]
  },
  {
   "cell_type": "code",
   "execution_count": 114,
   "metadata": {},
   "outputs": [
    {
     "ename": "TypeError",
     "evalue": "'tuple' object does not support item assignment",
     "output_type": "error",
     "traceback": [
      "\u001b[1;31m---------------------------------------------------------------------------\u001b[0m",
      "\u001b[1;31mTypeError\u001b[0m                                 Traceback (most recent call last)",
      "\u001b[1;32m<ipython-input-114-988eee935c01>\u001b[0m in \u001b[0;36m<module>\u001b[1;34m\u001b[0m\n\u001b[0;32m      1\u001b[0m \u001b[1;31m# the contents of a tuple cannot be changed it is 'immutable'\u001b[0m\u001b[1;33m\u001b[0m\u001b[1;33m\u001b[0m\u001b[1;33m\u001b[0m\u001b[0m\n\u001b[0;32m      2\u001b[0m \u001b[0my\u001b[0m \u001b[1;33m=\u001b[0m \u001b[1;33m(\u001b[0m\u001b[1;36m1\u001b[0m\u001b[1;33m,\u001b[0m \u001b[1;34m'moo'\u001b[0m \u001b[1;33m,\u001b[0m \u001b[1;32mNone\u001b[0m\u001b[1;33m)\u001b[0m\u001b[1;33m\u001b[0m\u001b[1;33m\u001b[0m\u001b[0m\n\u001b[1;32m----> 3\u001b[1;33m \u001b[0my\u001b[0m\u001b[1;33m[\u001b[0m\u001b[1;36m0\u001b[0m\u001b[1;33m]\u001b[0m \u001b[1;33m=\u001b[0m \u001b[1;36m2\u001b[0m\u001b[1;33m\u001b[0m\u001b[1;33m\u001b[0m\u001b[0m\n\u001b[0m\u001b[0;32m      4\u001b[0m \u001b[0my\u001b[0m\u001b[1;33m\u001b[0m\u001b[1;33m\u001b[0m\u001b[0m\n",
      "\u001b[1;31mTypeError\u001b[0m: 'tuple' object does not support item assignment"
     ]
    }
   ],
   "source": [
    "# the contents of a tuple cannot be changed it is 'immutable'\n",
    "y = (1, 'moo' , None)\n",
    "y[0] = 2\n",
    "y"
   ]
  },
  {
   "cell_type": "markdown",
   "metadata": {},
   "source": [
    "`tuple` can be used to convert other sequences (other iterables, more generally) into tuples. str and `list` behave similarly."
   ]
  },
  {
   "cell_type": "code",
   "execution_count": 115,
   "metadata": {},
   "outputs": [],
   "source": [
    "# tuple can create a tuple out of other sequences\n",
    "x = [2,4,8]\n",
    "y = tuple(x)"
   ]
  },
  {
   "cell_type": "code",
   "execution_count": 116,
   "metadata": {},
   "outputs": [
    {
     "data": {
      "text/plain": [
       "[2, 4, 8]"
      ]
     },
     "execution_count": 116,
     "metadata": {},
     "output_type": "execute_result"
    }
   ],
   "source": [
    "x"
   ]
  },
  {
   "cell_type": "code",
   "execution_count": 117,
   "metadata": {},
   "outputs": [
    {
     "data": {
      "text/plain": [
       "(2, 4, 8)"
      ]
     },
     "execution_count": 117,
     "metadata": {},
     "output_type": "execute_result"
    }
   ],
   "source": [
    "y"
   ]
  },
  {
   "cell_type": "markdown",
   "metadata": {},
   "source": [
    "#### Working with sequences\n",
    "The following summarizes the common interface that is shared by Python’s different types of sequence, which includes lists, tuples, and strings. This interface allows you to inspect, summarize, join, and retrieve members from any variety of sequence.\n",
    "\n",
    "**Checking if an object is contained within a sequence:**` obj in seq`"
   ]
  },
  {
   "cell_type": "code",
   "execution_count": 118,
   "metadata": {},
   "outputs": [
    {
     "data": {
      "text/plain": [
       "True"
      ]
     },
     "execution_count": 118,
     "metadata": {},
     "output_type": "execute_result"
    }
   ],
   "source": [
    "x  = (1, 3, 5)\n",
    "3 in x"
   ]
  },
  {
   "cell_type": "code",
   "execution_count": 119,
   "metadata": {},
   "outputs": [
    {
     "data": {
      "text/plain": [
       "False"
      ]
     },
     "execution_count": 119,
     "metadata": {},
     "output_type": "execute_result"
    }
   ],
   "source": [
    "0 in x"
   ]
  },
  {
   "cell_type": "code",
   "execution_count": 120,
   "metadata": {},
   "outputs": [
    {
     "data": {
      "text/plain": [
       "True"
      ]
     },
     "execution_count": 120,
     "metadata": {},
     "output_type": "execute_result"
    }
   ],
   "source": [
    "0 not in x"
   ]
  },
  {
   "cell_type": "code",
   "execution_count": 121,
   "metadata": {},
   "outputs": [
    {
     "data": {
      "text/plain": [
       "True"
      ]
     },
     "execution_count": 121,
     "metadata": {},
     "output_type": "execute_result"
    }
   ],
   "source": [
    "# string can also test for sub-sequence membership\n",
    "'cat' in 'the cat in the hat'"
   ]
  },
  {
   "cell_type": "code",
   "execution_count": 122,
   "metadata": {},
   "outputs": [
    {
     "data": {
      "text/plain": [
       "False"
      ]
     },
     "execution_count": 122,
     "metadata": {},
     "output_type": "execute_result"
    }
   ],
   "source": [
    "# you cannot test for sub-sequence membership in other\n",
    "# type of sequences\n",
    "[1 , 2]  in  [1, 2, 3, 4]"
   ]
  },
  {
   "cell_type": "code",
   "execution_count": 123,
   "metadata": {},
   "outputs": [
    {
     "data": {
      "text/plain": [
       "True"
      ]
     },
     "execution_count": 123,
     "metadata": {},
     "output_type": "execute_result"
    }
   ],
   "source": [
    "# the list [1, 2] must be an element of list\n",
    "# to be seen as a member\n",
    "[1 , 2 ] in [None , [1 , 2] , None]"
   ]
  },
  {
   "cell_type": "markdown",
   "metadata": {},
   "source": [
    "**Concatenating sequences:**` seq1 + seq2  `\n",
    "\n"
   ]
  },
  {
   "cell_type": "code",
   "execution_count": 124,
   "metadata": {},
   "outputs": [
    {
     "data": {
      "text/plain": [
       "[1, 2, 3, 4]"
      ]
     },
     "execution_count": 124,
     "metadata": {},
     "output_type": "execute_result"
    }
   ],
   "source": [
    "# Concatenating sequences: with '+'\n",
    "[1 , 2] + [3, 4] # creatimg a new list"
   ]
  },
  {
   "cell_type": "code",
   "execution_count": 125,
   "metadata": {},
   "outputs": [
    {
     "data": {
      "text/plain": [
       "'cat'"
      ]
     },
     "execution_count": 125,
     "metadata": {},
     "output_type": "execute_result"
    }
   ],
   "source": [
    "'c' +'at'"
   ]
  },
  {
   "cell_type": "markdown",
   "metadata": {},
   "source": [
    "**Repeated concatenation of a sequence: **`n*seq1 or seq1*n`"
   ]
  },
  {
   "cell_type": "code",
   "execution_count": 126,
   "metadata": {},
   "outputs": [
    {
     "data": {
      "text/plain": [
       "'catcatcat'"
      ]
     },
     "execution_count": 126,
     "metadata": {},
     "output_type": "execute_result"
    }
   ],
   "source": [
    "# equating to `cat + cat + cat`\n",
    "'cat' * 3  # creates a new string "
   ]
  },
  {
   "cell_type": "code",
   "execution_count": 127,
   "metadata": {},
   "outputs": [
    {
     "data": {
      "text/plain": [
       "(1, 5, 1, 5, 1, 5, 1, 5)"
      ]
     },
     "execution_count": 127,
     "metadata": {},
     "output_type": "execute_result"
    }
   ],
   "source": [
    "4 * (1 , 5 ) # creates a new tuple"
   ]
  },
  {
   "cell_type": "markdown",
   "metadata": {},
   "source": [
    "Asking for the number of members in a sequence:` len(seq)`"
   ]
  },
  {
   "cell_type": "code",
   "execution_count": 128,
   "metadata": {},
   "outputs": [
    {
     "data": {
      "text/plain": [
       "3"
      ]
     },
     "execution_count": 128,
     "metadata": {},
     "output_type": "execute_result"
    }
   ],
   "source": [
    "# getting the length of a sequence\n",
    "len('dog')"
   ]
  },
  {
   "cell_type": "code",
   "execution_count": 129,
   "metadata": {},
   "outputs": [
    {
     "data": {
      "text/plain": [
       "2"
      ]
     },
     "execution_count": 129,
     "metadata": {},
     "output_type": "execute_result"
    }
   ],
   "source": [
    "len([\"dog\" , 'dog'])"
   ]
  },
  {
   "cell_type": "code",
   "execution_count": 130,
   "metadata": {},
   "outputs": [
    {
     "data": {
      "text/plain": [
       "0"
      ]
     },
     "execution_count": 130,
     "metadata": {},
     "output_type": "execute_result"
    }
   ],
   "source": [
    "len([])"
   ]
  },
  {
   "cell_type": "markdown",
   "metadata": {},
   "source": [
    "Getting the index of the first occurrence of x in a sequence: `seq.index(x)`"
   ]
  },
  {
   "cell_type": "code",
   "execution_count": 131,
   "metadata": {},
   "outputs": [
    {
     "data": {
      "text/plain": [
       "2"
      ]
     },
     "execution_count": 131,
     "metadata": {},
     "output_type": "execute_result"
    }
   ],
   "source": [
    "'cat cat cat'.index('t') # 't' occures at index-2"
   ]
  },
  {
   "cell_type": "code",
   "execution_count": 132,
   "metadata": {},
   "outputs": [
    {
     "ename": "ValueError",
     "evalue": "'m' is not in list",
     "output_type": "error",
     "traceback": [
      "\u001b[1;31m---------------------------------------------------------------------------\u001b[0m",
      "\u001b[1;31mValueError\u001b[0m                                Traceback (most recent call last)",
      "\u001b[1;32m<ipython-input-132-5c58019d17f7>\u001b[0m in \u001b[0;36m<module>\u001b[1;34m\u001b[0m\n\u001b[0;32m      1\u001b[0m \u001b[1;31m# `index` doesn't look within sequence contained by other  sequence\u001b[0m\u001b[1;33m\u001b[0m\u001b[1;33m\u001b[0m\u001b[1;33m\u001b[0m\u001b[0m\n\u001b[0;32m      2\u001b[0m \u001b[1;31m# e.g it sees 1, 2 and 'moo' , not 1, 2 ,'m' , 'o' , 'o'\u001b[0m\u001b[1;33m\u001b[0m\u001b[1;33m\u001b[0m\u001b[1;33m\u001b[0m\u001b[0m\n\u001b[1;32m----> 3\u001b[1;33m \u001b[1;33m[\u001b[0m\u001b[1;36m1\u001b[0m \u001b[1;33m,\u001b[0m \u001b[1;36m2\u001b[0m \u001b[1;33m,\u001b[0m \u001b[1;34m'moo'\u001b[0m\u001b[1;33m]\u001b[0m\u001b[1;33m.\u001b[0m\u001b[0mindex\u001b[0m\u001b[1;33m(\u001b[0m\u001b[1;34m'm'\u001b[0m\u001b[1;33m)\u001b[0m\u001b[1;33m\u001b[0m\u001b[1;33m\u001b[0m\u001b[0m\n\u001b[0m",
      "\u001b[1;31mValueError\u001b[0m: 'm' is not in list"
     ]
    }
   ],
   "source": [
    "# `index` doesn't look within sequence contained by other  sequence\n",
    "# e.g it sees 1, 2 and 'moo' , not 1, 2 ,'m' , 'o' , 'o' \n",
    "[1 , 2 , 'moo'].index('m')"
   ]
  },
  {
   "cell_type": "markdown",
   "metadata": {},
   "source": [
    "Counting the number of occurrences of `x `in a sequence: `seq.count(x)`"
   ]
  },
  {
   "cell_type": "code",
   "execution_count": 133,
   "metadata": {},
   "outputs": [
    {
     "data": {
      "text/plain": [
       "3"
      ]
     },
     "execution_count": 133,
     "metadata": {},
     "output_type": "execute_result"
    }
   ],
   "source": [
    "'the cat in the hat'.count('h')"
   ]
  },
  {
   "cell_type": "markdown",
   "metadata": {},
   "source": [
    "#### Indexing\n",
    "Python allows you to retrieve individual members of a sequence by specifying the index of that member, which is the integer that uniquely identifies that member’s position in the sequence. Python implements 0-based indexing for its sequences, and also permits the use of negative integers to count from the end of the sequence. Consider the string \"Python\". The following diagram displays the indices for this sequence:\n",
    "\n",
    "| p  | y | t | h | o | n |\n",
    "|-----|-----|-----|-----|-----|-----|\n",
    "| 0 | 1 | 2 | 3 | 4 | 5 |\n",
    "| -6| -5| -4| -3| -2| -1|\n",
    "The first row of numbers gives the position of the indices 0…5 in the string; the second row gives the corresponding negative indices.\n",
    "\n",
    "Positive Indices\n",
    "\n",
    "0 → P\n",
    "\n",
    "1 → y\n",
    "\n",
    "2 → t\n",
    "\n",
    "3 → h\n",
    "\n",
    "4 → o\n",
    "\n",
    "5 → n\n",
    "\n",
    "Negative Indices\n",
    "\n",
    "-6 → P\n",
    "\n",
    "-5 → y\n",
    "\n",
    "-4 → t\n",
    "\n",
    "-3 → h\n",
    "\n",
    "-2 → o\n",
    "\n",
    "-1 → n\n",
    "\n",
    "Given this indexing scheme, Python reserves the use of square brackets following a variable name or object, as the “get-item” syntax: seq[index]."
   ]
  },
  {
   "cell_type": "markdown",
   "metadata": {},
   "source": [
    "#### Slicing\n",
    "Slicing a sequence allows us to retrieve a subsequence of items, based on the indexing scheme that we reviewed in the preceeding subsection. Specifying a slice consists of:\n",
    "\n",
    "* A start-index: the sequence-position where the slice begins (this item is included in the slice).\n",
    "\n",
    "* A stop-index: the sequence-position where the slice ends (this item is excluded from the slice).\n",
    "\n",
    "* A step-size, which permits us to take every item within the start & stop bounds, or every other item, and so on. It is important to note that a negative step-size permits us to traverse a sequence in reveresed order.\n",
    "\n",
    "The basic syntax for slicing is: `seq[start:stop:step]`, using colons to separate the start, stop, and step values.\n",
    "\n"
   ]
  },
  {
   "cell_type": "code",
   "execution_count": 134,
   "metadata": {},
   "outputs": [],
   "source": [
    "# demonstrating the basics of slicing a sequence\n",
    "seq = \"abcdefg\""
   ]
  },
  {
   "cell_type": "code",
   "execution_count": 135,
   "metadata": {},
   "outputs": [
    {
     "data": {
      "text/plain": [
       "'abcd'"
      ]
     },
     "execution_count": 135,
     "metadata": {},
     "output_type": "execute_result"
    }
   ],
   "source": [
    "# start:0, stop:4, step:1\n",
    "seq[0:4:1]"
   ]
  },
  {
   "cell_type": "code",
   "execution_count": 136,
   "metadata": {},
   "outputs": [
    {
     "data": {
      "text/plain": [
       "'ace'"
      ]
     },
     "execution_count": 136,
     "metadata": {},
     "output_type": "execute_result"
    }
   ],
   "source": [
    "# start:0, stop:5, step:2\n",
    "seq[0:5:2] # get every other entry within [start, stop)\n"
   ]
  },
  {
   "cell_type": "markdown",
   "metadata": {},
   "source": [
    "Slicing provides sensible default start, stop, and step values. Their default values are:\n",
    "\n",
    "* start: 0\n",
    "\n",
    "* stop:` len(seq)`\n",
    "\n",
    "* step: 1\n",
    "\n",
    "You can omit any of these values or specify` None `in that entry to use the default value. You can omit the second colon entirely, and the slice will use a step-size of 1."
   ]
  },
  {
   "cell_type": "code",
   "execution_count": 137,
   "metadata": {},
   "outputs": [
    {
     "data": {
      "text/plain": [
       "'abcdefg'"
      ]
     },
     "execution_count": 137,
     "metadata": {},
     "output_type": "execute_result"
    }
   ],
   "source": [
    "# start: 0, stop: 7, step: 1\n",
    "seq[:]  # equivalent: `seq[None:None]`\n",
    "'abcdefg'"
   ]
  },
  {
   "cell_type": "code",
   "execution_count": 138,
   "metadata": {},
   "outputs": [
    {
     "data": {
      "text/plain": [
       "'aceg'"
      ]
     },
     "execution_count": 138,
     "metadata": {},
     "output_type": "execute_result"
    }
   ],
   "source": [
    "# start: 0, stop: 7, step: 2\n",
    "seq[::2]\n",
    "'aceg'"
   ]
  },
  {
   "cell_type": "markdown",
   "metadata": {},
   "source": [
    "Negative values can also be used in a slice. Specifying a negative step-value instructs the slice to traverse the sequence in reverse order. In this case, the default start and stop values will change so that` seq[::-1]` produces the sequence in reverse."
   ]
  },
  {
   "cell_type": "code",
   "execution_count": 139,
   "metadata": {},
   "outputs": [
    {
     "data": {
      "text/plain": [
       "'gfedcba'"
      ]
     },
     "execution_count": 139,
     "metadata": {},
     "output_type": "execute_result"
    }
   ],
   "source": [
    "# using a negative step size reverses the order of the sequence\n",
    "seq[::-1]\n"
   ]
  },
  {
   "cell_type": "markdown",
   "metadata": {},
   "source": [
    "As we saw with using negative indices, specifying negative start/stop values in a slice permits us to indicate indices relative to the end of the list."
   ]
  },
  {
   "cell_type": "code",
   "execution_count": 140,
   "metadata": {},
   "outputs": [
    {
     "data": {
      "text/plain": [
       "'fg'"
      ]
     },
     "execution_count": 140,
     "metadata": {},
     "output_type": "execute_result"
    }
   ],
   "source": [
    "# a slice returning the last two values of the sequence\n",
    "seq[-2:]\n"
   ]
  },
  {
   "cell_type": "code",
   "execution_count": 141,
   "metadata": {},
   "outputs": [
    {
     "data": {
      "text/plain": [
       "'abcde'"
      ]
     },
     "execution_count": 141,
     "metadata": {},
     "output_type": "execute_result"
    }
   ],
   "source": [
    "seq[:-2]"
   ]
  },
  {
   "cell_type": "markdown",
   "metadata": {},
   "source": [
    "Although the colon-syntax for slicing, `seq[start:stop:step]`, appears nearly ubiquitously in Python code, it is important to know that there is a built-in` slice `object that Python uses to form slices. It accepts the same start, stop, and step values, and produces the same sort of slicing behavior:\n",
    "\n"
   ]
  },
  {
   "cell_type": "code",
   "execution_count": 142,
   "metadata": {},
   "outputs": [
    {
     "data": {
      "text/plain": [
       "'abc'"
      ]
     },
     "execution_count": 142,
     "metadata": {},
     "output_type": "execute_result"
    }
   ],
   "source": [
    "# using the `slice` object explicitly\n",
    "seq = \"abcdefg\"\n",
    "seq[slice(0,3,1)]"
   ]
  },
  {
   "cell_type": "markdown",
   "metadata": {},
   "source": [
    "This gives you the ability to work with slices in more creative ways in your code, since it allows you to assign a variable to a slice."
   ]
  },
  {
   "cell_type": "code",
   "execution_count": 143,
   "metadata": {},
   "outputs": [],
   "source": [
    "# using the `slice` object to slice several sequences\n",
    "seq1 ='apple'\n",
    "seq2 = (1,2,3,4,5)\n",
    "seq3 = [True , False , None]\n",
    "\n",
    "reverse = slice(None , None , -1)"
   ]
  },
  {
   "cell_type": "code",
   "execution_count": 144,
   "metadata": {},
   "outputs": [
    {
     "data": {
      "text/plain": [
       "'elppa'"
      ]
     },
     "execution_count": 144,
     "metadata": {},
     "output_type": "execute_result"
    }
   ],
   "source": [
    "seq1[reverse]"
   ]
  },
  {
   "cell_type": "code",
   "execution_count": 145,
   "metadata": {},
   "outputs": [
    {
     "data": {
      "text/plain": [
       "[None, False, True]"
      ]
     },
     "execution_count": 145,
     "metadata": {},
     "output_type": "execute_result"
    }
   ],
   "source": [
    "seq3[reverse]"
   ]
  },
  {
   "cell_type": "markdown",
   "metadata": {},
   "source": [
    "#### Takeaway:\n",
    "\n",
    "To “slice” a sequence is to retrieve a subsequence by specifying a start-index (included), a stop-index (excluded), and a step value. Negative values can be supplied for these, and default values are available as well. The common slicing syntax `seq[start:stop:step]` is actually just a nice shorthand for using a `slice` object: `seq[slice(start, stop, step)]`.\n",
    "\n"
   ]
  },
  {
   "cell_type": "markdown",
   "metadata": {},
   "source": [
    "Handling out-of-bounds indices\n",
    "Attempting to get a member from a sequence using an out-of-bounds index will raise an `IndexError:`"
   ]
  },
  {
   "cell_type": "code",
   "execution_count": 146,
   "metadata": {},
   "outputs": [
    {
     "ename": "IndexError",
     "evalue": "list index out of range",
     "output_type": "error",
     "traceback": [
      "\u001b[1;31m---------------------------------------------------------------------------\u001b[0m",
      "\u001b[1;31mIndexError\u001b[0m                                Traceback (most recent call last)",
      "\u001b[1;32m<ipython-input-146-b4bb3319bbdc>\u001b[0m in \u001b[0;36m<module>\u001b[1;34m\u001b[0m\n\u001b[0;32m      1\u001b[0m \u001b[0mx\u001b[0m \u001b[1;33m=\u001b[0m \u001b[1;33m[\u001b[0m\u001b[1;36m0\u001b[0m\u001b[1;33m,\u001b[0m\u001b[1;36m1\u001b[0m \u001b[1;33m,\u001b[0m\u001b[1;36m2\u001b[0m\u001b[1;33m,\u001b[0m \u001b[1;36m3\u001b[0m\u001b[1;33m,\u001b[0m \u001b[1;36m4\u001b[0m\u001b[1;33m,\u001b[0m \u001b[1;36m5\u001b[0m\u001b[1;33m]\u001b[0m \u001b[1;31m# x only contains 6 times\u001b[0m\u001b[1;33m\u001b[0m\u001b[1;33m\u001b[0m\u001b[0m\n\u001b[1;32m----> 2\u001b[1;33m \u001b[0mx\u001b[0m\u001b[1;33m[\u001b[0m\u001b[1;36m6\u001b[0m\u001b[1;33m]\u001b[0m \u001b[1;31m# try to acess the 7th item in `x`\u001b[0m\u001b[1;33m\u001b[0m\u001b[1;33m\u001b[0m\u001b[0m\n\u001b[0m",
      "\u001b[1;31mIndexError\u001b[0m: list index out of range"
     ]
    }
   ],
   "source": [
    "x = [0,1 ,2, 3, 4, 5] # x only contains 6 times \n",
    "x[6] # try to acess the 7th item in `x`"
   ]
  },
  {
   "cell_type": "code",
   "execution_count": 147,
   "metadata": {},
   "outputs": [
    {
     "ename": "IndexError",
     "evalue": "list index out of range",
     "output_type": "error",
     "traceback": [
      "\u001b[1;31m---------------------------------------------------------------------------\u001b[0m",
      "\u001b[1;31mIndexError\u001b[0m                                Traceback (most recent call last)",
      "\u001b[1;32m<ipython-input-147-675f4d413004>\u001b[0m in \u001b[0;36m<module>\u001b[1;34m\u001b[0m\n\u001b[1;32m----> 1\u001b[1;33m \u001b[0mx\u001b[0m\u001b[1;33m[\u001b[0m\u001b[1;33m-\u001b[0m\u001b[1;36m7\u001b[0m\u001b[1;33m]\u001b[0m\u001b[1;33m\u001b[0m\u001b[1;33m\u001b[0m\u001b[0m\n\u001b[0m",
      "\u001b[1;31mIndexError\u001b[0m: list index out of range"
     ]
    }
   ],
   "source": [
    "x[-7]"
   ]
  },
  {
   "cell_type": "markdown",
   "metadata": {},
   "source": [
    "However, specifying an out-of-bounds start or stop value for a slice does not raise an error. Instead, the nearest valid start/stop value is used instead:"
   ]
  },
  {
   "cell_type": "code",
   "execution_count": 148,
   "metadata": {},
   "outputs": [
    {
     "data": {
      "text/plain": [
       "[0, 1, 2, 3, 4, 5]"
      ]
     },
     "execution_count": 148,
     "metadata": {},
     "output_type": "execute_result"
    }
   ],
   "source": [
    "# no bounds checking is used for slicing\n",
    "x[:10000]"
   ]
  },
  {
   "cell_type": "markdown",
   "metadata": {},
   "source": [
    "##### Warning!\n",
    "\n",
    "The lack of bounds-checking for slices can be a major source of errors when starting out with Python. Just because your code isn’t raising an error does not mean that you have computed the correct start/stop values for your slice!"
   ]
  },
  {
   "cell_type": "markdown",
   "metadata": {},
   "source": [
    "Reading Comprehension: Indexing and Slicing Sequences\n",
    "\n",
    "In Python, a sequence is any ordered collection of objects whose contents can be accessed via “indexing”. A sub-sequence can be accessed by “slicing” the sequence. You saw, in the required reading, that Python’s lists and strings are both examples of sequences. The following questions will help you explore the power of sequence indexing and slicing.\n",
    "\n",
    "Given the tuple:\n",
    "~~~\n",
    "x = (0, 2, 4, 6, 8)\n",
    "~~~ \n",
    "Slice or index into `x` to produce the following:\n",
    "*  0\n",
    "\n",
    "* 8 (using a negative index)\n",
    "\n",
    "* (2, 4, 6) (using a slice-object)\n",
    "\n",
    "* (4,)\n",
    "\n",
    "* 4\n",
    "\n",
    "* 4 (using a negative index)\n",
    "\n",
    "* (6, 8) (using a negative index for the start of the slice)\n",
    "\n",
    "* (2, 6)\n",
    "\n",
    "* (8, 6, 4, 2)"
   ]
  },
  {
   "cell_type": "markdown",
   "metadata": {},
   "source": [
    "Reading Comprehension: Checking Your General Understanding\n",
    "\n",
    "Write a piece of code for each of the following tasks. If the task is impossible/ill-posed explain why.\n",
    "\n",
    "* Using the string “blogosphere”, slicing, and repeat-concatenation, create the string: ‘boopeeboopeeboopeeboopeeboopee’. (hint: how would you slice “blogosphere” to produce “boopee”, think step-size)\n",
    "\n",
    "* Assume that a tuple, x, contains the item 5 in it at least once. Find where that first entry is, and change it to -5. For example (1, 2, 5, 0, 5) → (1, 2, -5, 0, 5).\n",
    "\n",
    "* Given a sequence, x, and a valid negative index for x, neg_index, find the corresponding positive-value for that index. That is, if x = \"cat\", and neg_index = -3, which is the negative index that would return \"c\", then you would want to return the index 0."
   ]
  },
  {
   "cell_type": "markdown",
   "metadata": {},
   "source": [
    "Links to Official Documentation\n",
    "* [Sequences](https://docs.python.org/3/library/stdtypes.html#typesseq)\n",
    "\n",
    "* [Tuples](https://docs.python.org/3/library/stdtypes.html#tuple)\n",
    "\n",
    "* [Immutable Sequence Types](https://docs.python.org/3/library/stdtypes.html#immutable-sequence-types)\n",
    "\n",
    "* [Mutable Sequence Types](https://docs.python.org/3/library/stdtypes.html#mutable-sequence-types)"
   ]
  },
  {
   "cell_type": "markdown",
   "metadata": {},
   "source": [
    "#### Reading Comprehension Exercise Solutions:\n",
    "Basics of sequences"
   ]
  },
  {
   "cell_type": "code",
   "execution_count": 149,
   "metadata": {},
   "outputs": [
    {
     "data": {
      "text/plain": [
       "(True, None, 22)"
      ]
     },
     "execution_count": 149,
     "metadata": {},
     "output_type": "execute_result"
    }
   ],
   "source": [
    "# 1. Change the list [True , None , 22]into a tuple.\n",
    "tuple([True , None , 22])"
   ]
  },
  {
   "cell_type": "markdown",
   "metadata": {},
   "source": [
    "We have been introduced to three Python types that are sequential in nature: strings, lists, and tuples. Among these, lists are the only mutable objects. We can demonstrate this by simply appending a new element to the end of a list that has already been constructed."
   ]
  },
  {
   "cell_type": "markdown",
   "metadata": {},
   "source": [
    "#### Variables & Assignment\n",
    "~~~\n",
    "Note:\n",
    "\n",
    "There are reading-comprehension exercises included throughout the text. These are meant to help you put your reading to practice. Solutions for the exercises are included at the bottom of this page.\n",
    "~~~\n",
    "Variables permit us to write code that is flexible and amendable to repurpose. Suppose we want to write code that logs a student’s grade on an exam. The logic behind this process should not depend on whether we are logging Brian’s score of 92% versus Ashley’s score of 94%. As such, we can utilize variables, say `name` and `grade`, to serve as placeholders for this information. In this subsection, we will demonstrate how to define variables in Python.\n",
    "\n",
    "In Python, the` = `symbol represents the “assignment” operator. The variable goes to the left of` =`, and the object that is being assigned to the variable goes to the right:"
   ]
  },
  {
   "cell_type": "code",
   "execution_count": 150,
   "metadata": {},
   "outputs": [],
   "source": [
    "name = 'Brian' #the variable `name` is being assigned the string \"Brian\"\n",
    "grade = 92 # the variable `grade ` is being assigned the integer 92"
   ]
  },
  {
   "cell_type": "markdown",
   "metadata": {},
   "source": [
    "Attempting to reverse the assignment order (e.g. `92 = name`) will result in a syntax error. When a variable is assigned an object (like a number or a string), it is common to say that the variable is a **reference to** that object. For example, the variable` name `references the string` \"Brian\"`. This means that, once a variable is assigned an object, it can be used elsewhere in your code as a reference to (or placeholder for) that object:"
   ]
  },
  {
   "cell_type": "code",
   "execution_count": 151,
   "metadata": {},
   "outputs": [],
   "source": [
    "# demonstrating the use of variable in case\n",
    "name =\"Brian\"\n",
    "grade = 92\n",
    "failing = False\n",
    "\n",
    "if grade < 60:\n",
    "    failing = True\n",
    "    \n",
    "# write name / grade / passing-status\n",
    "# to the end of the file 'student_grade.txt'\n",
    "with open('student_grades.txt' , mode='a') as opened_file:\n",
    "    opened_file.write('{} | {} | {}'.format(name , grade , failing))\n",
    "    \n",
    "opened_file.close()    \n",
    "    "
   ]
  },
  {
   "cell_type": "markdown",
   "metadata": {},
   "source": [
    "#### Valid Names for Variables\n",
    "A variable name may consist of alphanumeric characters (`a-z`,` A-Z`,` 0-9`) and the underscore symbol (`_`); a valid name cannot begin with a numerical value.\n",
    "* `var`: valid\n",
    "\n",
    "* `_var2`: valid\n",
    "\n",
    "* `ApplePie_Yum_Yum`: valid\n",
    "\n",
    "* `2cool`: invalid (begins with a numerical character)\n",
    "\n",
    "* `I.am.the.best`: invalid (contains `.`)\n",
    "\n",
    "They also cannot conflict with character sequences that are reserved by the Python language. As such, the following cannot be used as variable names:\n",
    "\n",
    "* `for`, `while`, `break`, `pass`,` continue`\n",
    "\n",
    "* `in`, `is`,` not`\n",
    "\n",
    "* `if`, `else`, `elif`\n",
    "\n",
    "* `def`, `class`, `return`, `yield`,` raises`\n",
    "\n",
    "* `import`, `from`, `as`, `with`\n",
    "\n",
    "* `try`, `except`,` finally`\n",
    "\n",
    "There are other unicode characters that are permitted as valid characters in a Python variable name, but it is not worthwhile to delve into those details here."
   ]
  },
  {
   "cell_type": "markdown",
   "metadata": {},
   "source": [
    "#### Mutable and Immutable Objects\n",
    "The `mutability` of an object refers to its ability to have its state changed. A `mutable object` can have its state changed, whereas an `immutable object` cannot. For instance, a list is an example of a mutable object. Once formed, we are able to update the contents of a list - replacing, adding to, and removing its elements."
   ]
  },
  {
   "cell_type": "code",
   "execution_count": 152,
   "metadata": {},
   "outputs": [
    {
     "data": {
      "text/plain": [
       "[-4, 2, 3]"
      ]
     },
     "execution_count": 152,
     "metadata": {},
     "output_type": "execute_result"
    }
   ],
   "source": [
    "# demonstrating the mutability of a list\n",
    "\n",
    "x = [1, 2, 3]\n",
    "\n",
    "x[0] = -4 # replace the element-0 of `x` with -4\n",
    "x"
   ]
  },
  {
   "cell_type": "markdown",
   "metadata": {},
   "source": [
    "To spell out what is transpiring here, we:\n",
    "\n",
    "* Create (initialize) a list with the state `[1, 2, 3]`.\n",
    "\n",
    "* Assign this list to the variable `x`; `x` is now a reference to that list.\n",
    "\n",
    "* Using our referencing variable, `x`, update element-0 of the list to store the integer `-4`.\n",
    "\n",
    "This does not create a new list object, rather it mutates our original list. This is why printing `x `in the console displays `[-4, 2, 3]` and not `[1, 2, 3]`.\n",
    "\n",
    "A tuple is an example of an immutable object. Once formed, there is no mechanism by which one can change of the state of a tuple; and any code that appears to be updating a tuple is in fact creating an entirely new tuple."
   ]
  },
  {
   "cell_type": "code",
   "execution_count": 153,
   "metadata": {},
   "outputs": [
    {
     "ename": "TypeError",
     "evalue": "'tuple' object does not support item assignment",
     "output_type": "error",
     "traceback": [
      "\u001b[1;31m---------------------------------------------------------------------------\u001b[0m",
      "\u001b[1;31mTypeError\u001b[0m                                 Traceback (most recent call last)",
      "\u001b[1;32m<ipython-input-153-ded91a37c6f6>\u001b[0m in \u001b[0;36m<module>\u001b[1;34m\u001b[0m\n\u001b[0;32m      1\u001b[0m \u001b[1;31m# demonstrating to the immutable of a tuple\u001b[0m\u001b[1;33m\u001b[0m\u001b[1;33m\u001b[0m\u001b[1;33m\u001b[0m\u001b[0m\n\u001b[0;32m      2\u001b[0m \u001b[0mx\u001b[0m  \u001b[1;33m=\u001b[0m \u001b[1;33m(\u001b[0m \u001b[1;36m1\u001b[0m\u001b[1;33m,\u001b[0m \u001b[1;36m3\u001b[0m\u001b[1;33m,\u001b[0m \u001b[1;36m3\u001b[0m\u001b[1;33m)\u001b[0m\u001b[1;33m\u001b[0m\u001b[1;33m\u001b[0m\u001b[0m\n\u001b[1;32m----> 3\u001b[1;33m \u001b[0mx\u001b[0m\u001b[1;33m[\u001b[0m\u001b[1;36m0\u001b[0m\u001b[1;33m]\u001b[0m \u001b[1;33m=\u001b[0m \u001b[1;33m-\u001b[0m\u001b[1;36m4\u001b[0m \u001b[1;31m# attempt to replace element-0 of `x` with -4\u001b[0m\u001b[1;33m\u001b[0m\u001b[1;33m\u001b[0m\u001b[0m\n\u001b[0m",
      "\u001b[1;31mTypeError\u001b[0m: 'tuple' object does not support item assignment"
     ]
    }
   ],
   "source": [
    "# demonstrating to the immutable of a tuple\n",
    "x  = ( 1, 3, 3)\n",
    "x[0] = -4 # attempt to replace element-0 of `x` with -4"
   ]
  },
  {
   "cell_type": "markdown",
   "metadata": {},
   "source": [
    "### Mutable & Immutable Types of Objects\n",
    "The following are some common immutable and mutable objects in Python. These will be important to have in mind as we start to work with dictionaries and sets.\n",
    "\n",
    "Some immutable objects\n",
    "\n",
    "* [numbers](https://www.pythonlikeyoumeanit.com/Module2_EssentialsOfPython/Basic_Objects.html#Number-Types) (integers, floating-point numbers, complex numbers)\n",
    "\n",
    "* [strings](https://www.pythonlikeyoumeanit.com/Module2_EssentialsOfPython/Basic_Objects.html#Strings)\n",
    "\n",
    "* [tuples](https://www.pythonlikeyoumeanit.com/Module2_EssentialsOfPython/SequenceTypes.html#Tuples)\n",
    "\n",
    "* [booleans](https://www.pythonlikeyoumeanit.com/Module2_EssentialsOfPython/Basic_Objects.html#The-Boolean-Type)\n",
    "\n",
    "* [“frozen”-sets](https://www.pythonlikeyoumeanit.com/Module2_EssentialsOfPython/DataStructures_III_Sets_and_More.html#The-%E2%80%9CSet%E2%80%9D-Data-Structure)\n",
    "\n",
    "Some mutable objects\n",
    "\n",
    "* [lists](https://www.pythonlikeyoumeanit.com/Module2_EssentialsOfPython/Basic_Objects.html#Lists)\n",
    "\n",
    "* [dictionaries](https://www.pythonlikeyoumeanit.com/Module2_EssentialsOfPython/DataStructures_II_Dictionaries.html)\n",
    "\n",
    "* [sets](https://www.pythonlikeyoumeanit.com/Module2_EssentialsOfPython/DataStructures_III_Sets_and_More.html#The-%E2%80%9CSet%E2%80%9D-Data-Structure)\n",
    "\n",
    "* [NumPy arrays](https://www.pythonlikeyoumeanit.com/module_3.html)\n",
    "\n",
    "#### Referencing a Mutable Object with Multiple Variables\n",
    "It is possible to assign variables to other, existing variables. Doing so will cause the variables to reference the same object:"
   ]
  },
  {
   "cell_type": "markdown",
   "metadata": {},
   "source": [
    "#### Referencing a Mutable Object with Multiple Variables\n",
    "It is possible to assign variables to other, existing variables. Doing so will cause the variables to reference the same object:"
   ]
  },
  {
   "cell_type": "code",
   "execution_count": 154,
   "metadata": {},
   "outputs": [
    {
     "name": "stdout",
     "output_type": "stream",
     "text": [
      "[1, 2, 3]\n"
     ]
    }
   ],
   "source": [
    "# demonstrating the behavior of variable\n",
    "# refering the same object\n",
    "list1 = [1,2 ,3] # `list1` references [1 , 2 , 3]\n",
    "list2  = list1 # `list2 ` and `list1` now both reference [1, 2, 3]\n",
    "\n",
    "print(list1)"
   ]
  },
  {
   "cell_type": "code",
   "execution_count": 155,
   "metadata": {},
   "outputs": [
    {
     "name": "stdout",
     "output_type": "stream",
     "text": [
      "[1, 2, 3]\n"
     ]
    }
   ],
   "source": [
    "print(list2)"
   ]
  },
  {
   "cell_type": "markdown",
   "metadata": {},
   "source": [
    "What this entails is that these common variables will reference the same instance of the list. Meaning that if the list changes, all of the variables referencing that list will reflect this change:"
   ]
  },
  {
   "cell_type": "code",
   "execution_count": 156,
   "metadata": {},
   "outputs": [
    {
     "name": "stdout",
     "output_type": "stream",
     "text": [
      "[1, 2, 3, 4]\n"
     ]
    }
   ],
   "source": [
    "list1.append(4) # append 4 to the end of [1,2 , 3]\n",
    "print(list1)"
   ]
  },
  {
   "cell_type": "code",
   "execution_count": 157,
   "metadata": {},
   "outputs": [
    {
     "name": "stdout",
     "output_type": "stream",
     "text": [
      "[1, 2, 3, 4]\n"
     ]
    }
   ],
   "source": [
    "print(list2)"
   ]
  },
  {
   "cell_type": "markdown",
   "metadata": {},
   "source": [
    "In general, assigning a variable `b` to a variable `a` will cause the variables to reference the same object in the system’s memory, and assigning `c` to `a` or `b` will simply have a third variable reference this same object. Then any change (a.k.a mutation) of the object will be reflected in all of the variables that reference it (`a`, `b`, and `c`).\n",
    "\n",
    "Of course, assigning two variables to identical but distinct lists means that a change to one list will not affect the other:\n",
    "\n"
   ]
  },
  {
   "cell_type": "code",
   "execution_count": 158,
   "metadata": {},
   "outputs": [
    {
     "name": "stdout",
     "output_type": "stream",
     "text": [
      "[1, 2, 3, 4]\n"
     ]
    }
   ],
   "source": [
    "list1 = [1,2,3] # `list1` reference [1,2,3]\n",
    "list2 = [1,2,3] # `list2` references a *separate* list , whose value is [1,2,3]\n",
    "\n",
    "list1.append(4) # append 4 to the end of [1,2,3]\n",
    "print(list1)"
   ]
  },
  {
   "cell_type": "code",
   "execution_count": 159,
   "metadata": {},
   "outputs": [
    {
     "name": "stdout",
     "output_type": "stream",
     "text": [
      "[1, 2, 3]\n"
     ]
    }
   ],
   "source": [
    "print(list2)# `list2` still references its own list"
   ]
  },
  {
   "cell_type": "markdown",
   "metadata": {},
   "source": [
    "Reading Comprehension: Does slicing a list produce a reference to that list?\n",
    "\n",
    "Suppose `x `is assigned a list, and that `y` is assigned a “slice” of `x`. Do `x` and `y` reference the same list? That is, if you update part of the subsequence common to `x` and` y`, does that change show up in both of them? Write some simple code to investigate this."
   ]
  },
  {
   "cell_type": "markdown",
   "metadata": {},
   "source": [
    "#### Introducing Control Flow\n",
    "Very simply put, to “control flow” in your code is to affect the order in which the code in your program is executed. Up until this point in the course, you have seen (and hopefully written) code that executes linearly; for example:"
   ]
  },
  {
   "cell_type": "code",
   "execution_count": 160,
   "metadata": {},
   "outputs": [
    {
     "name": "stdout",
     "output_type": "stream",
     "text": [
      "x + y =  29\n",
      "x - y =  -17\n"
     ]
    }
   ],
   "source": [
    "# simple code without any \"control flow\"\n",
    "# i.e. no branches in logic, loops, or\n",
    "# code encapsulation\n",
    "x = 6\n",
    "y = 23\n",
    "print('x + y = ' ,x + y)\n",
    "print('x - y = ' ,x - y)\n"
   ]
  },
  {
   "cell_type": "markdown",
   "metadata": {},
   "source": [
    "But what if you want your code to do something different when `x `is an even number? What if you want to do an additional computation for every number that falls between `x` and `y`? By the end of this module, you should understand how to write programs that can accommodate these, and many other, branches in logic.\n",
    "\n",
    "Control flow tools will vastly expand your ability to write useful code. They are the quintessential building blocks for modern programming languages, and are effectively the same across Python, C, C++, Java, and many others (barring syntactic differences).\n",
    "\n",
    "As a sneak peek, let’s write a function that counts how many numbers between m and n are divisible by 3"
   ]
  },
  {
   "cell_type": "code",
   "execution_count": 161,
   "metadata": {},
   "outputs": [],
   "source": [
    "def cnt_div_by_3(m  , n):\n",
    "    '''Count how many numbers in the interval [m,n] are divisible by 3.'''\n",
    "    count = 0\n",
    "    for num in range(m , n+1):\n",
    "        if num % 3 ==0: # gives the remainder of x/y\n",
    "            count +=1\n",
    "        else:   \n",
    "            pass # this `else-pass` ststement is not really necessary\n",
    "        #it is included for the sake of clarity in this introduction\n",
    "    return count    "
   ]
  },
  {
   "cell_type": "markdown",
   "metadata": {},
   "source": [
    "(note: there are much more efficient ways of computing this - can you think of any?)\n",
    "\n",
    "This code contains several critical “control flow” features:\n",
    "\n",
    "* The `def cnt_div_by_3(m, n):` statement signals the definition of a function: a modular block of code, which can be utilized elsewhere in your code.\n",
    "\n",
    "* The line `for num in range(m, n + 1):` signifies a “for-loop” which instructs the code to iterate over a sequence of numbers, executing a common block of code for each iteration.\n",
    "\n",
    "* if `num % 3 == 0:` and `else` instruct pieces of codes to be executed conditionally - only if a specified condition is met.\n",
    "\n",
    "In the following sections, you will be formally introduced to if-elif-else blocks, for-loops & iterables, and functions, all so that you can implement effective “control flow” in your code.\n",
    "\n",
    "Before embarking on these sections, we must take a moment to study Python’s syntax for delimiting scope for these various control flow constructs."
   ]
  },
  {
   "cell_type": "markdown",
   "metadata": {},
   "source": [
    "#### Conditional Statements\n",
    "~~~\n",
    "Note:\n",
    "\n",
    "There are reading-comprehension exercises included throughout the text. These are meant to help you put your reading to practice. Solutions for the exercises are included at the bottom of this page.\n",
    "~~~\n",
    "In this section, we will be introduced to the `if`, `else`, and `elif` statements. These allow you to specify that blocks of code are to be executed only if specified conditions are found to be true, or perhaps alternative code if the condition is found to be false. For example, the following code will square` x `if it is a negative number, and will cube` x `if it is a positive number:"
   ]
  },
  {
   "cell_type": "code",
   "execution_count": 162,
   "metadata": {},
   "outputs": [],
   "source": [
    "# a simple if-else block\n",
    "if x < 0:\n",
    "    x = x**2\n",
    "else:\n",
    "    x= x**3"
   ]
  },
  {
   "cell_type": "markdown",
   "metadata": {},
   "source": [
    "Please refer to the “Basic Python Object Types” subsection to recall the basics of the “boolean” type, which represents True and False values. We will extend that discussion by introducing comparison operations and membership-checking, and then expanding on the utility of the built-in `bool` type."
   ]
  },
  {
   "cell_type": "markdown",
   "metadata": {},
   "source": [
    "Comparison Operations\n",
    "Comparison statements will evaluate explicitly to either of the boolean-objects: True or False. There are eight comparison operations in Python:\n",
    "\n",
    "|Operation|Meaning|\n",
    "|---------|-------|\n",
    "|<        | strictly less than|\n",
    "|<=       |less than or equal|\n",
    "|>        |strictly greater than|\n",
    "|>=       |greater than or equal|\n",
    "|==       |equal|\n",
    "|!=       |not equal|\n",
    "|is       |object identity|\n",
    "|is not   |negated object identity\n",
    "\n",
    "The first six of these operators are familiar from mathematics:"
   ]
  },
  {
   "cell_type": "code",
   "execution_count": 163,
   "metadata": {},
   "outputs": [
    {
     "data": {
      "text/plain": [
       "True"
      ]
     },
     "execution_count": 163,
     "metadata": {},
     "output_type": "execute_result"
    }
   ],
   "source": [
    "2 < 3"
   ]
  },
  {
   "cell_type": "markdown",
   "metadata": {},
   "source": [
    "Note that `= `and` == `have very different meanings. The former is the assignment operator, and the latter is the equality operator:"
   ]
  },
  {
   "cell_type": "code",
   "execution_count": 164,
   "metadata": {},
   "outputs": [],
   "source": [
    "x = 3 #assign the value 3 to the variable `x`"
   ]
  },
  {
   "cell_type": "code",
   "execution_count": 165,
   "metadata": {},
   "outputs": [
    {
     "data": {
      "text/plain": [
       "True"
      ]
     },
     "execution_count": 165,
     "metadata": {},
     "output_type": "execute_result"
    }
   ],
   "source": [
    "x == 3 #check if `x` and 3 have the same value"
   ]
  },
  {
   "cell_type": "markdown",
   "metadata": {},
   "source": [
    "Python allows you to chain comparison operators to create “compound” comparisons:"
   ]
  },
  {
   "cell_type": "code",
   "execution_count": 166,
   "metadata": {},
   "outputs": [
    {
     "data": {
      "text/plain": [
       "False"
      ]
     },
     "execution_count": 166,
     "metadata": {},
     "output_type": "execute_result"
    }
   ],
   "source": [
    "2 < 3 < 1 # performs (2 < 3) and (3 < 1)\n"
   ]
  },
  {
   "cell_type": "markdown",
   "metadata": {},
   "source": [
    "Whereas `==` checks to see if two objects have the same value, the `is` operator checks to see if two objects are actually the same object. For example, creating two lists with the same contents produces two distinct lists, that have the same “value”:"
   ]
  },
  {
   "cell_type": "code",
   "execution_count": 167,
   "metadata": {},
   "outputs": [],
   "source": [
    "# demonstrating `==` vs `is`\n",
    "x = [1,2 ,3]\n",
    "y = [1,2 ,3]"
   ]
  },
  {
   "cell_type": "code",
   "execution_count": 168,
   "metadata": {},
   "outputs": [
    {
     "data": {
      "text/plain": [
       "True"
      ]
     },
     "execution_count": 168,
     "metadata": {},
     "output_type": "execute_result"
    }
   ],
   "source": [
    "x  == y"
   ]
  },
  {
   "cell_type": "code",
   "execution_count": 169,
   "metadata": {},
   "outputs": [
    {
     "data": {
      "text/plain": [
       "False"
      ]
     },
     "execution_count": 169,
     "metadata": {},
     "output_type": "execute_result"
    }
   ],
   "source": [
    "# `x ` and `y` reference equivalent , but distinct list\n",
    "x is y"
   ]
  },
  {
   "cell_type": "markdown",
   "metadata": {},
   "source": [
    "Thus the` is `operator is most commonly used to check if a variable references the `None` object, or either of the boolean objects:"
   ]
  },
  {
   "cell_type": "code",
   "execution_count": 170,
   "metadata": {},
   "outputs": [
    {
     "data": {
      "text/plain": [
       "True"
      ]
     },
     "execution_count": 170,
     "metadata": {},
     "output_type": "execute_result"
    }
   ],
   "source": [
    "x = None\n",
    "x is None"
   ]
  },
  {
   "cell_type": "code",
   "execution_count": 171,
   "metadata": {},
   "outputs": [
    {
     "data": {
      "text/plain": [
       "True"
      ]
     },
     "execution_count": 171,
     "metadata": {},
     "output_type": "execute_result"
    }
   ],
   "source": [
    "# (2 < 0) returns the object `False`\n",
    "# thus this becomes: `False is False`\n",
    "(2<0) is False"
   ]
  },
  {
   "cell_type": "markdown",
   "metadata": {},
   "source": [
    "Use `is not` to check if two objects are distinct:"
   ]
  },
  {
   "cell_type": "code",
   "execution_count": 172,
   "metadata": {},
   "outputs": [
    {
     "name": "stderr",
     "output_type": "stream",
     "text": [
      "<>:1: SyntaxWarning: \"is not\" with a literal. Did you mean \"!=\"?\n",
      "<>:1: SyntaxWarning: \"is not\" with a literal. Did you mean \"!=\"?\n",
      "<ipython-input-172-f0bbc0fd5ae8>:1: SyntaxWarning: \"is not\" with a literal. Did you mean \"!=\"?\n",
      "  1 is not None\n"
     ]
    },
    {
     "data": {
      "text/plain": [
       "True"
      ]
     },
     "execution_count": 172,
     "metadata": {},
     "output_type": "execute_result"
    }
   ],
   "source": [
    "1 is not None"
   ]
  },
  {
   "cell_type": "markdown",
   "metadata": {},
   "source": [
    "#### `bool `and Truth Values of Non-Boolean Objects\n",
    "Recall that the two boolean objects `True` and `False` formally belong to the `int` type in addition to `bool`, and are associated with the values `1` and `0`, respectively:"
   ]
  },
  {
   "cell_type": "code",
   "execution_count": 173,
   "metadata": {},
   "outputs": [
    {
     "data": {
      "text/plain": [
       "True"
      ]
     },
     "execution_count": 173,
     "metadata": {},
     "output_type": "execute_result"
    }
   ],
   "source": [
    "isinstance(True , int)"
   ]
  },
  {
   "cell_type": "code",
   "execution_count": 174,
   "metadata": {},
   "outputs": [
    {
     "data": {
      "text/plain": [
       "1"
      ]
     },
     "execution_count": 174,
     "metadata": {},
     "output_type": "execute_result"
    }
   ],
   "source": [
    "int(True)"
   ]
  },
  {
   "cell_type": "code",
   "execution_count": 175,
   "metadata": {},
   "outputs": [
    {
     "data": {
      "text/plain": [
       "0"
      ]
     },
     "execution_count": 175,
     "metadata": {},
     "output_type": "execute_result"
    }
   ],
   "source": [
    "int(False)"
   ]
  },
  {
   "cell_type": "code",
   "execution_count": 176,
   "metadata": {},
   "outputs": [
    {
     "data": {
      "text/plain": [
       "3"
      ]
     },
     "execution_count": 176,
     "metadata": {},
     "output_type": "execute_result"
    }
   ],
   "source": [
    "3 * True - False"
   ]
  },
  {
   "cell_type": "markdown",
   "metadata": {},
   "source": [
    "Likewise Python ascribes boolean values to non-boolean objects. For example,the number 0 is associated with `False` and non-zero numbers are associated with `True`. The boolean values of built-in objects can be evaluated with the built-in Python command `bool`:"
   ]
  },
  {
   "cell_type": "code",
   "execution_count": 177,
   "metadata": {},
   "outputs": [
    {
     "data": {
      "text/plain": [
       "False"
      ]
     },
     "execution_count": 177,
     "metadata": {},
     "output_type": "execute_result"
    }
   ],
   "source": [
    "# using `bool` to acess the True / False\n",
    "# value of non-boolean objects \n",
    "bool(0)"
   ]
  },
  {
   "cell_type": "markdown",
   "metadata": {},
   "source": [
    "The following built-in Python objects evaluate to False via bool:\n",
    "\n",
    "* `False`\n",
    "\n",
    "* `None`\n",
    "\n",
    "* Zero of any numeric type: `0`, `0.0`, `0j`\n",
    "\n",
    "* Any empty sequence, such as an empty string or list: `''`,` tuple()`, `[]`,` numpy.array([])`\n",
    "\n",
    "* Empty dictionaries and sets\n",
    "\n",
    "Thus non-zero numbers and non-empty sequences/collections evaluate to `True` via `bool`."
   ]
  },
  {
   "cell_type": "markdown",
   "metadata": {},
   "source": [
    "#### Takeaway:\n",
    "\n",
    "The `bool` function allows you to evaluate the boolean values ascribed to various non-boolean objects. For instance, `bool([])` returns `False` wherease `bool([1, 2])` returns True."
   ]
  },
  {
   "cell_type": "markdown",
   "metadata": {},
   "source": [
    "#### `if`, `else`, and `elif`\n",
    "We now introduce the simple, but powerful `if`, `else`, and `elif` conditional statements. This will allow us to create simple branches in our code. For instance, suppose you are writing code for a video game, and you want to update a character’s status based on her/his number of health-points (an integer). The following code is representative of this:"
   ]
  },
  {
   "cell_type": "code",
   "execution_count": 178,
   "metadata": {},
   "outputs": [],
   "source": [
    "num_health = 50\n",
    "if num_health > 80:\n",
    "    status = \"good\"\n",
    "elif num_health > 50:    \n",
    "    status = \"okay\"\n",
    "elif num_health > 0:\n",
    "    status = \"danger\"\n",
    "else:\n",
    "    status = \"dead\""
   ]
  },
  {
   "cell_type": "markdown",
   "metadata": {},
   "source": [
    "Each `if`, `elif`, and `else` statement must end in a colon character, and the body of each of these statements is [delimited by whitespace.](https://www.pythonlikeyoumeanit.com/Module2_EssentialsOfPython/Introduction.html#Python-Uses-Whitespace-to-Delimit-Scope)\n",
    "\n",
    "The following pseudo-code demonstrates the general template for conditional statements:"
   ]
  },
  {
   "cell_type": "code",
   "execution_count": 179,
   "metadata": {},
   "outputs": [
    {
     "ename": "SyntaxError",
     "evalue": "invalid syntax (<ipython-input-179-10f58534d3a4>, line 1)",
     "output_type": "error",
     "traceback": [
      "\u001b[1;36m  File \u001b[1;32m\"<ipython-input-179-10f58534d3a4>\"\u001b[1;36m, line \u001b[1;32m1\u001b[0m\n\u001b[1;33m    if <expression_1>:\u001b[0m\n\u001b[1;37m       ^\u001b[0m\n\u001b[1;31mSyntaxError\u001b[0m\u001b[1;31m:\u001b[0m invalid syntax\n"
     ]
    }
   ],
   "source": [
    "if <expression_1>:\n",
    "    the code within this indented block is executed if..\n",
    "    - bool(<expression_1>)is True\n",
    "elif <expression_2>:   \n",
    "    the code within this intended block is executed if..\n",
    "    - bool(<expression_1>)is False\n",
    "    - bool(<expression_2>)is True \n",
    "    \n",
    "...\n",
    "...\n",
    "elif <expression_n>:\n",
    "    the code within this indented block is executed if..\n",
    "    - bool(<expression_1>) was False\n",
    "    - bool(<expression_2>) was False \n",
    "     - bool(<expression_n>) is True\n",
    "else:\n",
    "    the code within this indented block is executed only if\n",
    "    all preceding expressions were False\n",
    "    \n",
    "    "
   ]
  },
  {
   "cell_type": "code",
   "execution_count": 180,
   "metadata": {},
   "outputs": [
    {
     "name": "stdout",
     "output_type": "stream",
     "text": [
      "`x` has two items in it\n"
     ]
    }
   ],
   "source": [
    "x = [1 , 2]\n",
    "if 3 < len(x):\n",
    "    # bool(3 < 2 ) returns False , this code \n",
    "    # block is skipped \n",
    "    print(\"`x` has more than three items in it\")\n",
    "elif len(x) == 2:\n",
    "    # bool (len(x) == 2) returns True\n",
    "    # this code block is executed \n",
    "    print(\"`x` has two items in it\")\n",
    "elif len(x) == 1:\n",
    "    # this statement is never reached \n",
    "    print(\"`x` has one item in it\")\n",
    "else:\n",
    "    # this statement is never reached \n",
    "    print(\"`x` is an empty list\")"
   ]
  },
  {
   "cell_type": "markdown",
   "metadata": {},
   "source": [
    "In its simplest form, a conditional statement requires only an `if` clause. `else` and `elif` clauses can only follow an `if `clause.\n",
    "\n"
   ]
  },
  {
   "cell_type": "code",
   "execution_count": 181,
   "metadata": {},
   "outputs": [],
   "source": [
    "# A conditional statement consisting of \n",
    "# an \"if\" - clause and a \"else\"\n",
    "x = 4\n",
    "\n",
    "if x > 2:\n",
    "    x  = -2\n",
    "else:\n",
    "    x = x + 1\n",
    "# x is now -2"
   ]
  },
  {
   "cell_type": "code",
   "execution_count": 182,
   "metadata": {},
   "outputs": [
    {
     "data": {
      "text/plain": [
       "-2"
      ]
     },
     "execution_count": 182,
     "metadata": {},
     "output_type": "execute_result"
    }
   ],
   "source": [
    "x"
   ]
  },
  {
   "cell_type": "markdown",
   "metadata": {},
   "source": [
    "Conditional statements can also have an `if` and an `elif` without an `else`:\n",
    "\n"
   ]
  },
  {
   "cell_type": "code",
   "execution_count": 183,
   "metadata": {},
   "outputs": [],
   "source": [
    "# consecutive if-else statement are independent\n",
    "x  = 5\n",
    "y = 0 \n",
    "if x < 10:\n",
    "    y += 1\n",
    "    \n",
    "if x < 20:\n",
    "    y += 1# y now is 2"
   ]
  },
  {
   "cell_type": "code",
   "execution_count": 184,
   "metadata": {},
   "outputs": [
    {
     "data": {
      "text/plain": [
       "2"
      ]
     },
     "execution_count": 184,
     "metadata": {},
     "output_type": "execute_result"
    }
   ],
   "source": [
    "y"
   ]
  },
  {
   "cell_type": "markdown",
   "metadata": {},
   "source": [
    "##### Reading Comprehension: Conditional statements\n",
    "\n",
    "* Assume `my_list` is a list. Given the following code:\n",
    "~~~\n",
    "first_item = None\n",
    "if my_list:\n",
    "    first_item = my_list[0]\n",
    "~~~\n",
    "What will happen if `my_list` is `[]`? Will `IndexError` be raised? What will `first_item` be?\n",
    "\n",
    "* Assume variable `my_file` is a string storing a filename, where a period denotes the end of the filename and the beginning of the file-type. Write code that extracts only the filename.\n",
    "\n",
    "`my_file` will have at most one period in it. Accommodate cases where `my_file` does not include a file-type.\n",
    "\n",
    "That is:\n",
    "\n",
    "* `\"code.py\"` [Math Processing Error] `\"code\"`\n",
    "\n",
    "* `\"doc2.pdf\"` [Math Processing Error] `\"doc2\"`\n",
    "\n",
    "* `\"hello_world\"` [Math Processing Error] `\"hello_world\"`"
   ]
  },
  {
   "cell_type": "markdown",
   "metadata": {},
   "source": [
    "#### Inline if-else statements\n",
    "Python supports a syntax for writing a restricted version of if-else statements in a single line. The following code:"
   ]
  },
  {
   "cell_type": "code",
   "execution_count": 185,
   "metadata": {},
   "outputs": [],
   "source": [
    "num = 2\n",
    "if num >= 0:\n",
    "    sign = \"positive\"\n",
    "else:\n",
    "    sign = \"negitive\""
   ]
  },
  {
   "cell_type": "markdown",
   "metadata": {},
   "source": [
    "can be written in a single line as :"
   ]
  },
  {
   "cell_type": "code",
   "execution_count": 186,
   "metadata": {},
   "outputs": [],
   "source": [
    "sign = \"positive\" if num >= 0 else \"negative\""
   ]
  },
  {
   "cell_type": "markdown",
   "metadata": {},
   "source": [
    "This is suggestive of the general underlying syntax for inline if-else statement:"
   ]
  },
  {
   "cell_type": "markdown",
   "metadata": {},
   "source": [
    "#### The inline if-else statement:\n",
    "The expression `A if <condition> else B` return `A` if `bool(<condition>)` evaluates to `True` ,\n",
    "Otherwise this expression will return `B`."
   ]
  },
  {
   "cell_type": "markdown",
   "metadata": {},
   "source": [
    "This syntax is highly restricted compared to the full “if-elif-else” expressions - no “elif” statement is permitted by this inline syntax, nor are multi-line code blocks within the if/else clauses.\n",
    "\n",
    "Inline if-else statements can be used anywhere, not just on the right side of an assignment statement, and can be quite convenient:"
   ]
  },
  {
   "cell_type": "code",
   "execution_count": 187,
   "metadata": {},
   "outputs": [],
   "source": [
    "# using inline if-else statement in different scenarios\n",
    "x  = 2\n",
    "# will store 1 if `x` is non-negative\n",
    "# will store 0 if `x` is negative\n",
    "my_list = [1]"
   ]
  },
  {
   "cell_type": "code",
   "execution_count": 188,
   "metadata": {},
   "outputs": [
    {
     "data": {
      "text/plain": [
       "'b'"
      ]
     },
     "execution_count": 188,
     "metadata": {},
     "output_type": "execute_result"
    }
   ],
   "source": [
    "\"a\" if x == 1 else 'b'"
   ]
  },
  {
   "cell_type": "markdown",
   "metadata": {},
   "source": [
    "We will see this syntax shine when we learn about comprehension statements. That being said, this syntax should be used judiciously. For example, inline if-else statements ought not be used in arithmetic expressions, for therein lies madness:"
   ]
  },
  {
   "cell_type": "markdown",
   "metadata": {},
   "source": [
    "#### Short-Circuiting Logical Expressions\n",
    "Armed with our newfound understanding of conditional statements, we briefly return to our discussion of Python’s logic expressions to discuss “short-circuiting”. In Python, a logical expression is evaluated from left to right and will return its boolean value as soon as it is unambiguously determined, leaving any remaining portions of the expression unevaluated. That is, the expression may be short-circuited.\n",
    "\n",
    "For example, consider the fact that an `and` operation will only return `True` if both of its arguments evaluate to True. Thus the expression `False and <anything>` is guaranteed to return `False`; furthermore, when executed, this expression will return `False` without having evaluated `bool(<anything>)`.\n",
    "\n",
    "To demonstrate this behavior, consider the following example:"
   ]
  },
  {
   "cell_type": "code",
   "execution_count": 189,
   "metadata": {},
   "outputs": [
    {
     "data": {
      "text/plain": [
       "False"
      ]
     },
     "execution_count": 189,
     "metadata": {},
     "output_type": "execute_result"
    }
   ],
   "source": [
    "# demonstrating short-circuited logic expression \n",
    "False and 1/0  # evaluating `1/0` would raise an error"
   ]
  },
  {
   "cell_type": "markdown",
   "metadata": {},
   "source": [
    "According to our discussion, the pattern `False and `short-circuits this expression without it ever evaluating` bool(1/0)`. Reversing the ordering of the arguments makes this clear."
   ]
  },
  {
   "cell_type": "code",
   "execution_count": 190,
   "metadata": {},
   "outputs": [
    {
     "ename": "ZeroDivisionError",
     "evalue": "division by zero",
     "output_type": "error",
     "traceback": [
      "\u001b[1;31m---------------------------------------------------------------------------\u001b[0m",
      "\u001b[1;31mZeroDivisionError\u001b[0m                         Traceback (most recent call last)",
      "\u001b[1;32m<ipython-input-190-b4acabca428b>\u001b[0m in \u001b[0;36m<module>\u001b[1;34m\u001b[0m\n\u001b[0;32m      1\u001b[0m \u001b[1;31m# expressions are evaluted from left to right\u001b[0m\u001b[1;33m\u001b[0m\u001b[1;33m\u001b[0m\u001b[1;33m\u001b[0m\u001b[0m\n\u001b[1;32m----> 2\u001b[1;33m \u001b[1;36m1\u001b[0m\u001b[1;33m/\u001b[0m\u001b[1;36m0\u001b[0m \u001b[1;32mand\u001b[0m \u001b[1;32mFalse\u001b[0m\u001b[1;33m\u001b[0m\u001b[1;33m\u001b[0m\u001b[0m\n\u001b[0m",
      "\u001b[1;31mZeroDivisionError\u001b[0m: division by zero"
     ]
    }
   ],
   "source": [
    "# expressions are evaluted from left to right \n",
    "1/0 and False"
   ]
  },
  {
   "cell_type": "markdown",
   "metadata": {},
   "source": [
    "In practice, short-circuiting can be leveraged in order to condense one’s code. Suppose a section of our code is processing a variable `x`, which may be either a number or a [string](https://www.pythonlikeyoumeanit.com/Module2_EssentialsOfPython/Basic_Objects.html#Strings). Suppose further that we want to process `x` in a special way if it is an all-uppercased string. The code"
   ]
  },
  {
   "cell_type": "code",
   "execution_count": 191,
   "metadata": {},
   "outputs": [
    {
     "ename": "SyntaxError",
     "evalue": "unexpected EOF while parsing (<ipython-input-191-8d0c9bdc7b45>, line 3)",
     "output_type": "error",
     "traceback": [
      "\u001b[1;36m  File \u001b[1;32m\"<ipython-input-191-8d0c9bdc7b45>\"\u001b[1;36m, line \u001b[1;32m3\u001b[0m\n\u001b[1;33m    # do something with the uppercased string\u001b[0m\n\u001b[1;37m                                             ^\u001b[0m\n\u001b[1;31mSyntaxError\u001b[0m\u001b[1;31m:\u001b[0m unexpected EOF while parsing\n"
     ]
    }
   ],
   "source": [
    "# this will raise an error if `x` is not a string\n",
    "if x.isupper():\n",
    "    # do something with the uppercased string"
   ]
  },
  {
   "cell_type": "markdown",
   "metadata": {},
   "source": [
    "is problematic because `isupper` can only be called once we are sure that `x` is a string; this code will raise an error if `x` is a number. We could instead write"
   ]
  },
  {
   "cell_type": "code",
   "execution_count": 192,
   "metadata": {},
   "outputs": [
    {
     "name": "stdout",
     "output_type": "stream",
     "text": [
      "x is uppercacse\n"
     ]
    }
   ],
   "source": [
    "# a valid but messy way to filter out non-string objects \n",
    "x = \"NECESSARY\"\n",
    "if isinstance(x , str):\n",
    "    if x.isupper():\n",
    "        print(\"x is uppercacse\")\n",
    "        # do something with the uppercased string"
   ]
  },
  {
   "cell_type": "markdown",
   "metadata": {},
   "source": [
    "but the more elegant and concise way of handling the nestled checking is to leverage our ability to short-circuit logic expressions."
   ]
  },
  {
   "cell_type": "code",
   "execution_count": 193,
   "metadata": {},
   "outputs": [
    {
     "name": "stdout",
     "output_type": "stream",
     "text": [
      "above statement is true\n"
     ]
    }
   ],
   "source": [
    "# utilizing short- circuiting to concisely performing all necessary checks\n",
    "if isinstance(x , str) and x.isupper():\n",
    "    print(\"above statement is true\")\n",
    "    #do something with the uppercase string "
   ]
  },
  {
   "cell_type": "markdown",
   "metadata": {},
   "source": [
    "See, that if x is not a string, that isinstance(x, str) will return False; thus isinstance(x, str) and x.isupper() will short-circuit and return False without ever evaluating bool(x.isupper()). This is the preferable way to handle this sort of checking. This code is more concise and readable than the equivalent nested if-statements.\n",
    "\n",
    "Reading Comprehension: short-circuited expressions\n",
    "\n",
    "Consider the preceding example of short-circuiting, where we want to catch the case where x is an uppercased string. What is the “bug” in the following code? Why does this fail to utilize short-circuiting correctly?\n",
    "~~~\n",
    "# what is wrong with me?\n",
    "if x.isupper() and isinstance(x, str):\n",
    "    # do something with the uppercased string \n",
    "~~~    "
   ]
  },
  {
   "cell_type": "markdown",
   "metadata": {},
   "source": [
    "#### Links to Official Documentation\n",
    "* bool\n",
    "\n",
    "* Truth testing\n",
    "\n",
    "* Boolean operations\n",
    "\n",
    "* Comparisons\n",
    "\n",
    "* ‘if’ statements\n",
    "\n",
    "#### Reading Comprehension Exercise Solutions:\n",
    "##### Conditional statements\n",
    "\n",
    "* If `my_list` is` []`, then` bool(my_list) `will return `False`, and the code block will be skipped. Thus `first_item` will be `None`.\n",
    "\n",
    "* First, check to see if `.` is even contained in `my_file`. If it is, find its index-position, and slice the string up to that index. Otherwise, `my_file` is already the file name."
   ]
  },
  {
   "cell_type": "code",
   "execution_count": 194,
   "metadata": {},
   "outputs": [],
   "source": [
    "my_file = 'code.pdf'\n",
    "\n",
    "if '.' in my_file:\n",
    "    dot_index = my_file.index(\".\")\n",
    "    filename = my_file[:dot_index]\n",
    "else:\n",
    "    filename = my_file"
   ]
  },
  {
   "cell_type": "markdown",
   "metadata": {},
   "source": [
    "short-circuit expressions\n",
    "The code"
   ]
  },
  {
   "cell_type": "code",
   "execution_count": 195,
   "metadata": {},
   "outputs": [
    {
     "name": "stdout",
     "output_type": "stream",
     "text": [
      "x is upper case isinstance is True\n"
     ]
    }
   ],
   "source": [
    "# what is wrong with me? \n",
    "if x.isupper() and isinstance(x , str):\n",
    "    # do something with the uppercased string\n",
    "    print('x is upper case isinstance is' , isinstance(x , str))\n",
    "    "
   ]
  },
  {
   "cell_type": "markdown",
   "metadata": {},
   "source": [
    "fails to account for the fact that expressions are always evaluated from left to right. That is, `bool(x.isupper())` will always be evaluated first in this instance and will raise an error if `x `is not a string. Thus the following `isinstance(x, str)` statement is useless."
   ]
  },
  {
   "cell_type": "markdown",
   "metadata": {},
   "source": [
    "### For-Loops and While-Loops\n",
    "In this section, we will introduce the essential “for-loop” control flow paradigm along with the formal definition of an “iterable”. The utility of these items cannot be understated. Moving forward, you will likely find use for these concepts in nearly every piece of Python code that you write!\n",
    "~~~\n",
    "Note:\n",
    "\n",
    "There are reading-comprehension exercises included throughout the text. These are meant to help you put your reading to practice. Solutions for the exercises are included at the bottom of this page.\n",
    "~~~\n",
    "#### For-Loops\n",
    "A “for-loop” allows you to iterate over a collection of items, and execute a block of code once for each iteration. For example, the following code will sum up all the positive numbers in a tuple:\n",
    "\n"
   ]
  },
  {
   "cell_type": "code",
   "execution_count": 196,
   "metadata": {},
   "outputs": [],
   "source": [
    "total = 0\n",
    "for num in (-22.0 , 3.5 , 8.1 , -10 , 0.5):\n",
    "    if num > 0:\n",
    "        total = total + num"
   ]
  },
  {
   "cell_type": "markdown",
   "metadata": {},
   "source": [
    "The general syntax for a “for-loop” is:"
   ]
  },
  {
   "cell_type": "markdown",
   "metadata": {},
   "source": [
    "for <var> in <iterable>:\n",
    "    block of code\n",
    "    \n",
    "Where `<var>` is any valid variable-identifier and `<iterable>` is any **iterable** . We will discuss iterables more formally in the next section; suffice it to know that every sequence-type object is an iterable. The `for` statement must end in a colon character, and the body the for-loop is [whitespace-delimited](https://www.pythonlikeyoumeanit.com/Module2_EssentialsOfPython/Introduction.html#Python-Uses-Whitespace-to-Delimit-Scope).\n",
    "\n",
    "The for-loop behaves as follows:\n",
    "\n",
    "* Request the next member of the iterable.\n",
    "\n",
    "* If the iterable is empty, exit the for-loop without running its body.\n",
    "\n",
    "* If the iterable did produce a member, assign that member to `<var>` (if `<var>` was not previously defined, it becomes defined).\n",
    "\n",
    "* Execute the enclosed body of code.\n",
    "\n",
    "* Go back to the first step.\n",
    "\n",
    "To be concrete, let’s consider the example:"
   ]
  },
  {
   "cell_type": "code",
   "execution_count": 197,
   "metadata": {},
   "outputs": [
    {
     "name": "stdout",
     "output_type": "stream",
     "text": [
      "9\n"
     ]
    }
   ],
   "source": [
    "# demonstrating a basic for-loop\n",
    "total = 0\n",
    "for item in [1, 3,5]:\n",
    "    total = total + item\n",
    "    \n",
    "print(total) # `total` has the value 1 + 3 + 5 = 9\n",
    "# `item` is still defined here, and holds the value 5"
   ]
  },
  {
   "cell_type": "markdown",
   "metadata": {},
   "source": [
    "This code will perform the following steps:\n",
    "\n",
    "* Define the variable `total`, and assign it the value 0\n",
    "\n",
    "* Iterate on the list, producing value `1`, define the variable `item` and assign it the value 1\n",
    "\n",
    "* Assign `total` the value `0 + 1`\n",
    "\n",
    "* Iterate on the list, producing the value `3` and assigning it to `item`\n",
    "\n",
    "* Assign `total` the value `1 + 3`\n",
    "\n",
    "* Iterate on the list, producing the value `5` and assigning it to `item`\n",
    "\n",
    "* Assign `total` the value `4 + 5`\n",
    "\n",
    "* Iterate on the list. Having reached its end, a `StopIteration` signal it raised by the list, and the for-loop sequence is exited.\n",
    "\n",
    "* Print the value of `total` (9)\n",
    "\n",
    "#### Potential Pitfall\n",
    "Note that the variable` item `will persist after the for-loop block is exited. It will reference the last value from the for-loop iteration (in this case `item `has the value 5). That being said, you should not write code that depends on the iterate-variable, outside of the context of the for-loop. In the case that you try to loop over an empty iterable, the iterate-variable is never defined:\n",
    "~~~\n",
    "for x in []:         # the iterable is empty - the iterate-variable `x` will not be defined\n",
    "    print(\"Hello?\")  # this code is never executed\n",
    "print(x)             # raises an error because `x` was never defined\n",
    "~~~\n",
    "Because we are attempting to iterate over an empty list, `StopIteration` is raised immediately - before the variable `x` is even defined. Thus the code enclosed within the for-loop is never reached, and the subsequent `print(x)` statement will raise a `NameError`, because` x `was never defined!\n",
    "~~~\n",
    "Reading Comprehension: A basic for-loop\n",
    "\n",
    "Using a for-loop and an if-statement, print each letter in the string `\"abcdefghij\"`, if that letter is a vowel.\n",
    "~~~"
   ]
  },
  {
   "cell_type": "markdown",
   "metadata": {},
   "source": [
    "#### While-Loops\n",
    "A “while-loop” allows you to repeat a block of code until a condition is no longer true:\n",
    "~~~\n",
    "while <condition>:\n",
    "    block of code\n",
    "~~~    \n",
    "Where `<condition>` is an expression that returns `True` or `False`, or is any object on which `bool` can be called. The “body” of the while-loop is the code indented beneath the while-loop statement.\n",
    "\n",
    "The while-loop behaves as follows:\n",
    "\n",
    "* Call `bool(<condition>)` and execute the indented block of code if `True` is returned. Otherwise, “exit” the while-loop, skipping past the indented code.\n",
    "\n",
    "* If the indented block code is executed, go back to the first step.\n",
    "\n",
    "To be concrete, let’s consider the example:"
   ]
  },
  {
   "cell_type": "code",
   "execution_count": 198,
   "metadata": {},
   "outputs": [
    {
     "name": "stdout",
     "output_type": "stream",
     "text": [
      "2\n"
     ]
    }
   ],
   "source": [
    "# demonstrating a basic while-loop\n",
    "total = 0\n",
    "while total < 2: \n",
    "    total += 1 # equivalent to: `total = total + 1 `\n",
    "print(total) # `total` has the value 2    "
   ]
  },
  {
   "cell_type": "markdown",
   "metadata": {},
   "source": [
    "This code will perform the following steps:\n",
    "\n",
    "* Define the variable `total`, and assign it the value `0`\n",
    "\n",
    "* Evaluate `0 < 2`, which returns `True`: enter the enclosed code-block\n",
    "\n",
    "* Execute the code block: assign `total` the value `0 + 1`\n",
    "\n",
    "* Evaluate `1 < 2`, which returns `True`: enter the enclosed code-block\n",
    "\n",
    "* Execute the code block: assign `total` the value `1 + 1`\n",
    "\n",
    "* Evaluate `2 < 2`, which returns `False`: skip the enclosed code-block\n",
    "\n",
    "* Print the value of `total` (2)\n",
    "\n",
    "Note that if we started off with `total = 3`, the condition-expression `3 < 2` would evaluate to `False` outright, and the indented body of code would never be reached.\n",
    "~~~\n",
    "Warning!\n",
    "\n",
    "It is possible to write a while-loop such that its conditional statement is always True, in which case your code will run ceaselessly! If this ever happens to you in a Jupyter notebook, either interrupt or restart your kernel.\n",
    "~~~"
   ]
  },
  {
   "cell_type": "markdown",
   "metadata": {},
   "source": [
    ">Reading Comprehension: A basic while-loop\n",
    "\n",
    ">Given a list of nonzero, positive numbers, `x`, append the sum of that list to the end of it. Do this until the last value in `x` is at least 100. Use a while-loop.\n",
    "\n",
    ">If you start with `x = [1]`, then by the end of your while-loop `x` should be `[1, 1, 2, 4, 8, 16, 32, 64, 128]`."
   ]
  },
  {
   "cell_type": "markdown",
   "metadata": {},
   "source": [
    "### `break`, `continue`, & `else` clauses on loops\n",
    "The `continue `and `break `statements can be used within the bodies of both for-loops and while-loops. They provide added means for “short-circuiting” or prematurely exiting a given loop, respectively.\n",
    "\n",
    "Encountering `break` within a given loop causes that loop to be exited immediately:"
   ]
  },
  {
   "cell_type": "code",
   "execution_count": 199,
   "metadata": {},
   "outputs": [
    {
     "name": "stdout",
     "output_type": "stream",
     "text": [
      "1 ...next iteration\n",
      "2 ...next iteration\n",
      "3 ...break!\n"
     ]
    }
   ],
   "source": [
    "# breaking out of a loop early\n",
    "for item in [1, 2 , 3, 4 , 5]:\n",
    "    if item == 3:\n",
    "        print(item , '...break!')\n",
    "        break\n",
    "    print(item , '...next iteration')    "
   ]
  },
  {
   "cell_type": "markdown",
   "metadata": {},
   "source": [
    "An `else` clause can be added to the end of any loop. The body of this else-statement will be executed only if the loop was not exited via a ``break`` statement."
   ]
  },
  {
   "cell_type": "code",
   "execution_count": 200,
   "metadata": {},
   "outputs": [
    {
     "name": "stdout",
     "output_type": "stream",
     "text": [
      "2 ...next iteration\n",
      "4 ...next iteration\n",
      "6 ...next iteration\n",
      "if you are reading this, then the loop completed without a \"break\"\n"
     ]
    }
   ],
   "source": [
    "# including an else-clause at the end of the loop\n",
    "for item in [2, 4 ,6]:\n",
    "    if item == 3:\n",
    "        print(item , '...break!')\n",
    "        break\n",
    "    print(item , '...next iteration')\n",
    "else:\n",
    "    print('if you are reading this, then the loop completed without a \"break\"')"
   ]
  },
  {
   "cell_type": "markdown",
   "metadata": {},
   "source": [
    "The `continue `statement, when encountered within a loop, causes the loop-statement to be revisited immediately."
   ]
  },
  {
   "cell_type": "code",
   "execution_count": 201,
   "metadata": {},
   "outputs": [
    {
     "name": "stdout",
     "output_type": "stream",
     "text": [
      "x =  1 >> enter loop-body <<\n",
      "---reached end of loop-body--\n",
      "x =  2 >> enter loop-body <<\n",
      "x= 2 continue...back to the top of the loop!\n",
      "x =  3 >> enter loop-body <<\n",
      "---reached end of loop-body--\n"
     ]
    }
   ],
   "source": [
    "# demonstrating a `continue` statement in a loop\n",
    "x  = 1\n",
    "while  x < 4:\n",
    "    print(\"x = \" , x , \">> enter loop-body <<\")\n",
    "    if x == 2:\n",
    "        print('x=' , x, 'continue...back to the top of the loop!')\n",
    "        x += 1\n",
    "        continue\n",
    "    x += 1\n",
    "    print(\"---reached end of loop-body--\")"
   ]
  },
  {
   "cell_type": "markdown",
   "metadata": {},
   "source": [
    "~~~\n",
    "Reading Comprehension: conducting flow in a loop\n",
    "\n",
    "Loop over a list of integers repeatedly, summing up all of its even values, and adding the content to a total. Repeat this process until the the total exceeds 100, or if you have looped over the list more than 50 times. Print the total only if it exceeds 100.\n",
    "~~~\n",
    "#### Links to Official Documentation\n",
    "* [‘for’ statement](https://docs.python.org/3/reference/compound_stmts.html#the-for-statement)\n",
    "\n",
    "* [‘while’ statement](https://docs.python.org/3/reference/compound_stmts.html#the-while-statement)\n",
    "\n",
    "* [‘break’, ‘continue’, and ‘else’ clauses](https://docs.python.org/3/tutorial/controlflow.html#break-and-continue-statements-and-else-clauses-on-loops)\n",
    "\n",
    "* [‘pass’ statment](https://docs.python.org/3/tutorial/controlflow.html#pass-statements)\n",
    "\n",
    "#### Reading Comprehension Exercise Solutions:\n",
    "A basic for-loop: Solution"
   ]
  },
  {
   "cell_type": "code",
   "execution_count": 202,
   "metadata": {},
   "outputs": [
    {
     "name": "stdout",
     "output_type": "stream",
     "text": [
      "a\n",
      "e\n",
      "i\n"
     ]
    }
   ],
   "source": [
    "for letter in 'abcdefghij':\n",
    "    if letter in 'aeiou':\n",
    "        print(letter)"
   ]
  },
  {
   "cell_type": "markdown",
   "metadata": {},
   "source": [
    "#### A basic while-loop:solution"
   ]
  },
  {
   "cell_type": "code",
   "execution_count": 203,
   "metadata": {},
   "outputs": [
    {
     "ename": "TypeError",
     "evalue": "'int' object is not subscriptable",
     "output_type": "error",
     "traceback": [
      "\u001b[1;31m---------------------------------------------------------------------------\u001b[0m",
      "\u001b[1;31mTypeError\u001b[0m                                 Traceback (most recent call last)",
      "\u001b[1;32m<ipython-input-203-266da6435445>\u001b[0m in \u001b[0;36m<module>\u001b[1;34m\u001b[0m\n\u001b[1;32m----> 1\u001b[1;33m \u001b[1;32mwhile\u001b[0m \u001b[0mx\u001b[0m\u001b[1;33m[\u001b[0m\u001b[1;33m-\u001b[0m\u001b[1;36m1\u001b[0m\u001b[1;33m]\u001b[0m \u001b[1;33m<\u001b[0m \u001b[1;36m100\u001b[0m\u001b[1;33m:\u001b[0m\u001b[1;33m\u001b[0m\u001b[1;33m\u001b[0m\u001b[0m\n\u001b[0m\u001b[0;32m      2\u001b[0m     \u001b[0mx\u001b[0m\u001b[1;33m.\u001b[0m\u001b[0mappend\u001b[0m\u001b[1;33m(\u001b[0m\u001b[0msum\u001b[0m\u001b[1;33m(\u001b[0m\u001b[0mx\u001b[0m\u001b[1;33m)\u001b[0m\u001b[1;33m)\u001b[0m\u001b[1;33m\u001b[0m\u001b[1;33m\u001b[0m\u001b[0m\n",
      "\u001b[1;31mTypeError\u001b[0m: 'int' object is not subscriptable"
     ]
    }
   ],
   "source": [
    "while x[-1] < 100:\n",
    "    x.append(sum(x))"
   ]
  },
  {
   "cell_type": "markdown",
   "metadata": {},
   "source": [
    "#### conducting flow in a loop:Solution"
   ]
  },
  {
   "cell_type": "code",
   "execution_count": 204,
   "metadata": {},
   "outputs": [
    {
     "name": "stdout",
     "output_type": "stream",
     "text": [
      "120\n",
      "5\n"
     ]
    }
   ],
   "source": [
    "x = [3,4,1,2,8,10,-3, 0]\n",
    "num_loop  = 0\n",
    "total = 0\n",
    "while total < 100:\n",
    "    for item in x:\n",
    "        # return to for-loop if \n",
    "        # `item` is odd -valued\n",
    "        if item % 2 == 1:\n",
    "            continue\n",
    "        else:\n",
    "            total += item \n",
    "    num_loop += 1\n",
    "    # breaak from while-loop if \n",
    "    # more than 50 items tallied \n",
    "    if 50 < num_loop:\n",
    "        break\n",
    "else:\n",
    "    print(total)\n",
    "    print(num_loop)"
   ]
  },
  {
   "cell_type": "markdown",
   "metadata": {},
   "source": [
    "#### Iterables\n",
    "Our encounter with for-loops introduced the term iterable - an object that can be “iterated over”, such as in a for-loop.\n",
    "~~~\n",
    "Definition:\n",
    "\n",
    "An iterable is any Python object capable of returning its members one at a time, permitting it to be iterated over in a for-loop.\n",
    "~~~\n",
    "Familiar examples of iterables include lists, tuples, and strings - any such sequence can be iterated over in a for-loop. We will also encounter important non-sequential collections, like dictionaries and sets; these are iterables as well. It is also possible to have an iterable that “generates” each one of its members upon iteration - meaning that it doesn’t ever store all of its members in memory at once. We dedicate an entire section to generators, a special type of iterator, because they are so useful for writing efficient code.\n",
    "\n",
    "The rest of this section is dedicated to working with iterables in your code.\n",
    "\n",
    ">Note:\n",
    "\n",
    ">“Under the hood”, an iterable is any Python object with an `__iter__()` method or with a `__getitem__()` method that implements `Sequence semantics`. These details will become salient if you read through the Object Oriented Programming module.\n",
    "\n",
    "#### Functions that act on iterables\n",
    "Here are some useful built-in functions that accept iterables as arguments:\n",
    "\n",
    "* `list`, `tuple`, `dict`, `set`: construct a list, tuple, dictionary, or set, respectively, from the contents of an iterable\n",
    "\n",
    "* `sum`: sum the contents of an iterable.\n",
    "\n",
    "* `sorted`: return a list of the sorted contents of an interable\n",
    "\n",
    "* `any`: returns `True` and ends the iteration immediately if `bool(item)` was `True` for any item in the iterable.\n",
    "\n",
    "* `all`: returns `True` only if `bool(item)` was `True` for all items in the iterable.\n",
    "\n",
    "* `max`: return the largest value in an iterable.\n",
    "\n",
    "* `min`: return the smallest value in an iterable.\n"
   ]
  },
  {
   "cell_type": "code",
   "execution_count": 205,
   "metadata": {},
   "outputs": [
    {
     "data": {
      "text/plain": [
       "['I', '', 'a', 'm', '', 'C', 'O', 'W']"
      ]
     },
     "execution_count": 205,
     "metadata": {},
     "output_type": "execute_result"
    }
   ],
   "source": [
    "# Example of the built-in function that act on iterables\n",
    "list(\"I am COW\")\n",
    "['I' ,'', 'a' , 'm' , '' , 'C' , 'O' , 'W']"
   ]
  },
  {
   "cell_type": "code",
   "execution_count": 206,
   "metadata": {},
   "outputs": [
    {
     "data": {
      "text/plain": [
       "6"
      ]
     },
     "execution_count": 206,
     "metadata": {},
     "output_type": "execute_result"
    }
   ],
   "source": [
    "sum([1, 2, 3])"
   ]
  },
  {
   "cell_type": "code",
   "execution_count": 207,
   "metadata": {},
   "outputs": [
    {
     "data": {
      "text/plain": [
       "['a', 'b', 'f', 'g', 'j', 'l', 'l', 'n', 'n']"
      ]
     },
     "execution_count": 207,
     "metadata": {},
     "output_type": "execute_result"
    }
   ],
   "source": [
    "sorted(\"glajnfbnl\")"
   ]
  },
  {
   "cell_type": "code",
   "execution_count": 208,
   "metadata": {},
   "outputs": [
    {
     "data": {
      "text/plain": [
       "False"
      ]
     },
     "execution_count": 208,
     "metadata": {},
     "output_type": "execute_result"
    }
   ],
   "source": [
    "#`boool(item)` evaluates to False for each of these items \n",
    "any((0 , None , [] , 0))"
   ]
  },
  {
   "cell_type": "code",
   "execution_count": 209,
   "metadata": {},
   "outputs": [
    {
     "data": {
      "text/plain": [
       "True"
      ]
     },
     "execution_count": 209,
     "metadata": {},
     "output_type": "execute_result"
    }
   ],
   "source": [
    "#`boool(item)` evaluates to True for each of these items \n",
    "all([1,(0,1), True, 'hii'])"
   ]
  },
  {
   "cell_type": "code",
   "execution_count": 210,
   "metadata": {},
   "outputs": [
    {
     "data": {
      "text/plain": [
       "9"
      ]
     },
     "execution_count": 210,
     "metadata": {},
     "output_type": "execute_result"
    }
   ],
   "source": [
    "max((5,8,9,0))"
   ]
  },
  {
   "cell_type": "code",
   "execution_count": 211,
   "metadata": {},
   "outputs": [
    {
     "data": {
      "text/plain": [
       "'e'"
      ]
     },
     "execution_count": 211,
     "metadata": {},
     "output_type": "execute_result"
    }
   ],
   "source": [
    "min('hello')"
   ]
  },
  {
   "cell_type": "markdown",
   "metadata": {},
   "source": [
    "#### Tricks for working with iterables\n",
    "Python provides some syntactic “tricks” for working with iterables: “unpacking” iterables and “enumerating” iterables. Although these may seem like inconsequential niceties at first glance, they deserve our attention because they will help us write clean, readable code. Writing clean, readable code leads to bug-free algorithms that are easy to understand. Furthermore, these tricks will also facilitate the use of other great Python features, like comprehension-statements, which will be introduced in the coming sections.\n",
    "\n",
    "#### “Unpacking” iterables\n",
    "Suppose that you have three values stored in a list, and that you want to assign each value to a distinct variable. Given the lessons that we have covered thus far, you would likely write the following code:"
   ]
  },
  {
   "cell_type": "code",
   "execution_count": 212,
   "metadata": {},
   "outputs": [],
   "source": [
    "# simple script for assigning contents of a list to variable\n",
    "my_list = [7,9,11]"
   ]
  },
  {
   "cell_type": "code",
   "execution_count": 213,
   "metadata": {},
   "outputs": [],
   "source": [
    "x = my_list[0]"
   ]
  },
  {
   "cell_type": "code",
   "execution_count": 214,
   "metadata": {},
   "outputs": [],
   "source": [
    "y = my_list[1]"
   ]
  },
  {
   "cell_type": "code",
   "execution_count": 215,
   "metadata": {},
   "outputs": [],
   "source": [
    "z = my_list[2]"
   ]
  },
  {
   "cell_type": "markdown",
   "metadata": {},
   "source": [
    "Python provides an extremely useful functionality, known as iterable unpacking, which allows us to write the simple, elegant code:"
   ]
  },
  {
   "cell_type": "code",
   "execution_count": 216,
   "metadata": {},
   "outputs": [],
   "source": [
    "# assigning contents of a list to variable using iterables unpacking \n",
    "my_list = [7,9,11]"
   ]
  },
  {
   "cell_type": "code",
   "execution_count": 217,
   "metadata": {},
   "outputs": [],
   "source": [
    "x,y,z = my_list"
   ]
  },
  {
   "cell_type": "code",
   "execution_count": 218,
   "metadata": {},
   "outputs": [
    {
     "name": "stdout",
     "output_type": "stream",
     "text": [
      "7 9 11\n"
     ]
    }
   ],
   "source": [
    "print(x,y,z)"
   ]
  },
  {
   "cell_type": "markdown",
   "metadata": {},
   "source": [
    "That is, the Python interpreter “sees” the pattern of variables to the left of the assignment, and will “unpack” the iterable (which happens to be a list in this instance). It may not seem like it from this example, but this is an extremely useful feature of Python that greatly improves the readability of code!\n",
    "\n",
    "Iterable unpacking is particularly useful in the context of performing for-loops over iterables-of-iterables. For example, suppose we have a list containing tuples of name-grade pairs:"
   ]
  },
  {
   "cell_type": "code",
   "execution_count": 219,
   "metadata": {},
   "outputs": [],
   "source": [
    "grades = [('Ashely' , 93) , ('Brad' , 95) , ('Cassie' , 84)]"
   ]
  },
  {
   "cell_type": "markdown",
   "metadata": {},
   "source": [
    "Recall from the preceding section that if we loop over this list, that the iterate-variable will be assigned to each of these tuples:"
   ]
  },
  {
   "cell_type": "code",
   "execution_count": 220,
   "metadata": {},
   "outputs": [
    {
     "name": "stdout",
     "output_type": "stream",
     "text": [
      "('Ashely', 93)\n",
      "('Brad', 95)\n",
      "('Cassie', 84)\n"
     ]
    }
   ],
   "source": [
    "for entry in grades:\n",
    "    print(entry)"
   ]
  },
  {
   "cell_type": "markdown",
   "metadata": {},
   "source": [
    "It is likely that we will want to work with the student’s name and their grade independently (e.g. use the name to access a log, and add the grade-value to our class statistics); thus we will need to index into `entry` twice to assign its contents to two separate variables. However, because each iteration of the for-loop involves an assignment of the form `entry = (\"Ashley\", 93)`, we can make use of iterable unpacking! That is, we can replace `entry` with `name, grade` and Python will intuitively do an unpacking upon each assignment of the for-loop."
   ]
  },
  {
   "cell_type": "code",
   "execution_count": 221,
   "metadata": {},
   "outputs": [
    {
     "name": "stdout",
     "output_type": "stream",
     "text": [
      "Ashely\n",
      "93\n",
      "\n",
      "\n",
      "Brad\n",
      "95\n",
      "\n",
      "\n",
      "Cassie\n",
      "84\n",
      "\n",
      "\n"
     ]
    }
   ],
   "source": [
    "# The first iteration of this for-loop performs \n",
    "# the unpacking assignments: name, grade = ('Ashley' , 93)\n",
    "# then the second iteration: name , grade = ('Brad ' , 95)\n",
    "# and so-on \n",
    "for name , grade in grades:\n",
    "    print(name)\n",
    "    print(grade)\n",
    "    print('\\n')"
   ]
  },
  {
   "cell_type": "markdown",
   "metadata": {},
   "source": [
    "This for-loop code is concise and supremely readable. It is highly recommended that you make use of iterable unpacking in such contexts.\n",
    "\n",
    "Iterable unpacking is not quite as simple as it might seem. What happens if you provide 4 variables to unpack into, but use an iterable containing 10 items? Although what we have covered thus far conveys the most essential use case, it is good to know that [Python provides an even more extensive syntax for unpacking iterables](https://www.python.org/dev/peps/pep-3132/#specification). We will also see that unpacking can be useful when creating and using functions.\n",
    "~~~\n",
    "Takeaway:\n",
    "\n",
    "Python provides a sleek syntax for “unpacking” the contents of an iterable - assigning each item to its own variable. This allows us to write intuitive, highly-readable code when performing a for-loop over a collection of iterables.\n",
    "~~~"
   ]
  },
  {
   "cell_type": "markdown",
   "metadata": {},
   "source": [
    "#### Enumerating iterables\n",
    "The built-in [enumerate](https://docs.python.org/3/library/functions.html#enumerate) function allows us to iterate over an iterable, while keeping track of the iteration count:"
   ]
  },
  {
   "cell_type": "code",
   "execution_count": 222,
   "metadata": {},
   "outputs": [
    {
     "name": "stdout",
     "output_type": "stream",
     "text": [
      "(0, 'a')\n",
      "(1, 'b')\n",
      "(2, 'c')\n",
      "(3, 'd')\n"
     ]
    },
    {
     "data": {
      "text/plain": [
       "(3, 'd')"
      ]
     },
     "execution_count": 222,
     "metadata": {},
     "output_type": "execute_result"
    }
   ],
   "source": [
    "# basic usage of `enumerated`\n",
    "for entry in enumerate('abcd'):\n",
    "    print(entry)\n",
    "(0 ,  'a')\n",
    "(1 , 'b')\n",
    "(2 , 'c')\n",
    "(3 , 'd')"
   ]
  },
  {
   "cell_type": "markdown",
   "metadata": {},
   "source": [
    "In general, the `enumerate` function accepts an iterable as an input, and returns a new iterable that produces a tuple of the iteration-count and the corresponding item from the original iterable. Thus the items in the iterable are being enumerated. To see the utility of this, suppose that we want to record all of the positions in a list where the value `None` is stored. We can achieve this by tracking the iteration count of a for-loop over the list."
   ]
  },
  {
   "cell_type": "code",
   "execution_count": 236,
   "metadata": {},
   "outputs": [],
   "source": [
    "# track which enties of an iterable store the value `None`\n",
    "none_indices = []\n",
    "iter_cnt = 0 # manually track iteration-count \n",
    "\n",
    "for items in [2 , None , -10 , None , 4 , 8]:\n",
    "    if items is None:\n",
    "        none_indices.append(iter_cnt)\n",
    "    iter_cnt = iter_cnt + 1\n",
    "    # `none_indices` now stores;[1:3]"
   ]
  },
  {
   "cell_type": "code",
   "execution_count": 237,
   "metadata": {},
   "outputs": [
    {
     "data": {
      "text/plain": [
       "[1, 3]"
      ]
     },
     "execution_count": 237,
     "metadata": {},
     "output_type": "execute_result"
    }
   ],
   "source": [
    "none_indices"
   ]
  },
  {
   "cell_type": "code",
   "execution_count": 238,
   "metadata": {},
   "outputs": [
    {
     "data": {
      "text/plain": [
       "6"
      ]
     },
     "execution_count": 238,
     "metadata": {},
     "output_type": "execute_result"
    }
   ],
   "source": [
    "iter_cnt"
   ]
  },
  {
   "cell_type": "markdown",
   "metadata": {},
   "source": [
    "We can simplify this code, and avoid having to initialize or increment the `iter_cnt` variable, by utilizing `enumerate` along with tuple-unpacking."
   ]
  },
  {
   "cell_type": "code",
   "execution_count": 239,
   "metadata": {},
   "outputs": [],
   "source": [
    "# using the `enumerate` function to keep iteration-count\n",
    "none_indices = []\n",
    "\n",
    "# note the use of iterables unpacking !\n",
    "for iter_cnt , item in enumerate([2 , None , -10 , None , 4 , 8]):\n",
    "    if item is None:\n",
    "        none_indices.append(iter_cnt)\n",
    "        \n",
    "# ` none_indices` now stores:[1 , 3]"
   ]
  },
  {
   "cell_type": "code",
   "execution_count": 234,
   "metadata": {},
   "outputs": [
    {
     "data": {
      "text/plain": [
       "[1, 3]"
      ]
     },
     "execution_count": 234,
     "metadata": {},
     "output_type": "execute_result"
    }
   ],
   "source": [
    "none_indices"
   ]
  },
  {
   "cell_type": "code",
   "execution_count": 229,
   "metadata": {},
   "outputs": [
    {
     "data": {
      "text/plain": [
       "5"
      ]
     },
     "execution_count": 229,
     "metadata": {},
     "output_type": "execute_result"
    }
   ],
   "source": [
    "iter_cnt"
   ]
  },
  {
   "cell_type": "markdown",
   "metadata": {},
   "source": [
    "\n",
    ">Takeaway:\n",
    "\n",
    ">The built-in [enumerate](https://docs.python.org/3/library/functions.html#enumerate) function should be used (in conjunction with iterator unpacking) whenever it is necessary to track the iteration count of a for-loop. It is valuable to use this in conjunction with tuple unpacking.\n"
   ]
  },
  {
   "cell_type": "markdown",
   "metadata": {},
   "source": [
    ">Reading Comprehension: enumerate\n",
    "\n",
    ">Use the iterable `\"abcd\"`, the `enumerate` function, and tuple-unpacking in a for-loop to create the list: `[(0, 'a'), (1, 'b'), (2, 'c'), (3, 'd')]`"
   ]
  },
  {
   "cell_type": "markdown",
   "metadata": {},
   "source": [
    "#### Reading Comprehension: Is it sorted?\n",
    "\n",
    ">Use control flow and looping tools to see if an iterable of numbers is sorted.\n",
    "\n",
    ">The variable `unsorted_index` should be initialized to `None`. If the iterable is not sorted, `unsorted_index` should store the index where the sequence first fell out of order. If the iterable is sorted, then `unsorted_index` should remain `None` and your code should print “sorted!”.\n",
    "\n",
    ">For instance:\n",
    "\n",
    ">given the iterable `my_list = [0, 1, -10, 2]`, `unsorted_index` should take the value `2`.\n",
    "\n",
    ">given the iterable `my_list = [-1, 0, 3, 6]`, `unsorted_index` should be `None` and your code should print “sorted!”."
   ]
  },
  {
   "cell_type": "markdown",
   "metadata": {},
   "source": [
    "#### Links to Official Documentation\n",
    "* [Iterable Definition](https://docs.python.org/3/glossary.html#term-iterable)\n",
    "\n",
    "* [Functions on iterables](https://docs.python.org/3/howto/functional.html#built-in-functions)\n",
    "\n",
    "* [enumerate](https://docs.python.org/3/library/functions.html#enumerate)"
   ]
  },
  {
   "cell_type": "markdown",
   "metadata": {},
   "source": [
    "### Reading Comprehension Exercise Solutions:\n",
    "enumerate: Solution"
   ]
  },
  {
   "cell_type": "code",
   "execution_count": 243,
   "metadata": {},
   "outputs": [],
   "source": [
    "out = []\n",
    "for num , letter in enumerate('abcd'):\n",
    "    out.append((num , letter))"
   ]
  },
  {
   "cell_type": "code",
   "execution_count": 244,
   "metadata": {},
   "outputs": [
    {
     "data": {
      "text/plain": [
       "[(0, 'a'), (1, 'b'), (2, 'c'), (3, 'd')]"
      ]
     },
     "execution_count": 244,
     "metadata": {},
     "output_type": "execute_result"
    }
   ],
   "source": [
    "out"
   ]
  },
  {
   "cell_type": "markdown",
   "metadata": {},
   "source": [
    "Is it sorted?: solution"
   ]
  },
  {
   "cell_type": "code",
   "execution_count": 245,
   "metadata": {},
   "outputs": [],
   "source": [
    "my_list = [0,1,-10,2]\n",
    "unsorted_index = None\n",
    "\n",
    "for index , current_num in enumerate(my_list):\n",
    "    if index == 0:\n",
    "        prev_num = current_num \n",
    "    elif prev_num > current_num:\n",
    "        unsorted_index = index\n",
    "        break\n",
    "    prev_num = current_num\n",
    "else:\n",
    "    print('sorted!')\n",
    "        "
   ]
  },
  {
   "cell_type": "code",
   "execution_count": 248,
   "metadata": {},
   "outputs": [
    {
     "data": {
      "text/plain": [
       "2"
      ]
     },
     "execution_count": 248,
     "metadata": {},
     "output_type": "execute_result"
    }
   ],
   "source": [
    "unsorted_index"
   ]
  },
  {
   "cell_type": "markdown",
   "metadata": {},
   "source": [
    "## Generators & Comprehension Expressions\n",
    "~~~\n",
    "Note:\n",
    "\n",
    "There are reading-comprehension exercises included throughout the text. These are meant to help you put your reading to practice. Solutions for the exercises are included at the bottom of this page.\n",
    "~~~\n",
    "#### Introducing Generators\n",
    "Now we introduce an important type of object called a **generator**, which allows us to generate arbitrarily-many items in a series, without having to store them all in memory at once.\n",
    "~~~\n",
    "Definition:\n",
    "\n",
    "A generator is a special kind of iterator, which stores the instructions for how to generate each of its members, in order, along with its current state of iterations. It generates each member, one at a time, only as it is requested via iteration.\n",
    "~~~\n",
    "Recall that a list readily stores all of its members; you can access any of its contents via indexing. A generator, on the other hand, does not store any items. Instead, it stores the instructions for generating each of its members, and stores its iteration state; this means that the generator will know if it has generated its second member, and will thus generate its third member the next time it is iterated on.\n",
    "\n",
    "The whole point of this is that you can use a generator to produce a long sequence of items, without having to store them all in memory."
   ]
  },
  {
   "cell_type": "markdown",
   "metadata": {},
   "source": [
    "#### The `Range` Generater\n",
    "\n",
    "An extremely popular built-in generator is `range`, which, given the values:\n",
    "\n",
    "‘start’ (inclusive, default=0)\n",
    "\n",
    "‘stop’ (exclusive)\n",
    "\n",
    "‘step’ (default=1)\n",
    "\n",
    "will generate the corresponding sequence of integers (from start to stop, using the step size) upon iteration. Consider the following example usages of `range`:\n"
   ]
  },
  {
   "cell_type": "code",
   "execution_count": 249,
   "metadata": {},
   "outputs": [
    {
     "name": "stdout",
     "output_type": "stream",
     "text": [
      "2\n",
      "3\n",
      "4\n",
      "5\n",
      "6\n"
     ]
    }
   ],
   "source": [
    "# start: 2 (included)\n",
    "# stop: 7 (excluded)\n",
    "# step: 1 (default)\n",
    "for i in range(2 , 7):\n",
    "    print(i)"
   ]
  },
  {
   "cell_type": "code",
   "execution_count": 1,
   "metadata": {},
   "outputs": [
    {
     "name": "stdout",
     "output_type": "stream",
     "text": [
      "1\n",
      "3\n",
      "5\n",
      "7\n",
      "9\n"
     ]
    }
   ],
   "source": [
    "# start: 1 (included)\n",
    "# stop : 10 (excluded)\n",
    "# step : 2\n",
    "for i in range(1 , 10 ,2):\n",
    "    print(i)\n",
    "#prints 1.. 3.. 5.. 7.. 9.."
   ]
  },
  {
   "cell_type": "code",
   "execution_count": 4,
   "metadata": {},
   "outputs": [
    {
     "name": "stdout",
     "output_type": "stream",
     "text": [
      "0\n",
      "1\n",
      "2\n",
      "3\n",
      "4\n"
     ]
    }
   ],
   "source": [
    "# very common use case !\n",
    "# start: 0 (default , included)\n",
    "# stop: 5(excluded)\n",
    "#step: 1 (default)\n",
    "for i in range(5):\n",
    "    print(i)\n"
   ]
  },
  {
   "cell_type": "markdown",
   "metadata": {},
   "source": [
    "Because `range` is a generator, the command `range(5)` will simply store the instructions needed to produce the sequence of numbers 0-4, whereas the list `[0, 1, 2, 3, 4]` stores all of these items in memory at once. For short sequences, this seems to be a rather paltry savings; this is not the case for long sequences. The following graph compares the memory consumption used when defining a generator for the sequence of numbers \\(0-N\\) using `range`, compared to storing the sequence in a list:\n",
    "![MEMORY CONSUMPTION COMPARED TO LIST](https://www.pythonlikeyoumeanit.com/_images/Mem_Consumption_Generator.png)\n",
    "\n",
    "\n",
    "Given our discussion of generators, it should make sense that the memory consumed simply by defining `range(N)` is independent of \\(N\\), whereas the memory consumed by the list grows linearly with \\(N\\) (for large \\(N\\)).\n"
   ]
  },
  {
   "cell_type": "markdown",
   "metadata": {},
   "source": [
    "~~~\n",
    "Takeaway:\n",
    "\n",
    "range is a built-in generator, which generates sequences of integers.\n",
    "~~~"
   ]
  },
  {
   "cell_type": "markdown",
   "metadata": {},
   "source": [
    ">Reading Comprehension: Using ``range``:\n",
    "\n",
    ">Using `range` in a for-loop, print the numbers 10-1, in sequence."
   ]
  },
  {
   "cell_type": "code",
   "execution_count": 22,
   "metadata": {},
   "outputs": [
    {
     "name": "stdout",
     "output_type": "stream",
     "text": [
      "10\n",
      "9\n",
      "8\n",
      "7\n",
      "6\n",
      "5\n",
      "4\n",
      "3\n",
      "2\n",
      "1\n"
     ]
    }
   ],
   "source": [
    "for i in range(10 , 0 , -1):\n",
    "    print(i)"
   ]
  },
  {
   "cell_type": "markdown",
   "metadata": {},
   "source": [
    "#### Creating your own generator: generator comprehensions\n",
    "Python provides a sleek syntax for defining a simple generator in a single line of code; this expression is known as a **generator comprehension**. The following syntax is extremely useful and will appear very frequently in Python code:"
   ]
  },
  {
   "cell_type": "markdown",
   "metadata": {},
   "source": [
    "Definition:\n",
    "\n",
    ">The syntax `( < expression > for < var > in < iterable > [if <condition>])` specifies the general form for a **generator comprehension**. This produces a generator, whose instructions for generating its members are provided within the parenthetical statement."
   ]
  },
  {
   "cell_type": "markdown",
   "metadata": {},
   "source": [
    "Written in a long form, the pseudo-code for"
   ]
  },
  {
   "cell_type": "markdown",
   "metadata": {},
   "source": [
    "(<expression> for <var> in <iterable> [if<condition>])"
   ]
  },
  {
   "cell_type": "markdown",
   "metadata": {},
   "source": [
    "is:"
   ]
  },
  {
   "cell_type": "markdown",
   "metadata": {},
   "source": [
    "for <var> in <iterable>:\n",
    "    if bool(<condition>):\n",
    "        yield<expression>"
   ]
  },
  {
   "cell_type": "markdown",
   "metadata": {},
   "source": [
    "The following expression defines a generator for all the even numbers in 0-99:"
   ]
  },
  {
   "cell_type": "code",
   "execution_count": 39,
   "metadata": {},
   "outputs": [
    {
     "name": "stdout",
     "output_type": "stream",
     "text": [
      "0\n",
      "2\n",
      "4\n",
      "6\n",
      "8\n",
      "10\n",
      "12\n",
      "14\n",
      "16\n",
      "18\n",
      "20\n",
      "22\n",
      "24\n",
      "26\n",
      "28\n",
      "30\n",
      "32\n",
      "34\n",
      "36\n",
      "38\n",
      "40\n",
      "42\n",
      "44\n",
      "46\n",
      "48\n",
      "50\n",
      "52\n",
      "54\n",
      "56\n",
      "58\n",
      "60\n",
      "62\n",
      "64\n",
      "66\n",
      "68\n",
      "70\n",
      "72\n",
      "74\n",
      "76\n",
      "78\n",
      "80\n",
      "82\n",
      "84\n",
      "86\n",
      "88\n",
      "90\n",
      "92\n",
      "94\n",
      "96\n",
      "98\n"
     ]
    }
   ],
   "source": [
    "# when iterated over, `even_gen` will generate 0.. 2.. 4.. ... .98\n",
    "even_gen = (i for i  in range(100) if i%2 == 0)\n",
    "for num in even_gen:\n",
    "    print(num)"
   ]
  },
  {
   "cell_type": "markdown",
   "metadata": {},
   "source": [
    "The `if <condition>` clause in the generator expression is optional. The generator comprehension\n",
    "\n"
   ]
  },
  {
   "cell_type": "markdown",
   "metadata": {},
   "source": [
    "`(<expression> for <var> in <iterable>)`"
   ]
  },
  {
   "cell_type": "markdown",
   "metadata": {},
   "source": [
    "Corresponds to:"
   ]
  },
  {
   "cell_type": "raw",
   "metadata": {},
   "source": [
    "for <var> in <iterable>:\n",
    "    yield <expression>"
   ]
  },
  {
   "cell_type": "markdown",
   "metadata": {},
   "source": [
    "For Example:"
   ]
  },
  {
   "cell_type": "code",
   "execution_count": 42,
   "metadata": {},
   "outputs": [
    {
     "name": "stdout",
     "output_type": "stream",
     "text": [
      "0.0\n",
      "4.5\n",
      "10.5\n",
      "16.0\n"
     ]
    }
   ],
   "source": [
    "# when iterated over , `example_gen` will generate 0/2.. 9/2.. 21/2.. 32/2\n",
    "example_gen = (i/2 for i in [0,9,21,32])\n",
    "\n",
    "for item in example_gen:\n",
    "    print(item)"
   ]
  },
  {
   "cell_type": "markdown",
   "metadata": {},
   "source": [
    "`<expression>` Can be any valid single-line of Python code that returns an object:"
   ]
  },
  {
   "cell_type": "code",
   "execution_count": 54,
   "metadata": {},
   "outputs": [],
   "source": [
    "square_cube = ((i , i**2 , i**3) for i in range(10))\n",
    "# will generate:\n",
    "# (0, 0, 0)\n",
    "# (1, 1, 1)\n",
    "# (2, 4, 8)\n",
    "# (3, 9, 27)\n",
    "# (4, 16, 64)\n",
    "# (5, 25, 125)\n",
    "# (6, 36, 216)\n",
    "# (7, 49, 343)\n",
    "# (8, 64, 512)\n",
    "# (9, 81, 729)"
   ]
  },
  {
   "cell_type": "code",
   "execution_count": 55,
   "metadata": {},
   "outputs": [
    {
     "name": "stdout",
     "output_type": "stream",
     "text": [
      "(0, 0, 0)\n",
      "(1, 1, 1)\n",
      "(2, 4, 8)\n",
      "(3, 9, 27)\n",
      "(4, 16, 64)\n",
      "(5, 25, 125)\n",
      "(6, 36, 216)\n",
      "(7, 49, 343)\n",
      "(8, 64, 512)\n",
      "(9, 81, 729)\n"
     ]
    }
   ],
   "source": [
    "for num in square_cube:\n",
    "    print(num)"
   ]
  },
  {
   "cell_type": "markdown",
   "metadata": {},
   "source": [
    "This means that` <expression>` can even involve inline if-else statements!"
   ]
  },
  {
   "cell_type": "code",
   "execution_count": 61,
   "metadata": {},
   "outputs": [
    {
     "name": "stdout",
     "output_type": "stream",
     "text": [
      "apple\n",
      "apple\n",
      "apple\n",
      "pie\n",
      "pie\n",
      "pie\n"
     ]
    }
   ],
   "source": [
    "apple_condition = ((\"apple\" if i < 3 else \"pie\") for i in range(6) )\n",
    "# will generate:\n",
    "# 'apple'..\n",
    "# 'apple'..\n",
    "# 'apple'..\n",
    "# 'pie'..\n",
    "# 'pie'..\n",
    "# 'pie'..\n",
    "for items in apple_condition:\n",
    "    print(items)\n"
   ]
  },
  {
   "cell_type": "markdown",
   "metadata": {},
   "source": [
    "~~~\n",
    "Takeaway:\n",
    "\n",
    "A generator comprehension is a single-line specification for defining a generator in Python. It is absolutely essential to learn this syntax in order to write simple and readable code.\n",
    "~~~"
   ]
  },
  {
   "cell_type": "markdown",
   "metadata": {},
   "source": [
    "\n",
    ">Note:\n",
    "\n",
    ">Generator comprehensions are **not** the only method for defining generators in Python. One can define a generator similar to the way one can define a function (which we will encounter soon). [See this section of the official Python tutorial](https://docs.python.org/3/tutorial/classes.html#generators) if you are interested in diving deeper into generators."
   ]
  },
  {
   "cell_type": "markdown",
   "metadata": {},
   "source": [
    "#### Reading Comprehension: Writing a Generator Comprehension:\n",
    "\n",
    ">Using a generator comprehension, define a generator for the series:\n",
    "\n",
    "`(0, 2).. (1, 3).. (2, 4).. (4, 6).. (5, 7)`\n",
    ">Note that (3, 5) is not in the series.\n",
    "\n",
    ">Iterate over the generator and print its contents to verify your solution."
   ]
  },
  {
   "cell_type": "code",
   "execution_count": 39,
   "metadata": {},
   "outputs": [
    {
     "name": "stdout",
     "output_type": "stream",
     "text": [
      "(0, 2)\n",
      "(1, 3)\n",
      "(2, 4)\n",
      "(4, 6)\n",
      "(5, 7)\n",
      "(6, 8)\n",
      "(7, 9)\n"
     ]
    }
   ],
   "source": [
    "remove_item = [(i , i+2) for i in range(8) if i != 3]\n",
    "for item in remove_item:\n",
    "    print(item)\n",
    "    "
   ]
  },
  {
   "cell_type": "markdown",
   "metadata": {},
   "source": [
    "#### Storing generators\n",
    "Just like we saw with the `range` generator, defining a generator using a comprehension does not perform any computations or consume any memory beyond defining the rules for producing the sequence of data. See what happens when we try to print this generator:"
   ]
  },
  {
   "cell_type": "code",
   "execution_count": 40,
   "metadata": {},
   "outputs": [
    {
     "name": "stdout",
     "output_type": "stream",
     "text": [
      "<generator object <genexpr> at 0x0000024CFF660120>\n"
     ]
    }
   ],
   "source": [
    "# will generate 0, 1, 4, 9 , 25 , ... , 9801\n",
    "gen = (i**2 for i in range(100))\n",
    "print(gen)"
   ]
  },
  {
   "cell_type": "code",
   "execution_count": 41,
   "metadata": {},
   "outputs": [
    {
     "name": "stdout",
     "output_type": "stream",
     "text": [
      "0\n",
      "1\n",
      "4\n",
      "9\n",
      "16\n",
      "25\n",
      "36\n",
      "49\n",
      "64\n",
      "81\n",
      "100\n",
      "121\n",
      "144\n",
      "169\n",
      "196\n",
      "225\n",
      "256\n",
      "289\n",
      "324\n",
      "361\n",
      "400\n",
      "441\n",
      "484\n",
      "529\n",
      "576\n",
      "625\n",
      "676\n",
      "729\n",
      "784\n",
      "841\n",
      "900\n",
      "961\n",
      "1024\n",
      "1089\n",
      "1156\n",
      "1225\n",
      "1296\n",
      "1369\n",
      "1444\n",
      "1521\n",
      "1600\n",
      "1681\n",
      "1764\n",
      "1849\n",
      "1936\n",
      "2025\n",
      "2116\n",
      "2209\n",
      "2304\n",
      "2401\n",
      "2500\n",
      "2601\n",
      "2704\n",
      "2809\n",
      "2916\n",
      "3025\n",
      "3136\n",
      "3249\n",
      "3364\n",
      "3481\n",
      "3600\n",
      "3721\n",
      "3844\n",
      "3969\n",
      "4096\n",
      "4225\n",
      "4356\n",
      "4489\n",
      "4624\n",
      "4761\n",
      "4900\n",
      "5041\n",
      "5184\n",
      "5329\n",
      "5476\n",
      "5625\n",
      "5776\n",
      "5929\n",
      "6084\n",
      "6241\n",
      "6400\n",
      "6561\n",
      "6724\n",
      "6889\n",
      "7056\n",
      "7225\n",
      "7396\n",
      "7569\n",
      "7744\n",
      "7921\n",
      "8100\n",
      "8281\n",
      "8464\n",
      "8649\n",
      "8836\n",
      "9025\n",
      "9216\n",
      "9409\n",
      "9604\n",
      "9801\n"
     ]
    }
   ],
   "source": [
    "for item in gen:\n",
    "    print(item)"
   ]
  },
  {
   "cell_type": "markdown",
   "metadata": {},
   "source": [
    "This output simply indicates that `gen` stores a generator-expression at the memory address `0x000001E768FE8A40`; this is simply where the instructions for generating our sequence of squared numbers is stored. `gen` will not produce any results until we iterate over it. For this reason, generators cannot be inspected in the same way that lists and other sequences can be. You cannot do the following:"
   ]
  },
  {
   "cell_type": "code",
   "execution_count": 42,
   "metadata": {},
   "outputs": [
    {
     "ename": "TypeError",
     "evalue": "object of type 'generator' has no len()",
     "output_type": "error",
     "traceback": [
      "\u001b[1;31m---------------------------------------------------------------------------\u001b[0m",
      "\u001b[1;31mTypeError\u001b[0m                                 Traceback (most recent call last)",
      "\u001b[1;32m<ipython-input-42-9925fd9e58b6>\u001b[0m in \u001b[0;36m<module>\u001b[1;34m\u001b[0m\n\u001b[0;32m      3\u001b[0m \u001b[1;33m\u001b[0m\u001b[0m\n\u001b[0;32m      4\u001b[0m \u001b[1;31m# query the length of a generator\u001b[0m\u001b[1;33m\u001b[0m\u001b[1;33m\u001b[0m\u001b[1;33m\u001b[0m\u001b[0m\n\u001b[1;32m----> 5\u001b[1;33m \u001b[0mlen\u001b[0m\u001b[1;33m(\u001b[0m\u001b[0mgen\u001b[0m\u001b[1;33m)\u001b[0m\u001b[1;33m\u001b[0m\u001b[1;33m\u001b[0m\u001b[0m\n\u001b[0m",
      "\u001b[1;31mTypeError\u001b[0m: object of type 'generator' has no len()"
     ]
    }
   ],
   "source": [
    "# you **cannot** do the following...\n",
    "gen = (i**2 for i in range(100))\n",
    "\n",
    "# query the length of a generator\n",
    "len(gen)\n"
   ]
  },
  {
   "cell_type": "code",
   "execution_count": 43,
   "metadata": {},
   "outputs": [
    {
     "ename": "TypeError",
     "evalue": "'generator' object is not subscriptable",
     "output_type": "error",
     "traceback": [
      "\u001b[1;31m---------------------------------------------------------------------------\u001b[0m",
      "\u001b[1;31mTypeError\u001b[0m                                 Traceback (most recent call last)",
      "\u001b[1;32m<ipython-input-43-354e9613c4a6>\u001b[0m in \u001b[0;36m<module>\u001b[1;34m\u001b[0m\n\u001b[0;32m      1\u001b[0m \u001b[1;31m# index into a generator\u001b[0m\u001b[1;33m\u001b[0m\u001b[1;33m\u001b[0m\u001b[1;33m\u001b[0m\u001b[0m\n\u001b[1;32m----> 2\u001b[1;33m \u001b[0mgen\u001b[0m\u001b[1;33m[\u001b[0m\u001b[1;36m2\u001b[0m\u001b[1;33m]\u001b[0m\u001b[1;33m\u001b[0m\u001b[1;33m\u001b[0m\u001b[0m\n\u001b[0m",
      "\u001b[1;31mTypeError\u001b[0m: 'generator' object is not subscriptable"
     ]
    }
   ],
   "source": [
    "# index into a generator\n",
    "gen[2]"
   ]
  },
  {
   "cell_type": "markdown",
   "metadata": {},
   "source": [
    "The sole exception to this is the` range `generator, for which all of these inspections are valid."
   ]
  },
  {
   "cell_type": "markdown",
   "metadata": {},
   "source": [
    "### Consuming generators \n",
    "we can feed this to any function that accepts iterables. For instance, we can feed `gen` to the built-in `sum` function, which sums the contents of an iterables:\n"
   ]
  },
  {
   "cell_type": "code",
   "execution_count": 44,
   "metadata": {},
   "outputs": [
    {
     "data": {
      "text/plain": [
       "328350"
      ]
     },
     "execution_count": 44,
     "metadata": {},
     "output_type": "execute_result"
    }
   ],
   "source": [
    "gen = (i**2 for i in range(100))\n",
    "sum(gen) # computes the sum 0 + 1 + 4+ 9 + 25 + .. . + 9801"
   ]
  },
  {
   "cell_type": "markdown",
   "metadata": {},
   "source": [
    "This computes the sum of the sequence of numbers without ever storing the full sequence of numbers in memory. In fact, only two numbers need be stored during any given iteration of the sum: the current value of the sum, and the number being added to it.\n",
    "\n",
    "What happens if we run this command a second time:"
   ]
  },
  {
   "cell_type": "code",
   "execution_count": 45,
   "metadata": {},
   "outputs": [
    {
     "data": {
      "text/plain": [
       "0"
      ]
     },
     "execution_count": 45,
     "metadata": {},
     "output_type": "execute_result"
    }
   ],
   "source": [
    "# computes the sum of .. . nothing ! \n",
    "# `gen ` has already been consumed !\n",
    "sum(gen)"
   ]
  },
  {
   "cell_type": "markdown",
   "metadata": {},
   "source": [
    "It may be surprising to see that the sum now returns 0. This is because **a generator is exhausted after it is iterated over in full**. You must redefine the generator if you want to iterate over it again; fortunately, defining a generator requires very few resources, so this is not a point of concern.\n",
    "\n",
    "You can also check for membership in a generator, but this also consumes the generator:"
   ]
  },
  {
   "cell_type": "code",
   "execution_count": 46,
   "metadata": {},
   "outputs": [
    {
     "data": {
      "text/plain": [
       "True"
      ]
     },
     "execution_count": 46,
     "metadata": {},
     "output_type": "execute_result"
    }
   ],
   "source": [
    "# checking for membership consumes a generator untill \n",
    "# it finds that item (consuming the entire generator\n",
    "# if the item is not containeed within it)\n",
    "gen = (i for i in range(1, 11))\n",
    "5 in gen # first 5 element are consumed "
   ]
  },
  {
   "cell_type": "code",
   "execution_count": 47,
   "metadata": {},
   "outputs": [
    {
     "data": {
      "text/plain": [
       "False"
      ]
     },
     "execution_count": 47,
     "metadata": {},
     "output_type": "execute_result"
    }
   ],
   "source": [
    "# 1-5 are no longer contained in gen \n",
    "# this checks consumes the entire generator! \n",
    "5 in gen"
   ]
  },
  {
   "cell_type": "code",
   "execution_count": 48,
   "metadata": {},
   "outputs": [
    {
     "data": {
      "text/plain": [
       "0"
      ]
     },
     "execution_count": 48,
     "metadata": {},
     "output_type": "execute_result"
    }
   ],
   "source": [
    "sum(gen)"
   ]
  },
  {
   "cell_type": "markdown",
   "metadata": {},
   "source": [
    "~~~\n",
    "Takeaway:\n",
    "\n",
    "A generator can only be iterated over once, after which it is exhausted and must be re-defined in order to be iterated over again.\n",
    "~~~"
   ]
  },
  {
   "cell_type": "markdown",
   "metadata": {},
   "source": [
    "#### Chaining comprehensions\n",
    "Because generators are iterables, they can be fed into subsequent generator comprehensions. That is, they can be “chained” together."
   ]
  },
  {
   "cell_type": "code",
   "execution_count": 49,
   "metadata": {},
   "outputs": [],
   "source": [
    "# chaining the generator comprehensions\n",
    "\n",
    "# generators 400.. 100.. 0.. 100.. 400..\n",
    "gen_1 = (i**2 for i in [-20 , -10 , 0 , 10 , 20])\n"
   ]
  },
  {
   "cell_type": "code",
   "execution_count": 50,
   "metadata": {},
   "outputs": [],
   "source": [
    "# iterates through gen_1 , excluding any numbers whose absolute value is greater than 150\n",
    "gen_2 = (j for j in gen_1 if abs(j) <= 150)"
   ]
  },
  {
   "cell_type": "code",
   "execution_count": 51,
   "metadata": {},
   "outputs": [
    {
     "data": {
      "text/plain": [
       "200"
      ]
     },
     "execution_count": 51,
     "metadata": {},
     "output_type": "execute_result"
    }
   ],
   "source": [
    "# computing 100 + 0 + 100 = 200\n",
    "sum(gen_2)"
   ]
  },
  {
   "cell_type": "markdown",
   "metadata": {},
   "source": [
    "This is equivalent to:"
   ]
  },
  {
   "cell_type": "code",
   "execution_count": 53,
   "metadata": {},
   "outputs": [
    {
     "name": "stdout",
     "output_type": "stream",
     "text": [
      "200\n"
     ]
    }
   ],
   "source": [
    "total = 0\n",
    "for i in [-20 , -10 , 0 , 10 , 20]:\n",
    "    j = i ** 2\n",
    "    if j <= 150:\n",
    "        total += j\n",
    "        \n",
    "# total is now 200\n",
    "print(total)\n",
    "    "
   ]
  },
  {
   "cell_type": "markdown",
   "metadata": {},
   "source": [
    "#### Using generator comprehensions on the fly \n",
    "\n",
    "a feature of Python, that can make your code supremely readable and intuitive, is that generator comprehension can be fed directly into function that operate on iterables. That is,"
   ]
  },
  {
   "cell_type": "code",
   "execution_count": 54,
   "metadata": {},
   "outputs": [
    {
     "data": {
      "text/plain": [
       "328350"
      ]
     },
     "execution_count": 54,
     "metadata": {},
     "output_type": "execute_result"
    }
   ],
   "source": [
    "gen = (i**2 for i in range(100))\n",
    "sum(gen)"
   ]
  },
  {
   "cell_type": "markdown",
   "metadata": {},
   "source": [
    "can be simplified as :"
   ]
  },
  {
   "cell_type": "code",
   "execution_count": 55,
   "metadata": {},
   "outputs": [
    {
     "data": {
      "text/plain": [
       "328350"
      ]
     },
     "execution_count": 55,
     "metadata": {},
     "output_type": "execute_result"
    }
   ],
   "source": [
    "sum(i**2 for i in range(100))"
   ]
  },
  {
   "cell_type": "markdown",
   "metadata": {},
   "source": [
    "If you want your code to compute the finite homonic series:  ∑100 1/n=1+1/2+...+1/100\n",
    "                                                              k=1, you can simply write:"
   ]
  },
  {
   "cell_type": "code",
   "execution_count": 1,
   "metadata": {},
   "outputs": [
    {
     "data": {
      "text/plain": [
       "5.187377517639621"
      ]
     },
     "execution_count": 1,
     "metadata": {},
     "output_type": "execute_result"
    }
   ],
   "source": [
    "sum(1/n for n in range(1 ,101))"
   ]
  },
  {
   "cell_type": "markdown",
   "metadata": {},
   "source": [
    "This convenient syntax works for any function that expects an iterable as an argument, such as the `list` function and `all` function:"
   ]
  },
  {
   "cell_type": "code",
   "execution_count": 2,
   "metadata": {},
   "outputs": [
    {
     "data": {
      "text/plain": [
       "[0, 1, 4, 9, 16, 25, 36, 49, 64, 81]"
      ]
     },
     "execution_count": 2,
     "metadata": {},
     "output_type": "execute_result"
    }
   ],
   "source": [
    "# provides generator expression as argument to functions\n",
    "# that operate on iterables \n",
    "list(i**2 for i in range(10))"
   ]
  },
  {
   "cell_type": "code",
   "execution_count": 4,
   "metadata": {},
   "outputs": [
    {
     "data": {
      "text/plain": [
       "True"
      ]
     },
     "execution_count": 4,
     "metadata": {},
     "output_type": "execute_result"
    }
   ],
   "source": [
    "all(i < 10 for i in [1,3, 5, 7])"
   ]
  },
  {
   "cell_type": "code",
   "execution_count": 5,
   "metadata": {},
   "outputs": [
    {
     "data": {
      "text/plain": [
       "'10,200,4000,80000'"
      ]
     },
     "execution_count": 5,
     "metadata": {},
     "output_type": "execute_result"
    }
   ],
   "source": [
    "','.join(str(i) for i in [10 , 200 , 4000 , 80000])"
   ]
  },
  {
   "cell_type": "markdown",
   "metadata": {},
   "source": [
    "~~~\n",
    "Takeaway:\n",
    "\n",
    "A generator comprehension can be specified directly as an argument to a function, wherever a single iterable is expected as an input to that function.\n",
    "~~~\n"
   ]
  },
  {
   "cell_type": "markdown",
   "metadata": {},
   "source": [
    "~~~\n",
    "Reading Comprehension: Using Generator Comprehensions on the Fly:\n",
    "\n",
    "In a single line, compute the sum of all of the odd-numbers in 0-100.\n",
    "~~~"
   ]
  },
  {
   "cell_type": "code",
   "execution_count": 60,
   "metadata": {},
   "outputs": [
    {
     "data": {
      "text/plain": [
       "2500"
      ]
     },
     "execution_count": 60,
     "metadata": {},
     "output_type": "execute_result"
    }
   ],
   "source": [
    "sum(i for i in range(101) if i % 2 != 0)"
   ]
  },
  {
   "cell_type": "markdown",
   "metadata": {},
   "source": [
    "#### Iterating over generators using `next`\n",
    "The built-in function `next` allows you manually “request” the next member of a generator, or more generally, any kind of iterator. Calling `next `on an exhausted iterator will raise a `StopIteration` signal."
   ]
  },
  {
   "cell_type": "code",
   "execution_count": 61,
   "metadata": {},
   "outputs": [],
   "source": [
    "# consuming an iterator using `next`\n",
    "short_gen = (i/2 for i in [1,2,3])"
   ]
  },
  {
   "cell_type": "code",
   "execution_count": 62,
   "metadata": {},
   "outputs": [
    {
     "data": {
      "text/plain": [
       "0.5"
      ]
     },
     "execution_count": 62,
     "metadata": {},
     "output_type": "execute_result"
    }
   ],
   "source": [
    "next(short_gen)"
   ]
  },
  {
   "cell_type": "code",
   "execution_count": 63,
   "metadata": {},
   "outputs": [
    {
     "data": {
      "text/plain": [
       "1.0"
      ]
     },
     "execution_count": 63,
     "metadata": {},
     "output_type": "execute_result"
    }
   ],
   "source": [
    "next(short_gen)"
   ]
  },
  {
   "cell_type": "code",
   "execution_count": 64,
   "metadata": {},
   "outputs": [
    {
     "data": {
      "text/plain": [
       "1.5"
      ]
     },
     "execution_count": 64,
     "metadata": {},
     "output_type": "execute_result"
    }
   ],
   "source": [
    "next(short_gen)"
   ]
  },
  {
   "cell_type": "code",
   "execution_count": 65,
   "metadata": {},
   "outputs": [
    {
     "ename": "StopIteration",
     "evalue": "",
     "output_type": "error",
     "traceback": [
      "\u001b[1;31m---------------------------------------------------------------------------\u001b[0m",
      "\u001b[1;31mStopIteration\u001b[0m                             Traceback (most recent call last)",
      "\u001b[1;32m<ipython-input-65-ed60a54ccf0b>\u001b[0m in \u001b[0;36m<module>\u001b[1;34m\u001b[0m\n\u001b[1;32m----> 1\u001b[1;33m \u001b[0mnext\u001b[0m\u001b[1;33m(\u001b[0m\u001b[0mshort_gen\u001b[0m\u001b[1;33m)\u001b[0m\u001b[1;33m\u001b[0m\u001b[1;33m\u001b[0m\u001b[0m\n\u001b[0m",
      "\u001b[1;31mStopIteration\u001b[0m: "
     ]
    }
   ],
   "source": [
    "next(short_gen)"
   ]
  },
  {
   "cell_type": "markdown",
   "metadata": {},
   "source": [
    "This is a great tool for retrieving content from a generator, or any iterator, without having to perform a for-loop over it."
   ]
  },
  {
   "cell_type": "markdown",
   "metadata": {},
   "source": [
    "#### Iterables vs. Iterators\n",
    "This subsection is not essential to your basic understanding of the material. I am including it to prevent this text from being misleading to those who already know quite a bit about Python. `This is a bit advanced, feel free to skip it…`\n",
    "\n",
    "There is a bit of confusing terminology to be cleared up: an iterable is not the same thing as an iterator.\n",
    "\n",
    "An iterator object stores its current state of iteration and “yields” each of its members in order, on demand via `next`, until it is exhausted. As we’ve seen, a generator is an example of an iterator. We now must understand that every iterator is an iterable, but not every iterable is an iterator.\n",
    "\n",
    "An iterable is an object that can be iterated over but does not necessarily have all the machinery of an iterator. For example, sequences (e.g lists, tuples, and strings) and other containers (e.g. dictionaries and sets) do not keep track of their own state of iteration. Thus you cannot call `next` on one of these outright:"
   ]
  },
  {
   "cell_type": "code",
   "execution_count": 1,
   "metadata": {},
   "outputs": [
    {
     "ename": "TypeError",
     "evalue": "'list' object is not an iterator",
     "output_type": "error",
     "traceback": [
      "\u001b[1;31m---------------------------------------------------------------------------\u001b[0m",
      "\u001b[1;31mTypeError\u001b[0m                                 Traceback (most recent call last)",
      "\u001b[1;32m<ipython-input-1-018e6bfa4018>\u001b[0m in \u001b[0;36m<module>\u001b[1;34m\u001b[0m\n\u001b[0;32m      2\u001b[0m \u001b[1;31m# an iterator - you cannot call ` next` on it .\u001b[0m\u001b[1;33m\u001b[0m\u001b[1;33m\u001b[0m\u001b[1;33m\u001b[0m\u001b[0m\n\u001b[0;32m      3\u001b[0m \u001b[0mx\u001b[0m \u001b[1;33m=\u001b[0m \u001b[1;33m[\u001b[0m \u001b[1;36m1\u001b[0m\u001b[1;33m,\u001b[0m \u001b[1;36m2\u001b[0m\u001b[1;33m,\u001b[0m \u001b[1;36m3\u001b[0m\u001b[1;33m]\u001b[0m\u001b[1;33m\u001b[0m\u001b[1;33m\u001b[0m\u001b[0m\n\u001b[1;32m----> 4\u001b[1;33m \u001b[0mnext\u001b[0m\u001b[1;33m(\u001b[0m\u001b[0mx\u001b[0m\u001b[1;33m)\u001b[0m\u001b[1;33m\u001b[0m\u001b[1;33m\u001b[0m\u001b[0m\n\u001b[0m",
      "\u001b[1;31mTypeError\u001b[0m: 'list' object is not an iterator"
     ]
    }
   ],
   "source": [
    "# a list is an example of an iterable that is a *not*\n",
    "# an iterator - you cannot call ` next` on it .\n",
    "x = [ 1, 2, 3]\n",
    "next(x)"
   ]
  },
  {
   "cell_type": "markdown",
   "metadata": {},
   "source": [
    "In order to iterate over, say, a list you must first pass it to the built-in `iter` function. This function will return an iterator for that list, which stores its state of iteration and the instructions to yield each one of the list’s members:"
   ]
  },
  {
   "cell_type": "code",
   "execution_count": 2,
   "metadata": {},
   "outputs": [
    {
     "data": {
      "text/plain": [
       "1"
      ]
     },
     "execution_count": 2,
     "metadata": {},
     "output_type": "execute_result"
    }
   ],
   "source": [
    "# any iterable can be fed to `iter` \n",
    "# to produce an iterator for that object \n",
    "x =  [1 ,2  ,3]\n",
    "x_it = iter(x) # `x_it` is an iterator\n",
    "next(x_it)"
   ]
  },
  {
   "cell_type": "code",
   "execution_count": 3,
   "metadata": {},
   "outputs": [
    {
     "data": {
      "text/plain": [
       "2"
      ]
     },
     "execution_count": 3,
     "metadata": {},
     "output_type": "execute_result"
    }
   ],
   "source": [
    "next(x_it)"
   ]
  },
  {
   "cell_type": "code",
   "execution_count": 4,
   "metadata": {},
   "outputs": [
    {
     "data": {
      "text/plain": [
       "3"
      ]
     },
     "execution_count": 4,
     "metadata": {},
     "output_type": "execute_result"
    }
   ],
   "source": [
    "next(x_it)"
   ]
  },
  {
   "cell_type": "markdown",
   "metadata": {},
   "source": [
    "In this way, a list is an iterable but not an iterator, which is also the case for tuples, strings, sets, and dictionaries.\n",
    "\n",
    "Python actually creates an iterator “behind the scenes”, whenever you perform a for-loop over an iterable like a list. It feeds that iterable to `iter`, and then proceeds to call `next` on the resulting iterator for each of the for-loop’s iterations."
   ]
  },
  {
   "cell_type": "markdown",
   "metadata": {},
   "source": [
    "List & Tuple Comprehensions\n",
    "Using generator comprehensions to initialize lists is so useful that Python actually reserves a specialized syntax for it, known as the list comprehension. A list comprehension is a syntax for constructing a list, which exactly mirrors the generator comprehension syntax:"
   ]
  },
  {
   "cell_type": "markdown",
   "metadata": {},
   "source": [
    " [`<expression>` for `<var>` in `<iterable>` {if <condition}]"
   ]
  },
  {
   "cell_type": "markdown",
   "metadata": {},
   "source": [
    "For example, if we want to create a list of square-numbers , we can simply write:"
   ]
  },
  {
   "cell_type": "code",
   "execution_count": 6,
   "metadata": {},
   "outputs": [
    {
     "data": {
      "text/plain": [
       "[0, 1, 4, 9, 16, 25, 36, 49, 64, 81]"
      ]
     },
     "execution_count": 6,
     "metadata": {},
     "output_type": "execute_result"
    }
   ],
   "source": [
    "# a simple list comprehension\n",
    "[i **2 for i in range(10)]"
   ]
  },
  {
   "cell_type": "markdown",
   "metadata": {},
   "source": [
    "This produces the exact same result as feeding the list function a generator comprehension. However, using a list comprehension is slightly more efficient than is feeding the `list` function a generator comprehension.\n",
    "\n",
    "Let’s appreciate how economical list comprehensions are. The following code stores words that contain the letter “o”, in a list:"
   ]
  },
  {
   "cell_type": "code",
   "execution_count": 9,
   "metadata": {},
   "outputs": [],
   "source": [
    "word_width_o = []\n",
    "word_collection = ['python' , 'Like' , 'You' , 'Mean' , 'It']\n",
    "\n",
    "\n",
    "\n",
    "for word in word_collection:\n",
    "    if \"o\" in word.lower():\n",
    "        word_width_o.append(word)"
   ]
  },
  {
   "cell_type": "code",
   "execution_count": 10,
   "metadata": {},
   "outputs": [
    {
     "data": {
      "text/plain": [
       "['python', 'You']"
      ]
     },
     "execution_count": 10,
     "metadata": {},
     "output_type": "execute_result"
    }
   ],
   "source": [
    "word_width_o"
   ]
  },
  {
   "cell_type": "markdown",
   "metadata": {},
   "source": [
    "This can be written in a single line, using a list comprehension:"
   ]
  },
  {
   "cell_type": "code",
   "execution_count": 13,
   "metadata": {},
   "outputs": [
    {
     "data": {
      "text/plain": [
       "['python', 'You']"
      ]
     },
     "execution_count": 13,
     "metadata": {},
     "output_type": "execute_result"
    }
   ],
   "source": [
    "word_collection = ['python' , 'Like' , 'You' , 'Mean' , 'It']\n",
    "word_with_0 = [word for word in word_collection if '0' in word.lower()]\n",
    "word_width_o"
   ]
  },
  {
   "cell_type": "markdown",
   "metadata": {},
   "source": [
    "Tuples can be created using comprehension expressions too, but we must explicitly invoke the `tuple` constructor since parentheses are already reserved for defining a generator-comprehension."
   ]
  },
  {
   "cell_type": "code",
   "execution_count": 14,
   "metadata": {},
   "outputs": [
    {
     "data": {
      "text/plain": [
       "(0, 1, 4, 9, 16)"
      ]
     },
     "execution_count": 14,
     "metadata": {},
     "output_type": "execute_result"
    }
   ],
   "source": [
    "# creating a tuple using a comprehension expression\n",
    "tuple(i ** 2 for i in range(5))"
   ]
  },
  {
   "cell_type": "markdown",
   "metadata": {},
   "source": [
    "~~~\n",
    "Takeaway:\n",
    "\n",
    "The comprehensions-statement is an extremely useful syntax for creating simple and complicated lists and tuples alike.\n",
    "~~~"
   ]
  },
  {
   "cell_type": "markdown",
   "metadata": {},
   "source": [
    "Nesting Comprehension\n",
    "\n",
    "It can be useful to nest comprehension expressions within one another, although this should be used sparingly."
   ]
  },
  {
   "cell_type": "code",
   "execution_count": 19,
   "metadata": {},
   "outputs": [
    {
     "data": {
      "text/plain": [
       "[[0, 0, 0, 0], [0, 0, 0, 0], [0, 0, 0, 0]]"
      ]
     },
     "execution_count": 19,
     "metadata": {},
     "output_type": "execute_result"
    }
   ],
   "source": [
    "# Nested list comprehensions.\n",
    "# This creates a 3 x 4 'matrix' (list od lists) of zeros.\n",
    "\n",
    "[[0 for col in range(4)] for row in range(3)]"
   ]
  },
  {
   "cell_type": "markdown",
   "metadata": {},
   "source": [
    "Reading Comprehension: List Comprehensions:\n",
    "\n",
    "Use a list comprehension to create a list that contains the string “hello” 100 times."
   ]
  },
  {
   "cell_type": "markdown",
   "metadata": {},
   "source": [
    "Reading Comprehension: Fancier List Comprehensions:\n",
    "\n",
    "Use the inline if-else statement (discussed earlier in this module), along with a list comprehension, to create the list:"
   ]
  },
  {
   "cell_type": "code",
   "execution_count": 21,
   "metadata": {},
   "outputs": [
    {
     "data": {
      "text/plain": [
       "['hello',\n",
       " 'hello',\n",
       " 'hello',\n",
       " 'hello',\n",
       " 'hello',\n",
       " 'hello',\n",
       " 'hello',\n",
       " 'hello',\n",
       " 'hello',\n",
       " 'hello',\n",
       " 'hello',\n",
       " 'hello',\n",
       " 'hello',\n",
       " 'hello',\n",
       " 'hello',\n",
       " 'hello',\n",
       " 'hello',\n",
       " 'hello',\n",
       " 'hello',\n",
       " 'hello',\n",
       " 'hello',\n",
       " 'hello',\n",
       " 'hello',\n",
       " 'hello',\n",
       " 'hello',\n",
       " 'hello',\n",
       " 'hello',\n",
       " 'hello',\n",
       " 'hello',\n",
       " 'hello',\n",
       " 'hello',\n",
       " 'hello',\n",
       " 'hello',\n",
       " 'hello',\n",
       " 'hello',\n",
       " 'hello',\n",
       " 'hello',\n",
       " 'hello',\n",
       " 'hello',\n",
       " 'hello',\n",
       " 'hello',\n",
       " 'hello',\n",
       " 'hello',\n",
       " 'hello',\n",
       " 'hello',\n",
       " 'hello',\n",
       " 'hello',\n",
       " 'hello',\n",
       " 'hello',\n",
       " 'hello',\n",
       " 'hello',\n",
       " 'hello',\n",
       " 'hello',\n",
       " 'hello',\n",
       " 'hello',\n",
       " 'hello',\n",
       " 'hello',\n",
       " 'hello',\n",
       " 'hello',\n",
       " 'hello',\n",
       " 'hello',\n",
       " 'hello',\n",
       " 'hello',\n",
       " 'hello',\n",
       " 'hello',\n",
       " 'hello',\n",
       " 'hello',\n",
       " 'hello',\n",
       " 'hello',\n",
       " 'hello',\n",
       " 'hello',\n",
       " 'hello',\n",
       " 'hello',\n",
       " 'hello',\n",
       " 'hello',\n",
       " 'hello',\n",
       " 'hello',\n",
       " 'hello',\n",
       " 'hello',\n",
       " 'hello',\n",
       " 'hello',\n",
       " 'hello',\n",
       " 'hello',\n",
       " 'hello',\n",
       " 'hello',\n",
       " 'hello',\n",
       " 'hello',\n",
       " 'hello',\n",
       " 'hello',\n",
       " 'hello',\n",
       " 'hello',\n",
       " 'hello',\n",
       " 'hello',\n",
       " 'hello',\n",
       " 'hello',\n",
       " 'hello',\n",
       " 'hello',\n",
       " 'hello',\n",
       " 'hello',\n",
       " 'hello',\n",
       " 'hello']"
      ]
     },
     "execution_count": 21,
     "metadata": {},
     "output_type": "execute_result"
    }
   ],
   "source": [
    "['hello' for i in range(101)]"
   ]
  },
  {
   "cell_type": "code",
   "execution_count": 16,
   "metadata": {},
   "outputs": [
    {
     "data": {
      "text/plain": [
       "['hello',\n",
       " 'goodbye',\n",
       " 'hello',\n",
       " 'goodbye',\n",
       " 'hello',\n",
       " 'goodbye',\n",
       " 'hello',\n",
       " 'goodbye',\n",
       " 'hello',\n",
       " 'goodbye']"
      ]
     },
     "execution_count": 16,
     "metadata": {},
     "output_type": "execute_result"
    }
   ],
   "source": [
    "[('hello' if i % 2 == 0 else 'goodbye') for i in range(10) ]"
   ]
  },
  {
   "cell_type": "markdown",
   "metadata": {},
   "source": [
    ">Reading Comprehension: Tuple Comprehensions:\n",
    "\n",
    ">Use a tuple-comprehension to extract comma-separated numbers from a string, converting them into a tuple of floats. I.e. `\"3.2,2.4,99.8\"` should become `(3.2, 2.4, 99.8)`. You will want to use the built-in string function `str.split`."
   ]
  },
  {
   "cell_type": "code",
   "execution_count": 19,
   "metadata": {},
   "outputs": [
    {
     "data": {
      "text/plain": [
       "(3.2, 2.4, 99.8)"
      ]
     },
     "execution_count": 19,
     "metadata": {},
     "output_type": "execute_result"
    }
   ],
   "source": [
    "string_of_numbers = '3.2 , 2.4 , 99.8'\n",
    "tuple(float(i) for i in string_of_numbers.split(','))"
   ]
  },
  {
   "cell_type": "markdown",
   "metadata": {},
   "source": [
    ">Reading Comprehension: Translating a For-Loop:\n",
    "\n",
    ">Replicate the functionality of the the following code by writing a list comprehension.\n",
    "~~~\n",
    "# skip all non-lowercased letters (including punctuation)\n",
    "# append 1 if lowercase letter is equal to \"o\"\n",
    "# append 0 if lowercase letter is not \"o\"\n",
    "out = []\n",
    "for i in \"Hello. How Are You?\":\n",
    "    if i.islower():\n",
    "        out.append(1 if i == \"o\" else 0)\n",
    "~~~"
   ]
  },
  {
   "cell_type": "code",
   "execution_count": 21,
   "metadata": {},
   "outputs": [
    {
     "name": "stdout",
     "output_type": "stream",
     "text": [
      "[0, 0, 0, 1, 1, 0, 0, 0, 1, 0]\n"
     ]
    }
   ],
   "source": [
    "out = []\n",
    "for i in 'Hello. How Are You?':\n",
    "    if i.islower():\n",
    "        out.append(1 if i == 'o' else 0)\n",
    "print(out)"
   ]
  },
  {
   "cell_type": "code",
   "execution_count": 1,
   "metadata": {},
   "outputs": [
    {
     "data": {
      "text/plain": [
       "[0, 0, 0, 0, 0, 0, 0, 0, 0, 0, 0]"
      ]
     },
     "execution_count": 1,
     "metadata": {},
     "output_type": "execute_result"
    }
   ],
   "source": [
    "[(1 if i == '0' else 0) for i in 'Hello. How are You?' if i.islower()]"
   ]
  },
  {
   "cell_type": "markdown",
   "metadata": {},
   "source": [
    "#### Reading Comprehension: Memory Efficiency:\n",
    "\n",
    "Is there any difference in performance between the following expressions?\n",
    "~~~\n",
    "# feeding `sum` a generator comprehension\n",
    "sum(1/n for n in range(1, 101))\n",
    "~~~\n",
    "~~~\n",
    "# feeding `sum` a list comprehension\n",
    "sum([1/n for n in range(1, 101)])\n",
    "~~~\n",
    "Is one expression preferable over the other? Why?"
   ]
  },
  {
   "cell_type": "markdown",
   "metadata": {},
   "source": [
    "#### Links to Official Documentation\n",
    "* [Generator definition](https://docs.python.org/3/glossary.html#term-generator)\n",
    "\n",
    "* [range](https://docs.python.org/3/library/stdtypes.html#typesseq-range)\n",
    "\n",
    "* [Generator comprehension expressions](https://docs.python.org/3/tutorial/classes.html#generator-expressions)\n",
    "\n",
    "* [Iterator definition](https://docs.python.org/3/glossary.html#term-iterator)\n",
    "\n",
    "* [next](https://docs.python.org/3/library/functions.html#next)\n",
    "\n",
    "* [iter](https://docs.python.org/3/library/functions.html#iter)\n",
    "\n",
    "* [List comprehensions](https://docs.python.org/3/tutorial/datastructures.html#nested-list-comprehensions)\n",
    "\n",
    "* [Nested list comprehensions]()"
   ]
  },
  {
   "cell_type": "markdown",
   "metadata": {},
   "source": [
    "#### Python’s “Itertools”\n",
    "Python has an [itertools module](https://docs.python.org/3/library/itertools.html), which provides a core set of fast, memory-efficient tools for creating iterators. We will briefly showcase a few itertools here. The majority of these functions create [generators](https://www.pythonlikeyoumeanit.com/Module2_EssentialsOfPython/Generators_and_Comprehensions.html), thus we will have to iterate over them in order to explicitly demonstrate their use. It is hard to overstate the utility of this module - it is strongly recommended that you take some time to see what it has in store.\n",
    "\n",
    "There are three built-in functions, `range`, `enumerate`, and `zip`, that belong in itertools, but they are so useful that they are made accessible immediately and do not need to be imported. It is essential that `range`, `enumerate`, and `zip` become tools that you are comfortable using.\n",
    "\n",
    "**range**\n",
    "\n",
    "Generate a sequence of integers in the specified “range”:"
   ]
  },
  {
   "cell_type": "code",
   "execution_count": 20,
   "metadata": {},
   "outputs": [
    {
     "data": {
      "text/plain": [
       "range(0, 10)"
      ]
     },
     "execution_count": 20,
     "metadata": {},
     "output_type": "execute_result"
    }
   ],
   "source": [
    "# will generate 0..  1.. 2.. ..8 ..9\n",
    "range(10)"
   ]
  },
  {
   "cell_type": "code",
   "execution_count": 21,
   "metadata": {},
   "outputs": [
    {
     "data": {
      "text/plain": [
       "[0, 1, 2, 3, 4, 5, 6, 7, 8, 9]"
      ]
     },
     "execution_count": 21,
     "metadata": {},
     "output_type": "execute_result"
    }
   ],
   "source": [
    "list(range(10))"
   ]
  },
  {
   "cell_type": "code",
   "execution_count": 22,
   "metadata": {},
   "outputs": [
    {
     "data": {
      "text/plain": [
       "range(0, 10, 3)"
      ]
     },
     "execution_count": 22,
     "metadata": {},
     "output_type": "execute_result"
    }
   ],
   "source": [
    "# will generate 0.. 3.. 6.. 9\n",
    "range(0 , 10 , 3)"
   ]
  },
  {
   "cell_type": "code",
   "execution_count": 23,
   "metadata": {},
   "outputs": [
    {
     "data": {
      "text/plain": [
       "[0, 3, 6, 9]"
      ]
     },
     "execution_count": 23,
     "metadata": {},
     "output_type": "execute_result"
    }
   ],
   "source": [
    "list(range(0 , 10 , 3))"
   ]
  },
  {
   "cell_type": "markdown",
   "metadata": {},
   "source": [
    "**enumerate**\n",
    "\n",
    "Enumerates the items in an iterable: yielding a tuple containing the iteration count (starting with 0) and the corresponding item from the the iterable."
   ]
  },
  {
   "cell_type": "code",
   "execution_count": 24,
   "metadata": {},
   "outputs": [
    {
     "data": {
      "text/plain": [
       "<enumerate at 0x1fe3e3b4fc0>"
      ]
     },
     "execution_count": 24,
     "metadata": {},
     "output_type": "execute_result"
    }
   ],
   "source": [
    "# will generate (0 , 'apple' ) .. ( 1 , 'banana').. (2 , 'cat').. (3 , 'dog ')]\n",
    "enumerate(['apple' , 'banana ' , 'cat' , 'dog'])"
   ]
  },
  {
   "cell_type": "code",
   "execution_count": 25,
   "metadata": {},
   "outputs": [
    {
     "data": {
      "text/plain": [
       "[(0, 'apple'), (1, 'banana'), (2, 'cat'), (3, 'dog')]"
      ]
     },
     "execution_count": 25,
     "metadata": {},
     "output_type": "execute_result"
    }
   ],
   "source": [
    "list(enumerate(['apple' , 'banana' , 'cat' , 'dog']))"
   ]
  },
  {
   "cell_type": "markdown",
   "metadata": {},
   "source": [
    "**\"zip**\n",
    "\n",
    "Zips together the corresponding elements of several iterables into tuples. This is valuable for “pairing” corresponding items across multiple iterables."
   ]
  },
  {
   "cell_type": "code",
   "execution_count": 26,
   "metadata": {},
   "outputs": [
    {
     "data": {
      "text/plain": [
       "<zip at 0x1fe3e3b8400>"
      ]
     },
     "execution_count": 26,
     "metadata": {},
     "output_type": "execute_result"
    }
   ],
   "source": [
    "names = [ 'Angie' , 'Brian' , 'Cassie' , 'David']\n",
    "exam_1_scores = [90 , 82 , 79 , 87]\n",
    "exam_2_scores = [95 , 84 , 72 , 91]\n",
    "\n",
    "# will generate [('Angie' , 90 , 95) .. ('Brain' , 85 , 84) .. ('Cassie' , 79  , 72) .. ('David' , 87 , 91)]\n",
    "zip(names , exam_1_scores , exam_2_scores)"
   ]
  },
  {
   "cell_type": "code",
   "execution_count": 27,
   "metadata": {},
   "outputs": [
    {
     "data": {
      "text/plain": [
       "[('Angie', 90, 95), ('Brian', 82, 84), ('Cassie', 79, 72), ('David', 87, 91)]"
      ]
     },
     "execution_count": 27,
     "metadata": {},
     "output_type": "execute_result"
    }
   ],
   "source": [
    "list(zip(names , exam_1_scores , exam_2_scores))"
   ]
  },
  {
   "cell_type": "markdown",
   "metadata": {},
   "source": [
    "The following are some of the many useful tools provided by the `itertools` module:\n",
    "\n",
    "**itertools.chain**\n",
    "\n",
    "Chains together multiple iterables, end-to-end, forming a single iterable:"
   ]
  },
  {
   "cell_type": "code",
   "execution_count": 28,
   "metadata": {},
   "outputs": [
    {
     "data": {
      "text/plain": [
       "<itertools.chain at 0x1fe3e3c1340>"
      ]
     },
     "execution_count": 28,
     "metadata": {},
     "output_type": "execute_result"
    }
   ],
   "source": [
    "from itertools import chain\n",
    "gen_1 = range(0  , 5 , 2) # 0 .. 2 .. 4\n",
    "gen_2 = (i**2 for i in range(3 , 6)) # 9.. 16 .. 25\n",
    "iter_3 = ['moo' , 'cow']\n",
    "iter_4 = 'him' \n",
    "# will generate:  0.. 2.. 4.. 9.. 16.. 25.. 'moo'.. 'cow'.. 'h'.. 'i'.. 'm'\n",
    "chain(gen_1 , gen_2 , iter_3 , iter_4 )"
   ]
  },
  {
   "cell_type": "code",
   "execution_count": 29,
   "metadata": {},
   "outputs": [
    {
     "data": {
      "text/plain": [
       "[0, 2, 4, 9, 16, 25, 'moo', 'cow', 'h', 'i', 'm']"
      ]
     },
     "execution_count": 29,
     "metadata": {},
     "output_type": "execute_result"
    }
   ],
   "source": [
    "list(chain(gen_1 , gen_2 , iter_3 , iter_4))"
   ]
  },
  {
   "cell_type": "markdown",
   "metadata": {},
   "source": [
    "**itertools.combinations** Generate all length-n tuples storing “combinations” of items from an iterable:"
   ]
  },
  {
   "cell_type": "code",
   "execution_count": 30,
   "metadata": {},
   "outputs": [
    {
     "data": {
      "text/plain": [
       "<itertools.combinations at 0x1fe3e3b9ef0>"
      ]
     },
     "execution_count": 30,
     "metadata": {},
     "output_type": "execute_result"
    }
   ],
   "source": [
    "from itertools import combinations\n",
    "# will generate :(0, 1, 2).. (0, 1, 3).. (0, 2, 3).. (1, 2, 3)\n",
    "combinations([0 , 1 , 2 , 3 ] , 3) # generate all length-3 combination from [0 , 1 , 2 , 3]"
   ]
  },
  {
   "cell_type": "code",
   "execution_count": 31,
   "metadata": {},
   "outputs": [
    {
     "data": {
      "text/plain": [
       "[(0, 1, 2), (0, 1, 3), (0, 2, 3), (1, 2, 3)]"
      ]
     },
     "execution_count": 31,
     "metadata": {},
     "output_type": "execute_result"
    }
   ],
   "source": [
    "list(combinations([0 , 1, 2 , 3 ] , 3))"
   ]
  },
  {
   "cell_type": "markdown",
   "metadata": {},
   "source": [
    ">Reading Comprehension: Itertools I\n",
    "\n",
    "> Using the `itertools.combinations` function, find the probability that two randomly drawn items from the list `[\"apples\", \"bananas\", \"pears\", \"pears\", \"oranges\"]` would yield a combination of “apples” and “pears”."
   ]
  },
  {
   "cell_type": "markdown",
   "metadata": {},
   "source": [
    ">Reading Comprehension: Itertools II\n",
    "\n",
    ">Given the list `x_vals = [0.1, 0.3, 0.6, 0.9]`, create a generator, `y_gen`, that will generate the y-value y=x^2 for each value of x. Then, using `zip`, create a list of the (x,y) pairs, each pair stored in a tuple."
   ]
  },
  {
   "cell_type": "code",
   "execution_count": 32,
   "metadata": {},
   "outputs": [
    {
     "data": {
      "text/plain": [
       "0.2"
      ]
     },
     "execution_count": 32,
     "metadata": {},
     "output_type": "execute_result"
    }
   ],
   "source": [
    "from itertools import combinations\n",
    "ls  = [\"apples\", \"bananas\", \"pears\", \"pears\", \"oranges\"]\n",
    "comb_ls = list(combinations (ls  , 2))\n",
    "comb_ls.count(('apples' , 'pears')) / len(comb_ls)\n"
   ]
  },
  {
   "cell_type": "code",
   "execution_count": 33,
   "metadata": {},
   "outputs": [
    {
     "data": {
      "text/plain": [
       "[(0.1, 0.010000000000000002), (0.3, 0.09), (0.6, 0.36), (0.9, 0.81)]"
      ]
     },
     "execution_count": 33,
     "metadata": {},
     "output_type": "execute_result"
    }
   ],
   "source": [
    "x_vals = [0.1, 0.3, 0.6, 0.9]\n",
    "[(x , x**2) for x in x_vals]"
   ]
  },
  {
   "cell_type": "markdown",
   "metadata": {},
   "source": [
    "### Basics of Functions\n",
    "~~~\n",
    "Note:\n",
    "\n",
    "There are reading-comprehension exercises included throughout the text. These are meant to help you put your reading to practice. Solutions for the exercises are included at the bottom of this page.\n",
    "~~~\n",
    "Defining a function allows you to encapsulate a segment of code, specifying the information that enters and leaves the code. You can make use of this “code-capsule” repeatedly and in many different contexts. For example, suppose you want to count how many vowels are in a string. The following defines a function that accomplishes this:\n"
   ]
  },
  {
   "cell_type": "code",
   "execution_count": 34,
   "metadata": {},
   "outputs": [],
   "source": [
    "def count_vowels(in_string):\n",
    "    '''Return the number of vowels contained in ` in_string`'''\n",
    "    num_vowels = 0\n",
    "    vowels = 'aeiouAEIOU'\n",
    "    \n",
    "    for char in in_string:\n",
    "        if char in vowels:\n",
    "            num_vowels += 1  # equivalent to num_vowels = num_vowels + 1\n",
    "    return num_vowels"
   ]
  },
  {
   "cell_type": "markdown",
   "metadata": {},
   "source": [
    "Executing this code will define the function `count_vowels`. This function expects to be passed one object, represented by `in_string`, as an input argument, and it will return the number of vowels stored in that object. Invoking `count_vowels`, passing it an input object, is referred to as calling the function:\n",
    "\n"
   ]
  },
  {
   "cell_type": "code",
   "execution_count": 35,
   "metadata": {},
   "outputs": [
    {
     "data": {
      "text/plain": [
       "6"
      ]
     },
     "execution_count": 35,
     "metadata": {},
     "output_type": "execute_result"
    }
   ],
   "source": [
    "count_vowels('Hi my name is Aman')"
   ]
  },
  {
   "cell_type": "markdown",
   "metadata": {},
   "source": [
    "The great thing about this is that it can be used over and over!"
   ]
  },
  {
   "cell_type": "code",
   "execution_count": 36,
   "metadata": {},
   "outputs": [
    {
     "data": {
      "text/plain": [
       "2"
      ]
     },
     "execution_count": 36,
     "metadata": {},
     "output_type": "execute_result"
    }
   ],
   "source": [
    "count_vowels('Apple')"
   ]
  },
  {
   "cell_type": "code",
   "execution_count": 37,
   "metadata": {},
   "outputs": [
    {
     "data": {
      "text/plain": [
       "4"
      ]
     },
     "execution_count": 37,
     "metadata": {},
     "output_type": "execute_result"
    }
   ],
   "source": [
    "count_vowels('envelope')"
   ]
  },
  {
   "cell_type": "markdown",
   "metadata": {},
   "source": [
    "In this section, we will learn about the syntax for defining and calling functions in Python"
   ]
  },
  {
   "cell_type": "markdown",
   "metadata": {},
   "source": [
    "~~~\n",
    "Definition:\n",
    "\n",
    "A Python function is an object that encapsulates code. Calling the function will execute the encapsulated code and return an object. A function can be defined so that it accepts arguments, which are objects that are to be passed to the encapsulated code.\n",
    "~~~"
   ]
  },
  {
   "cell_type": "markdown",
   "metadata": {},
   "source": [
    "#### The `def` Statement\n",
    "Similar to `if`, `else`, and `for`, the `def` statement is reserved by the Python language to signify the definition of functions (and a few other things that we’ll cover later). The following is the general syntax for defining a Python function:"
   ]
  },
  {
   "cell_type": "markdown",
   "metadata": {},
   "source": [
    "~~~\n",
    "def <function name>(<function signature>):\n",
    "    ''' documentation string'''\n",
    "    <encapsulated code>\n",
    "    return <object>\n",
    "~~~"
   ]
  },
  {
   "cell_type": "markdown",
   "metadata": {},
   "source": [
    "* `<function name>` can be any valid variable name, and must be followed by parentheses and then a colon.\n",
    "\n",
    "* `<function signature>` specifies the input arguments to the function, and may be left blank if the function does not accept any arguments (the parentheses must still be included, but will not encapsulate anything).\n",
    "\n",
    "* The documentation string (commonly referred to as a “docstring”) may span multiple lines, and should indicate what the function’s purpose is. It is optional.\n",
    "\n",
    "* `<encapsulated code>` can consist of general Python code, and is demarcated by being indented relative to the `def` statement.\n",
    "\n",
    "* `return` if reached by the encapsulated code, triggers the function to return the specified object and end its own execution immediately.\n",
    "\n",
    "The `return` statement is also reserved by Python. It denotes the end of a function; if reached, a `return` statement immediately concludes the execution of the function and returns the specified object.\n",
    "\n",
    "Note that, like an if-statement and a for-loop, the `def` statment must end in a colon and the body of the function is [delimited by whitespace](https://www.pythonlikeyoumeanit.com/Module2_EssentialsOfPython/Introduction.html#Python-Uses-Whitespace-to-Delimit-Scope):"
   ]
  },
  {
   "cell_type": "code",
   "execution_count": 38,
   "metadata": {},
   "outputs": [
    {
     "ename": "IndentationError",
     "evalue": "expected an indented block (<ipython-input-38-5ceb5dda10a6>, line 4)",
     "output_type": "error",
     "traceback": [
      "\u001b[1;36m  File \u001b[1;32m\"<ipython-input-38-5ceb5dda10a6>\"\u001b[1;36m, line \u001b[1;32m4\u001b[0m\n\u001b[1;33m    x = 1\u001b[0m\n\u001b[1;37m    ^\u001b[0m\n\u001b[1;31mIndentationError\u001b[0m\u001b[1;31m:\u001b[0m expected an indented block\n"
     ]
    }
   ],
   "source": [
    "# wrong indentation \n",
    "def bad_fun1():\n",
    "    \n",
    "x = 1\n",
    "    return x + 2"
   ]
  },
  {
   "cell_type": "code",
   "execution_count": 39,
   "metadata": {},
   "outputs": [
    {
     "ename": "SyntaxError",
     "evalue": "'return' outside function (<ipython-input-39-53a4d73c6fc9>, line 4)",
     "output_type": "error",
     "traceback": [
      "\u001b[1;36m  File \u001b[1;32m\"<ipython-input-39-53a4d73c6fc9>\"\u001b[1;36m, line \u001b[1;32m4\u001b[0m\n\u001b[1;33m    return x + 2\u001b[0m\n\u001b[1;37m    ^\u001b[0m\n\u001b[1;31mSyntaxError\u001b[0m\u001b[1;31m:\u001b[0m 'return' outside function\n"
     ]
    }
   ],
   "source": [
    "# wrong indentation \n",
    "def bad_func2():\n",
    "    x = 1 \n",
    "return x + 2"
   ]
  },
  {
   "cell_type": "code",
   "execution_count": 40,
   "metadata": {},
   "outputs": [
    {
     "ename": "SyntaxError",
     "evalue": "invalid syntax (<ipython-input-40-41d7435199d0>, line 2)",
     "output_type": "error",
     "traceback": [
      "\u001b[1;36m  File \u001b[1;32m\"<ipython-input-40-41d7435199d0>\"\u001b[1;36m, line \u001b[1;32m2\u001b[0m\n\u001b[1;33m    def bad_fun3()\u001b[0m\n\u001b[1;37m                  ^\u001b[0m\n\u001b[1;31mSyntaxError\u001b[0m\u001b[1;31m:\u001b[0m invalid syntax\n"
     ]
    }
   ],
   "source": [
    "# missing colon\n",
    "def bad_fun3()\n",
    "    x = 1\n",
    "    return x + 2"
   ]
  },
  {
   "cell_type": "code",
   "execution_count": 41,
   "metadata": {},
   "outputs": [
    {
     "ename": "SyntaxError",
     "evalue": "invalid syntax (<ipython-input-41-5fa86a419d59>, line 2)",
     "output_type": "error",
     "traceback": [
      "\u001b[1;36m  File \u001b[1;32m\"<ipython-input-41-5fa86a419d59>\"\u001b[1;36m, line \u001b[1;32m2\u001b[0m\n\u001b[1;33m    def bad_func4:\u001b[0m\n\u001b[1;37m                 ^\u001b[0m\n\u001b[1;31mSyntaxError\u001b[0m\u001b[1;31m:\u001b[0m invalid syntax\n"
     ]
    }
   ],
   "source": [
    "# missing parenthesis\n",
    "def bad_func4:\n",
    "    x =  1\n",
    "    return x + 2\n"
   ]
  },
  {
   "cell_type": "code",
   "execution_count": 42,
   "metadata": {},
   "outputs": [],
   "source": [
    "# this is ok\n",
    "def ok_func():\n",
    "    x =1 \n",
    "    return x + 2"
   ]
  },
  {
   "cell_type": "markdown",
   "metadata": {},
   "source": [
    "~~~\n",
    "Reading Comprehension: Writing a Basic Function\n",
    "\n",
    "Write a function named count_even. It should accept one input argument, named numbers, which will be an iterable containing integers. Have the function return the number of even-valued integers contained in the list. Include a reasonable docstring.\n",
    "~~~"
   ]
  },
  {
   "cell_type": "markdown",
   "metadata": {},
   "source": [
    "#### The `return` Statement\n",
    "In general, any Python object can follow a function’s `return` statement. Furthermore, an **empty** `return` statement can be specified, or the return statement of a function can be omitted altogether. In both of these cases, the function will return the `None` object."
   ]
  },
  {
   "cell_type": "code",
   "execution_count": 43,
   "metadata": {},
   "outputs": [],
   "source": [
    "# this function return ` None ` \n",
    "# an 'empty' return statement\n",
    "def f():\n",
    "    x = 1 \n",
    "    return"
   ]
  },
  {
   "cell_type": "code",
   "execution_count": 44,
   "metadata": {},
   "outputs": [],
   "source": [
    "# this function returns ` None ` \n",
    "# return statement is omitted\n",
    "def f():\n",
    "    x  = 1"
   ]
  },
  {
   "cell_type": "markdown",
   "metadata": {},
   "source": [
    "All Python functions return something. Even the built-in `print` function returns None after it prints to standard-output!"
   ]
  },
  {
   "cell_type": "code",
   "execution_count": 45,
   "metadata": {},
   "outputs": [
    {
     "name": "stdout",
     "output_type": "stream",
     "text": [
      "hii\n"
     ]
    }
   ],
   "source": [
    "# the ` print ` function returns ` None `\n",
    "x  = print('hii')"
   ]
  },
  {
   "cell_type": "code",
   "execution_count": 46,
   "metadata": {},
   "outputs": [
    {
     "data": {
      "text/plain": [
       "True"
      ]
     },
     "execution_count": 46,
     "metadata": {},
     "output_type": "execute_result"
    }
   ],
   "source": [
    "x is None "
   ]
  },
  {
   "cell_type": "code",
   "execution_count": null,
   "metadata": {},
   "outputs": [],
   "source": []
  },
  {
   "cell_type": "markdown",
   "metadata": {},
   "source": [
    "Warning!\n",
    "\n",
    ">Take care to not mistakenly omit a return statement or leave it blank. You will still be able to call your function, but it will return `None` no matter what!"
   ]
  },
  {
   "cell_type": "markdown",
   "metadata": {},
   "source": [
    "A function also need not have any additional code beyond its return statement. For example, we can make use of `sum` and a generator comprehension (see the previous section of this module) to shorten our `count_vowels` function:"
   ]
  },
  {
   "cell_type": "code",
   "execution_count": 47,
   "metadata": {},
   "outputs": [],
   "source": [
    "# the returned object of the function can be specified straight-away\n",
    "def count_vowels(in_string):\n",
    "    '''Return the  number of vowels contained in `in_string`'''\n",
    "    return sum(1 for char in in_string if char in \"aeiouAEIOU\")"
   ]
  },
  {
   "cell_type": "code",
   "execution_count": 48,
   "metadata": {},
   "outputs": [
    {
     "data": {
      "text/plain": [
       "2"
      ]
     },
     "execution_count": 48,
     "metadata": {},
     "output_type": "execute_result"
    }
   ],
   "source": [
    "count_vowels('jnskbibnrgskjjnadf')"
   ]
  },
  {
   "cell_type": "markdown",
   "metadata": {},
   "source": [
    "#### Multiple `return` Statements\n",
    "You can specify more than one `return` statement within a function. This can be useful for handling edge-cases or optimizations in your code. Suppose you want your function to compute ex, using a [Taylor series](https://en.wikipedia.org/wiki/Taylor_series#Exponential_function) approximation. The function should immediately return `1.0` in the case that x=0:"
   ]
  },
  {
   "cell_type": "code",
   "execution_count": 49,
   "metadata": {},
   "outputs": [],
   "source": [
    "def compute_exp(x):\n",
    "    '''use a Taylor Series to Compute e^x'''\n",
    "    if x == 0:\n",
    "        return 1.0\n",
    "    from math import factorial\n",
    "    return sum(x**n/factorial(n) for n in range(100))"
   ]
  },
  {
   "cell_type": "markdown",
   "metadata": {},
   "source": [
    "If `x==0` is `True`, then the first `return` statement is reached. `1.0` will be returned and the function will be “exited” immediately, without ever reaching the code following it.\n",
    "\n",
    "As stated above, a `return` statement will trigger a function to end its execution immediately when reached, even when subsequent code follows it. It is impossible for multiple ``return`` statements to be visited within a single function call. Thus if you want to return multiple items, then your function must return a single container of those items, like a list or a tuple."
   ]
  },
  {
   "cell_type": "code",
   "execution_count": 50,
   "metadata": {},
   "outputs": [],
   "source": [
    "# Returning multiple items from a function\n",
    "def bad_f(x):\n",
    "    '''return x ** 2 and x ** 3'''\n",
    "    return x ** 2\n",
    "# this code can never be reached!\n",
    "    return x ** 3\n"
   ]
  },
  {
   "cell_type": "code",
   "execution_count": 51,
   "metadata": {},
   "outputs": [],
   "source": [
    "def good_f(x):\n",
    "    '''return x ** 2 and x ** 3'''\n",
    "    return (x**2 , x**3)"
   ]
  },
  {
   "cell_type": "code",
   "execution_count": 52,
   "metadata": {},
   "outputs": [
    {
     "data": {
      "text/plain": [
       "4"
      ]
     },
     "execution_count": 52,
     "metadata": {},
     "output_type": "execute_result"
    }
   ],
   "source": [
    "bad_f(2)"
   ]
  },
  {
   "cell_type": "code",
   "execution_count": 53,
   "metadata": {},
   "outputs": [
    {
     "data": {
      "text/plain": [
       "(4, 8)"
      ]
     },
     "execution_count": 53,
     "metadata": {},
     "output_type": "execute_result"
    }
   ],
   "source": [
    "good_f(2)"
   ]
  },
  {
   "cell_type": "markdown",
   "metadata": {},
   "source": [
    "#### Inline Functions\n",
    "Functions can be defined in-line, as a single return statement:"
   ]
  },
  {
   "cell_type": "code",
   "execution_count": 54,
   "metadata": {},
   "outputs": [],
   "source": [
    "def add_2(x):\n",
    "    return x + 2"
   ]
  },
  {
   "cell_type": "markdown",
   "metadata": {},
   "source": [
    "can be rewritten as:"
   ]
  },
  {
   "cell_type": "code",
   "execution_count": 55,
   "metadata": {},
   "outputs": [],
   "source": [
    "def add_2(x): return x + 2"
   ]
  },
  {
   "cell_type": "code",
   "execution_count": 56,
   "metadata": {},
   "outputs": [
    {
     "data": {
      "text/plain": [
       "9"
      ]
     },
     "execution_count": 56,
     "metadata": {},
     "output_type": "execute_result"
    }
   ],
   "source": [
    "add_2(7)"
   ]
  },
  {
   "cell_type": "markdown",
   "metadata": {},
   "source": [
    "This should be used sparingly , for exceeding simple functions that can be easily understood without docstring."
   ]
  },
  {
   "cell_type": "markdown",
   "metadata": {},
   "source": [
    "#### Arguments\n",
    "A sequence of comma-seprated variable names can specified in the function signature to indicaated\n",
    "positional arguments for the function. For example , the following specific `x` , ` lower `  , and `upper ` as input arguments to a function , `is_bounded`:"
   ]
  },
  {
   "cell_type": "code",
   "execution_count": 57,
   "metadata": {},
   "outputs": [],
   "source": [
    "def is_bounded(x , lower , upper):\n",
    "    return lower <= x <= upper"
   ]
  },
  {
   "cell_type": "markdown",
   "metadata": {},
   "source": [
    "This function can then be passed its arguments in several way:\n",
    "\n",
    "#### Specifying Arguments by Position\n",
    "The objects passed to `is_bounded` will be assigned to its input variables based on their positions. That is, `is_bounded(3, 2, 4)` will assign `x=3`, `lower=2`, and `upper=4`, in accordance with the positional ordering of the function’s input arguments:"
   ]
  },
  {
   "cell_type": "code",
   "execution_count": 58,
   "metadata": {},
   "outputs": [
    {
     "data": {
      "text/plain": [
       "True"
      ]
     },
     "execution_count": 58,
     "metadata": {},
     "output_type": "execute_result"
    }
   ],
   "source": [
    "# evaluate : 2 <= 3 <= 4\n",
    "# specifying input based on position \n",
    "is_bounded(3 , 2 , 4)"
   ]
  },
  {
   "cell_type": "markdown",
   "metadata": {},
   "source": [
    "Feeding a function too few or too many arguments will raise a `TypeError`"
   ]
  },
  {
   "cell_type": "code",
   "execution_count": 59,
   "metadata": {},
   "outputs": [
    {
     "ename": "TypeError",
     "evalue": "is_bounded() missing 2 required positional arguments: 'lower' and 'upper'",
     "output_type": "error",
     "traceback": [
      "\u001b[1;31m---------------------------------------------------------------------------\u001b[0m",
      "\u001b[1;31mTypeError\u001b[0m                                 Traceback (most recent call last)",
      "\u001b[1;32m<ipython-input-59-df474dbb868a>\u001b[0m in \u001b[0;36m<module>\u001b[1;34m\u001b[0m\n\u001b[0;32m      1\u001b[0m \u001b[1;31m# too few input: raises error\u001b[0m\u001b[1;33m\u001b[0m\u001b[1;33m\u001b[0m\u001b[1;33m\u001b[0m\u001b[0m\n\u001b[1;32m----> 2\u001b[1;33m \u001b[0mis_bounded\u001b[0m\u001b[1;33m(\u001b[0m\u001b[1;36m3\u001b[0m\u001b[1;33m)\u001b[0m\u001b[1;33m\u001b[0m\u001b[1;33m\u001b[0m\u001b[0m\n\u001b[0m",
      "\u001b[1;31mTypeError\u001b[0m: is_bounded() missing 2 required positional arguments: 'lower' and 'upper'"
     ]
    }
   ],
   "source": [
    "# too few input: raises error \n",
    "is_bounded(3)"
   ]
  },
  {
   "cell_type": "code",
   "execution_count": 60,
   "metadata": {},
   "outputs": [
    {
     "ename": "TypeError",
     "evalue": "is_bounded() takes 3 positional arguments but 4 were given",
     "output_type": "error",
     "traceback": [
      "\u001b[1;31m---------------------------------------------------------------------------\u001b[0m",
      "\u001b[1;31mTypeError\u001b[0m                                 Traceback (most recent call last)",
      "\u001b[1;32m<ipython-input-60-8ec63a84dcbd>\u001b[0m in \u001b[0;36m<module>\u001b[1;34m\u001b[0m\n\u001b[0;32m      1\u001b[0m \u001b[1;31m# too many input: raises error\u001b[0m\u001b[1;33m\u001b[0m\u001b[1;33m\u001b[0m\u001b[1;33m\u001b[0m\u001b[0m\n\u001b[1;32m----> 2\u001b[1;33m \u001b[0mis_bounded\u001b[0m\u001b[1;33m(\u001b[0m\u001b[1;36m1\u001b[0m \u001b[1;33m,\u001b[0m \u001b[1;36m2\u001b[0m \u001b[1;33m,\u001b[0m \u001b[1;36m3\u001b[0m\u001b[1;33m,\u001b[0m \u001b[1;36m4\u001b[0m\u001b[1;33m)\u001b[0m\u001b[1;33m\u001b[0m\u001b[1;33m\u001b[0m\u001b[0m\n\u001b[0m",
      "\u001b[1;31mTypeError\u001b[0m: is_bounded() takes 3 positional arguments but 4 were given"
     ]
    }
   ],
   "source": [
    "# too many input: raises error\n",
    "is_bounded(1 , 2 , 3, 4)"
   ]
  },
  {
   "cell_type": "markdown",
   "metadata": {},
   "source": [
    "##### Specifying Arguments by Name\n",
    "You can provide explicit names when specifying the inputs to a function, in which case ordering does not matter. This is very nice for writing clear and flexible code:"
   ]
  },
  {
   "cell_type": "code",
   "execution_count": 61,
   "metadata": {},
   "outputs": [
    {
     "data": {
      "text/plain": [
       "True"
      ]
     },
     "execution_count": 61,
     "metadata": {},
     "output_type": "execute_result"
    }
   ],
   "source": [
    "# evaluate : 2 < = 3 < = 4\n",
    "# specify input using explcit input names \n",
    "is_bounded(lower = 2 , x = 3 , upper= 4 )"
   ]
  },
  {
   "cell_type": "markdown",
   "metadata": {},
   "source": [
    "You can mix-and-match positional and named input by using position-based inputs first:"
   ]
  },
  {
   "cell_type": "code",
   "execution_count": 62,
   "metadata": {},
   "outputs": [
    {
     "data": {
      "text/plain": [
       "True"
      ]
     },
     "execution_count": 62,
     "metadata": {},
     "output_type": "execute_result"
    }
   ],
   "source": [
    "# evaluate : 2 <= 3 <= 4\n",
    "# `x` is specified based on position\n",
    "# `lower` and `upper` are specified by name \n",
    "is_bounded(3 , upper=4 , lower = 2)"
   ]
  },
  {
   "cell_type": "markdown",
   "metadata": {},
   "source": [
    "Note that if you provide a named input, all the inputs following it must also be named:\n",
    "\n"
   ]
  },
  {
   "cell_type": "code",
   "execution_count": 63,
   "metadata": {},
   "outputs": [
    {
     "ename": "SyntaxError",
     "evalue": "positional argument follows keyword argument (<ipython-input-63-0771186b4258>, line 2)",
     "output_type": "error",
     "traceback": [
      "\u001b[1;36m  File \u001b[1;32m\"<ipython-input-63-0771186b4258>\"\u001b[1;36m, line \u001b[1;32m2\u001b[0m\n\u001b[1;33m    is_bounded(3 , lower=2 , 4)\u001b[0m\n\u001b[1;37m                             ^\u001b[0m\n\u001b[1;31mSyntaxError\u001b[0m\u001b[1;31m:\u001b[0m positional argument follows keyword argument\n"
     ]
    }
   ],
   "source": [
    "# positional arguments cannot follow named arguments\n",
    "is_bounded(3 , lower=2 , 4)"
   ]
  },
  {
   "cell_type": "markdown",
   "metadata": {},
   "source": [
    "#### Default-Valued Arguments\n",
    "You can specify default values for input arguments to a function. Their default values are utilized if a user does not specify these inputs when calling the function. Recall our `count_vowels` function. Suppose we want the ability to include “y” as a vowel. We know, however, that people will typically want to exclude “y” from their vowels, so we can exclude “y” by default:"
   ]
  },
  {
   "cell_type": "code",
   "execution_count": 64,
   "metadata": {},
   "outputs": [],
   "source": [
    "def count_vowels(in_string , include_y = False ):\n",
    "    '''Return the number of vowels contained in `in_string` '''\n",
    "    vowels = 'aeiouAEIOU'\n",
    "    if include_y:\n",
    "        vowels += 'yY' # add 'y' to vowels \n",
    "    return sum(1 for char in in_string if char in vowels)"
   ]
  },
  {
   "cell_type": "markdown",
   "metadata": {},
   "source": [
    "Now, if only `in_string` is specified when calling `count_vowels`, `include_y` will be passed the value `False` by default:"
   ]
  },
  {
   "cell_type": "code",
   "execution_count": 65,
   "metadata": {},
   "outputs": [
    {
     "data": {
      "text/plain": [
       "1"
      ]
     },
     "execution_count": 65,
     "metadata": {},
     "output_type": "execute_result"
    }
   ],
   "source": [
    "# using the default value: exclude y from vowels \n",
    "count_vowels('Happy')"
   ]
  },
  {
   "cell_type": "markdown",
   "metadata": {},
   "source": [
    "This default value can be overridden:\n"
   ]
  },
  {
   "cell_type": "code",
   "execution_count": 66,
   "metadata": {},
   "outputs": [
    {
     "data": {
      "text/plain": [
       "2"
      ]
     },
     "execution_count": 66,
     "metadata": {},
     "output_type": "execute_result"
    }
   ],
   "source": [
    "# overriding the default value: include y as a vowel\n",
    "count_vowels('Happy' , True)"
   ]
  },
  {
   "cell_type": "code",
   "execution_count": 67,
   "metadata": {},
   "outputs": [
    {
     "data": {
      "text/plain": [
       "2"
      ]
     },
     "execution_count": 67,
     "metadata": {},
     "output_type": "execute_result"
    }
   ],
   "source": [
    "# You can still specify input by name \n",
    "count_vowels(include_y=True , in_string = 'Happy')"
   ]
  },
  {
   "cell_type": "markdown",
   "metadata": {},
   "source": [
    "Default-valued input arguments must come after all positional input arguments in the function signature:"
   ]
  },
  {
   "cell_type": "code",
   "execution_count": 68,
   "metadata": {},
   "outputs": [],
   "source": [
    "# this is ok \n",
    "def f(x  ,  y , z , count = 1   , upper= 2):\n",
    "    return None"
   ]
  },
  {
   "cell_type": "code",
   "execution_count": 69,
   "metadata": {},
   "outputs": [
    {
     "ename": "SyntaxError",
     "evalue": "non-default argument follows default argument (<ipython-input-69-3b27c76450c1>, line 2)",
     "output_type": "error",
     "traceback": [
      "\u001b[1;36m  File \u001b[1;32m\"<ipython-input-69-3b27c76450c1>\"\u001b[1;36m, line \u001b[1;32m2\u001b[0m\n\u001b[1;33m    def f(x , y , count =  1 , upper = 2 , z):\u001b[0m\n\u001b[1;37m          ^\u001b[0m\n\u001b[1;31mSyntaxError\u001b[0m\u001b[1;31m:\u001b[0m non-default argument follows default argument\n"
     ]
    }
   ],
   "source": [
    "# this will raise a syntax error\n",
    "def f(x , y , count =  1 , upper = 2 , z):\n",
    "    return None"
   ]
  },
  {
   "cell_type": "markdown",
   "metadata": {},
   "source": [
    "Reading Comprehension: Functions and Arguments\n",
    "\n",
    "Write a function, `max_or_min`, which accepts two positional arguments, `x` and `y` (which will hold numerical values), and a `mode` variable that has the default value `\"max\"`.\n",
    "\n",
    "The function should return `min(x, y)` or `max(x, y)` according to the `mode`. Have the function return `None` if `mode` is neither `\"max\"` nor `\"min\"`.\n",
    "\n",
    "Include a descriptive doc-string."
   ]
  },
  {
   "cell_type": "code",
   "execution_count": 131,
   "metadata": {},
   "outputs": [],
   "source": [
    "def max_or_min(x , y  , mode = max):\n",
    "    '''Return either \"max(x,y) \" or \"min(x ,y )\" ,\n",
    "    according to the `mode` argument .\n",
    "    \n",
    "    parameters\n",
    "    ----------\n",
    "    x : number\n",
    "    y : number \n",
    "    \n",
    "    mode : str \n",
    "       Either `max` or `min`\n",
    "       \n",
    "    Return\n",
    "    ------\n",
    "    The max or min of the two values. `None` is \n",
    "    returned if an invalid mode was specified.'''\n",
    "    if mode == 'max':\n",
    "        return max(x ,y)\n",
    "    elif mode == 'min':\n",
    "        return min(x , y)\n",
    "    else:\n",
    "        return None\n",
    "    "
   ]
  },
  {
   "cell_type": "markdown",
   "metadata": {},
   "source": [
    "#### Accommodating an Arbitrary Number of Positional Arguments\n",
    "Python provides us with a syntax for defining a function, which can be called with an arbitrary number of positional arguments. This is signaled by the syntax `def f(*<var_name>)`."
   ]
  },
  {
   "cell_type": "code",
   "execution_count": 71,
   "metadata": {},
   "outputs": [],
   "source": [
    "# the * symbol indicates that an arbitary number of \n",
    "# argument can be passed to `args` , when calling `f`.\n",
    "def f(*args):\n",
    "    # All arguments passed to `f` will be 'packed' into a \n",
    "    # tuple that is assigned to the variable `args`.\n",
    "    # `f()` will assigned to the variable `args`.\n",
    "    # `f(x , y , ...)` will assign args = `(x , y , ...)`\n",
    "    return args"
   ]
  },
  {
   "cell_type": "markdown",
   "metadata": {},
   "source": [
    "Because Python cannot foresee how many arguments will be passed to `f`, all of the objects that are passed to it will be packed into a tuple, which is then assigned to the variable `args`:"
   ]
  },
  {
   "cell_type": "code",
   "execution_count": 72,
   "metadata": {},
   "outputs": [
    {
     "data": {
      "text/plain": [
       "()"
      ]
     },
     "execution_count": 72,
     "metadata": {},
     "output_type": "execute_result"
    }
   ],
   "source": [
    "# pass zero argument to `f`\n",
    "f()"
   ]
  },
  {
   "cell_type": "code",
   "execution_count": 73,
   "metadata": {},
   "outputs": [
    {
     "data": {
      "text/plain": [
       "(1,)"
      ]
     },
     "execution_count": 73,
     "metadata": {},
     "output_type": "execute_result"
    }
   ],
   "source": [
    "# pass one argument to `f`\n",
    "f(1)"
   ]
  },
  {
   "cell_type": "code",
   "execution_count": 74,
   "metadata": {},
   "outputs": [
    {
     "data": {
      "text/plain": [
       "((0, 1), True, 'cow')"
      ]
     },
     "execution_count": 74,
     "metadata": {},
     "output_type": "execute_result"
    }
   ],
   "source": [
    "# pass three argument to `f`\n",
    "f((0 , 1) , True , 'cow')"
   ]
  },
  {
   "cell_type": "markdown",
   "metadata": {},
   "source": [
    "This syntax can be combined with positional arguments and default arguments. Any variables specified after a packed variable must be called by name:"
   ]
  },
  {
   "cell_type": "code",
   "execution_count": 75,
   "metadata": {},
   "outputs": [],
   "source": [
    "def f(x , *seq , y):\n",
    "    print('x is :' , x)\n",
    "    print('seq is : ' , seq)\n",
    "    print('y is : ' , y)\n",
    "    return None"
   ]
  },
  {
   "cell_type": "code",
   "execution_count": 76,
   "metadata": {},
   "outputs": [
    {
     "name": "stdout",
     "output_type": "stream",
     "text": [
      "x is : 1\n",
      "seq is :  (2, 3, 4)\n",
      "y is :  5\n"
     ]
    }
   ],
   "source": [
    "f(1 , 2 , 3 ,4 , y= 5) # y must be specified by name "
   ]
  },
  {
   "cell_type": "code",
   "execution_count": 77,
   "metadata": {},
   "outputs": [
    {
     "name": "stdout",
     "output_type": "stream",
     "text": [
      "x is : cat\n",
      "seq is :  ()\n",
      "y is :  dog\n"
     ]
    }
   ],
   "source": [
    "f('cat' ,y = 'dog') # no additional positional argument are passed "
   ]
  },
  {
   "cell_type": "markdown",
   "metadata": {},
   "source": [
    "Reading Comprehension: Arbitrary Arguments\n",
    "\n",
    "Write a function named mean, which accepts and arbitrary number of numerical arguments, and computes the mean of all of the values passed to the function. Thus mean(1, 2, 3) should return 1+2+3/3=2.0\n",
    "\n",
    "This function should return 0. if no arguments are passed to it. Be sure to test your function, and include a docstring.\n",
    "\n"
   ]
  },
  {
   "cell_type": "code",
   "execution_count": 132,
   "metadata": {},
   "outputs": [],
   "source": [
    "def mean(*x):\n",
    "    '''Return the mean of the functionis argument'''\n",
    "    if len(x) == 0:\n",
    "        return 0\n",
    "    else:\n",
    "        return(sum(list(x))/ len(x))\n"
   ]
  },
  {
   "cell_type": "code",
   "execution_count": 134,
   "metadata": {},
   "outputs": [
    {
     "data": {
      "text/plain": [
       "0.0"
      ]
     },
     "execution_count": 134,
     "metadata": {},
     "output_type": "execute_result"
    }
   ],
   "source": [
    "mean(0)"
   ]
  },
  {
   "cell_type": "markdown",
   "metadata": {},
   "source": [
    "We see that `* `indicates the packing of an arbitrary number of arguments into a tuple, when used in the signature of a function definition. Simultaneously, `*` signals the unpacking of an iterable to pass each of its members as a positional argument to a function, when used in the context of calling a function:"
   ]
  },
  {
   "cell_type": "code",
   "execution_count": 80,
   "metadata": {},
   "outputs": [],
   "source": [
    "# Using ` * ` when calling a function, to unpacking an\n",
    "# iterable. Passing its members as distinct arguments\n",
    "# to the function\n",
    "\n",
    "def f(x  , y , z):\n",
    "    return x + y + z "
   ]
  },
  {
   "cell_type": "code",
   "execution_count": 81,
   "metadata": {},
   "outputs": [
    {
     "data": {
      "text/plain": [
       "6"
      ]
     },
     "execution_count": 81,
     "metadata": {},
     "output_type": "execute_result"
    }
   ],
   "source": [
    "f(1 ,2 , 3)"
   ]
  },
  {
   "cell_type": "code",
   "execution_count": 82,
   "metadata": {},
   "outputs": [
    {
     "data": {
      "text/plain": [
       "6"
      ]
     },
     "execution_count": 82,
     "metadata": {},
     "output_type": "execute_result"
    }
   ],
   "source": [
    "# `*` means: unpacking the contents of [1 , 2, 3]\n",
    "# passing each item as x , y and z, \n",
    "# respectively\n",
    "f(*[1 ,2 ,3]) # equivalent to: f(1 ,2  , 3)"
   ]
  },
  {
   "cell_type": "markdown",
   "metadata": {},
   "source": [
    "In the following example, we use `*` to:\n",
    "\n",
    "* Define a function to accept an arbitrary number of arguments, which get packed into a tuple.\n",
    "\n",
    "* Call the function, passing it an arbitrary number of arguments, by unpacking an iterable."
   ]
  },
  {
   "cell_type": "code",
   "execution_count": 83,
   "metadata": {},
   "outputs": [],
   "source": [
    "def number_of_args(*args):\n",
    "    return len(args)"
   ]
  },
  {
   "cell_type": "code",
   "execution_count": 84,
   "metadata": {},
   "outputs": [
    {
     "data": {
      "text/plain": [
       "3"
      ]
     },
     "execution_count": 84,
     "metadata": {},
     "output_type": "execute_result"
    }
   ],
   "source": [
    "number_of_args(None , None , None)"
   ]
  },
  {
   "cell_type": "code",
   "execution_count": 85,
   "metadata": {},
   "outputs": [],
   "source": [
    "some_list = [1 ,2 ,3, 4 , 5 ]"
   ]
  },
  {
   "cell_type": "code",
   "execution_count": 86,
   "metadata": {},
   "outputs": [
    {
     "data": {
      "text/plain": [
       "1"
      ]
     },
     "execution_count": 86,
     "metadata": {},
     "output_type": "execute_result"
    }
   ],
   "source": [
    "# passing the list itself as the sole argument \n",
    "number_of_args(some_list)"
   ]
  },
  {
   "cell_type": "code",
   "execution_count": 87,
   "metadata": {},
   "outputs": [
    {
     "data": {
      "text/plain": [
       "5"
      ]
     },
     "execution_count": 87,
     "metadata": {},
     "output_type": "execute_result"
    }
   ],
   "source": [
    "# unpacking the 5 members of the list,\n",
    "# passing each one as an argument to the function\n",
    "number_of_args(*some_list)"
   ]
  },
  {
   "cell_type": "markdown",
   "metadata": {},
   "source": [
    "#### Accommodating an Arbitrary Number of Keyword Arguments\n",
    "We can also define a function that is able to accept an arbitrary number of keyword arguments, using the syntax: `def f(**<var_name>)`\n",
    "\n",
    "Note that a single asterisk, `*`, was used to denote an arbitrary number of positional arguments, whereas `**` signals the acceptance of an arbitrary number of keyword arguments."
   ]
  },
  {
   "cell_type": "code",
   "execution_count": 91,
   "metadata": {},
   "outputs": [],
   "source": [
    "# The ** symbol indicates that an arbitary number of \n",
    "# keyword argument can be passed to `args` , when calling `f` .\n",
    "def f(**args):\n",
    "    # All keyword arguments passed to `f` will be 'packed' into a\n",
    "    # dictionary that is assigned to the variable `args`.\n",
    "    # `f()` will assign `args = {}` (an empty dictiionary)\n",
    "    # `f(x = 1 , y=2 ,...)`will assign `args = {'x':1 , 'y':2 ,...}`\n",
    "    return args"
   ]
  },
  {
   "cell_type": "markdown",
   "metadata": {},
   "source": [
    "\n",
    "Because Python cannot foresee how many arguments will be passed to `f`, all of the keyword arguments that are passed to it will be packed into a dictionary, where a given keyword is set as a key (cast as a string) that maps to the corresponding value. This dictionary is then assigned to the variable `args`. Dictionaries will be discussed in detail in a [later section](https://www.pythonlikeyoumeanit.com/Module2_EssentialsOfPython/DataStructures_II_Dictionaries.html).\n",
    "\n"
   ]
  },
  {
   "cell_type": "code",
   "execution_count": 97,
   "metadata": {},
   "outputs": [
    {
     "data": {
      "text/plain": [
       "{}"
      ]
     },
     "execution_count": 97,
     "metadata": {},
     "output_type": "execute_result"
    }
   ],
   "source": [
    "f()  # pass zero argument to `f`"
   ]
  },
  {
   "cell_type": "code",
   "execution_count": 98,
   "metadata": {},
   "outputs": [
    {
     "data": {
      "text/plain": [
       "{'x': 1}"
      ]
     },
     "execution_count": 98,
     "metadata": {},
     "output_type": "execute_result"
    }
   ],
   "source": [
    "f(x=1) # pass one argument to `f`"
   ]
  },
  {
   "cell_type": "code",
   "execution_count": 99,
   "metadata": {},
   "outputs": [
    {
     "data": {
      "text/plain": [
       "{'x': (0, 1), 'val': True, 'moo': 'cow'}"
      ]
     },
     "execution_count": 99,
     "metadata": {},
     "output_type": "execute_result"
    }
   ],
   "source": [
    "f(x=(0,1) , val = True , moo = 'cow')"
   ]
  },
  {
   "cell_type": "markdown",
   "metadata": {},
   "source": [
    "This syntax can be combined with positional arguments and default arguments. No additional arguments may come after a `**` entry in a function-definition signature:"
   ]
  },
  {
   "cell_type": "code",
   "execution_count": 101,
   "metadata": {},
   "outputs": [],
   "source": [
    "def f(x , y=2 , **kwargs):\n",
    "    print('x is:' , x)\n",
    "    print('y is :', y)\n",
    "    print('kwargs is:' , kwargs)\n",
    "    return None"
   ]
  },
  {
   "cell_type": "code",
   "execution_count": 104,
   "metadata": {},
   "outputs": [
    {
     "name": "stdout",
     "output_type": "stream",
     "text": [
      "x is: 1\n",
      "y is : 9\n",
      "kwargs is: {'z': 3, 'k': 'hi'}\n"
     ]
    }
   ],
   "source": [
    "# passing arbitary keywords arguments to `f`\n",
    "f(1 , y=9 ,z=3 , k='hi')"
   ]
  },
  {
   "cell_type": "code",
   "execution_count": 105,
   "metadata": {},
   "outputs": [
    {
     "name": "stdout",
     "output_type": "stream",
     "text": [
      "x is: cat\n",
      "y is : dog\n",
      "kwargs is: {}\n"
     ]
    }
   ],
   "source": [
    "# no additional keyword argument are passed \n",
    "f('cat' , y = 'dog')"
   ]
  },
  {
   "cell_type": "markdown",
   "metadata": {},
   "source": [
    "The following function accepts an arbitrary number of positional arguments and an arbitrary number of keyword arguments:"
   ]
  },
  {
   "cell_type": "code",
   "execution_count": 106,
   "metadata": {},
   "outputs": [],
   "source": [
    "# accepting arbitary positional and keyword arguments\n",
    "def f(*x , **y):\n",
    "    # all positional argument get packed into the tuple `x` \n",
    "    # all keyword argument get packed into the dictionarry `y`\n",
    "    print(x)\n",
    "    print(y)\n",
    "    return None"
   ]
  },
  {
   "cell_type": "code",
   "execution_count": 107,
   "metadata": {},
   "outputs": [
    {
     "name": "stdout",
     "output_type": "stream",
     "text": [
      "(1, 2, 3)\n",
      "{'hi': -1, 'bye': -2, 'sigh': -3}\n"
     ]
    }
   ],
   "source": [
    "f (1 , 2 ,3 , hi=-1 ,bye=-2 , sigh = -3)"
   ]
  },
  {
   "cell_type": "markdown",
   "metadata": {},
   "source": [
    "We see that `**` indicates the packing of an arbitrary number of keyword arguments into a dictionary, when used in the signature of a function definition. Simultaneously, `** `signals the unpacking of a dictionary to pass each of its key-value pairs as a keyword argument to a function, when used in the context of calling a function:"
   ]
  },
  {
   "cell_type": "code",
   "execution_count": 111,
   "metadata": {},
   "outputs": [
    {
     "data": {
      "text/plain": [
       "21"
      ]
     },
     "execution_count": 111,
     "metadata": {},
     "output_type": "execute_result"
    }
   ],
   "source": [
    "# using `**` when calling a function , to unpack a\n",
    "# dictionary , passing its members as keyword argumennt \n",
    "# to the function\n",
    "def f(x , y , z):\n",
    "    return 0*x + 1*y + 2*z\n",
    "\n",
    "f(z = 10 , x =9 , y =1)"
   ]
  },
  {
   "cell_type": "code",
   "execution_count": 112,
   "metadata": {},
   "outputs": [
    {
     "data": {
      "text/plain": [
       "21"
      ]
     },
     "execution_count": 112,
     "metadata": {},
     "output_type": "execute_result"
    }
   ],
   "source": [
    "args = {'x':9 , 'y':1 , 'z':10}\n",
    "f(**args) # equivalent to: f(x=9 ,y =10 , z =10)"
   ]
  },
  {
   "cell_type": "markdown",
   "metadata": {},
   "source": [
    "In the following example, we use `**` to:\n",
    "\n",
    "* Define a function to accept an arbitrary number of keyword arguments, which get packed into a dictionary.\n",
    "\n",
    "* Call the function, passing it an arbitrary number of keyword arguments, by unpacking a dictionary."
   ]
  },
  {
   "cell_type": "code",
   "execution_count": 113,
   "metadata": {},
   "outputs": [],
   "source": [
    "def print_kwargs(**args):\n",
    "    print(args)"
   ]
  },
  {
   "cell_type": "code",
   "execution_count": 114,
   "metadata": {},
   "outputs": [
    {
     "name": "stdout",
     "output_type": "stream",
     "text": [
      "{'a': 1, 'b': 2, 'c': 3, 'd': 4}\n"
     ]
    }
   ],
   "source": [
    "print_kwargs(a =1 , b= 2 , c = 3, d= 4)"
   ]
  },
  {
   "cell_type": "code",
   "execution_count": 120,
   "metadata": {},
   "outputs": [
    {
     "name": "stdout",
     "output_type": "stream",
     "text": [
      "{'a': 2, 'umbrella': True, 'hii': 1, 'bye': 2}\n"
     ]
    }
   ],
   "source": [
    "some_dict = {'hii':1 , 'bye':2}\n",
    "# unpacking the key-value pairs of the dictionary \n",
    "# as keyword argument and values , to the function \n",
    "print_kwargs(a =2 , umbrella = True , **some_dict)"
   ]
  },
  {
   "cell_type": "markdown",
   "metadata": {},
   "source": [
    "#### Functions are Objects\n",
    "Once defined, a function behaves like any other Python object, like a list or string or integer. You can assign a variable to a function-object:"
   ]
  },
  {
   "cell_type": "code",
   "execution_count": 123,
   "metadata": {},
   "outputs": [
    {
     "data": {
      "text/plain": [
       "2"
      ]
     },
     "execution_count": 123,
     "metadata": {},
     "output_type": "execute_result"
    }
   ],
   "source": [
    "var = count_vowels # `var` now refrences the function `count_vowels`\n",
    "var('Hello') # you can now 'call' `var`"
   ]
  },
  {
   "cell_type": "markdown",
   "metadata": {},
   "source": [
    "You can store functions in a list:"
   ]
  },
  {
   "cell_type": "code",
   "execution_count": 124,
   "metadata": {},
   "outputs": [
    {
     "name": "stdout",
     "output_type": "stream",
     "text": [
      "hello\n"
     ]
    }
   ],
   "source": [
    "my_list = [count_vowels , print]\n",
    "\n",
    "for func in my_list:\n",
    "    func('hello')\n",
    "# iteration 0: calls `count_vowels('hello')`\n",
    "# iteration 1: calls `print('hello')`"
   ]
  },
  {
   "cell_type": "code",
   "execution_count": 125,
   "metadata": {},
   "outputs": [
    {
     "name": "stdout",
     "output_type": "stream",
     "text": [
      "that's a lot of vowels!\n"
     ]
    }
   ],
   "source": [
    "if count_vowels('pillow') > 1:\n",
    "    print(\"that's a lot of vowels!\")"
   ]
  },
  {
   "cell_type": "markdown",
   "metadata": {},
   "source": [
    "And, of course, this works within comprehension expressions as well:"
   ]
  },
  {
   "cell_type": "code",
   "execution_count": 126,
   "metadata": {},
   "outputs": [
    {
     "data": {
      "text/plain": [
       "7"
      ]
     },
     "execution_count": 126,
     "metadata": {},
     "output_type": "execute_result"
    }
   ],
   "source": [
    "sum(count_vowels(word , include_y=True) for word in ['hii' , 'bye ' , 'guy' , 'sigh'] )"
   ]
  },
  {
   "cell_type": "markdown",
   "metadata": {},
   "source": [
    "“Printing” a function isn’t very revealing. It simply tells you the memory address where the function-object is stored:"
   ]
  },
  {
   "cell_type": "code",
   "execution_count": 127,
   "metadata": {},
   "outputs": [
    {
     "name": "stdout",
     "output_type": "stream",
     "text": [
      "<function count_vowels at 0x000001FE3E230DC0>\n"
     ]
    }
   ],
   "source": [
    "print(count_vowels)"
   ]
  },
  {
   "cell_type": "markdown",
   "metadata": {},
   "source": [
    "#### Links to Official Documentation\n",
    "* [Definition of ‘function’](https://docs.python.org/3/library/stdtypes.html#functions)\n",
    "\n",
    "* [Defining functions](https://docs.python.org/3/tutorial/controlflow.html#defining-functions)\n",
    "\n",
    "* [Default argument values](https://docs.python.org/3/tutorial/controlflow.html#default-argument-values)\n",
    "\n",
    "* [Keyword arguments](https://docs.python.org/3/tutorial/controlflow.html#keyword-arguments)\n",
    "\n",
    "* [Specifying arbitrary arguments](https://docs.python.org/3/tutorial/controlflow.html#arbitrary-argument-lists)\n",
    "\n",
    "* [Unpacking arguments](https://docs.python.org/3/tutorial/controlflow.html#unpacking-argument-lists)\n",
    "\n",
    "* [Documentation strings](https://docs.python.org/3/tutorial/controlflow.html#documentation-strings)\n",
    "\n",
    "* [Function annotations](https://docs.python.org/3/tutorial/controlflow.html#function-annotations)"
   ]
  },
  {
   "cell_type": "markdown",
   "metadata": {},
   "source": [
    "#### Reading comprehension Excercise solution:\n",
    "write a Basic Function: solution "
   ]
  },
  {
   "cell_type": "code",
   "execution_count": 129,
   "metadata": {},
   "outputs": [],
   "source": [
    "def count_even(numbers):\n",
    "    '''Count the number of even integer in an iterable'''\n",
    "    total = 0 \n",
    "    for num in numbers:\n",
    "        if num % 2 == 0:\n",
    "            total += 1\n",
    "        return total"
   ]
  },
  {
   "cell_type": "markdown",
   "metadata": {},
   "source": [
    "or , using a generator comprehension:\n"
   ]
  },
  {
   "cell_type": "code",
   "execution_count": 130,
   "metadata": {},
   "outputs": [],
   "source": [
    "def count_even(numbers):\n",
    "    '''Count the numbers of even integers in an iterable'''\n",
    "    return sum(1 for num in numbers if num % 2 == 0)"
   ]
  },
  {
   "cell_type": "code",
   "execution_count": 135,
   "metadata": {},
   "outputs": [],
   "source": [
    "def mean(*seq):\n",
    "    \"\"\" Returns the mean of the function's arguments \"\"\"\n",
    "    return sum(seq) / len(seq) if seq else 0"
   ]
  },
  {
   "cell_type": "markdown",
   "metadata": {},
   "source": [
    "#### Scope\n",
    "A valuable aspect of the “encapsulation” provided by functions is that the function’s input argument variables, and any variables defined within the function, cannot be “seen” nor accessed outside of the function. That is, these variables are said to have a restricted scope."
   ]
  },
  {
   "cell_type": "markdown",
   "metadata": {},
   "source": [
    "~~~\n",
    "Definition:\n",
    "\n",
    "The scope of a variable refers to the context in which that variable is visible/accessible to the Python interpreter.\n",
    "~~~"
   ]
  },
  {
   "cell_type": "markdown",
   "metadata": {},
   "source": [
    "Until our work with comprehension-statements and functions, we had only encountered variables that have **file scope**. This means that a variable, once defined, is visible to all parts of the code contained in the same file. Variables with file scope can even be accessed within functions. By contrast, the variables defined within a function or as input arguments to a function have a **restricted scope** - they can only be accessed within the context of the function:"
   ]
  },
  {
   "cell_type": "code",
   "execution_count": 140,
   "metadata": {},
   "outputs": [],
   "source": [
    "x =  3 # `x` has file scope. It can be acessed \n",
    "       # within a function , even if it isn't passed to \n",
    "       # the function as an argument\n",
    "# `my_funct` has file scope(after it is defined)\n",
    "def my_func(y):\n",
    "    func_var = 9 + x # `x` will have the value 3\n",
    "    # the scope of `y` and `func_var` is restricted to this function \n",
    "    return y\n",
    "\n"
   ]
  },
  {
   "cell_type": "code",
   "execution_count": 141,
   "metadata": {},
   "outputs": [
    {
     "ename": "NameError",
     "evalue": "name 'func_var' is not defined",
     "output_type": "error",
     "traceback": [
      "\u001b[1;31m---------------------------------------------------------------------------\u001b[0m",
      "\u001b[1;31mNameError\u001b[0m                                 Traceback (most recent call last)",
      "\u001b[1;32m<ipython-input-141-f3ede8ffa40f>\u001b[0m in \u001b[0;36m<module>\u001b[1;34m\u001b[0m\n\u001b[0;32m      1\u001b[0m \u001b[1;31m# `func_var` and `y` do not exist here\u001b[0m\u001b[1;33m\u001b[0m\u001b[1;33m\u001b[0m\u001b[1;33m\u001b[0m\u001b[0m\n\u001b[1;32m----> 2\u001b[1;33m \u001b[0mprint\u001b[0m\u001b[1;33m(\u001b[0m\u001b[0mfunc_var\u001b[0m\u001b[1;33m)\u001b[0m \u001b[1;31m# raises NameError: name `func_var` not defined\u001b[0m\u001b[1;33m\u001b[0m\u001b[1;33m\u001b[0m\u001b[0m\n\u001b[0m\u001b[0;32m      3\u001b[0m \u001b[0mprint\u001b[0m\u001b[1;33m(\u001b[0m\u001b[0my\u001b[0m\u001b[1;33m)\u001b[0m        \u001b[1;31m# raises NameError: name `y` not defined\u001b[0m\u001b[1;33m\u001b[0m\u001b[1;33m\u001b[0m\u001b[0m\n",
      "\u001b[1;31mNameError\u001b[0m: name 'func_var' is not defined"
     ]
    }
   ],
   "source": [
    "# `func_var` and `y` do not exist here \n",
    "print(func_var) # raises NameError: name `func_var` not defined \n",
    "print(y)        # raises NameError: name `y` not defined"
   ]
  },
  {
   "cell_type": "markdown",
   "metadata": {},
   "source": [
    "Python’s scoping rules are quite liberal compared to those of other languages, like C++. In most situations, Python will give variables file scope. Let’s briefly survey the various contexts in which variables are defined, along with their corresponding scoping rules. Assume that the following code represents the entire contents of the Python script “example_scope.py”:"
   ]
  },
  {
   "cell_type": "code",
   "execution_count": 142,
   "metadata": {},
   "outputs": [],
   "source": [
    "# this demonstratees scope of variables in different contexts \n",
    "# nothing meaningful is computed in this file \n",
    "\n",
    "from itertools import combinations # `combinations` has file scope \n",
    "\n",
    "# `my_func` has file scope \n",
    "# `in_arg1` has restricted scope \n",
    "# `in_arg2` has restricted scope \n",
    "# `func_block` has restricted scope \n",
    "def my_func(in_arg1 , in_arg2 = 'cat'):\n",
    "    func_block = 1\n",
    "    return None\n",
    "# `file_var` has file scope \n",
    "# `comp_var` has resticted scope \n",
    "file_var = [comp_var**2 for comp_var in [-1 , -2]]\n",
    "\n",
    "# `if_block` has file scope \n",
    "\n",
    "if True:\n",
    "    if_block = 2\n",
    "else:\n",
    "    if_block = 3\n",
    "# `it_var` has file scope \n",
    "# `for_block` has file scope \n",
    "for it_var in [1 ,2 ,3]:\n",
    "    for_block = 1\n",
    "# `while_block` has file scope \n",
    "while True:\n",
    "    while_block = None\n",
    "    break"
   ]
  },
  {
   "cell_type": "markdown",
   "metadata": {},
   "source": [
    "In the preceding code, the following variables have file scope:"
   ]
  },
  {
   "cell_type": "markdown",
   "metadata": {},
   "source": [
    "* `combinations`\n",
    "\n",
    "* `my_func`\n",
    "\n",
    "* `file_var`\n",
    "\n",
    "* `if_block`\n",
    "\n",
    "* `it_var`\n",
    "\n",
    "* `for_block`\n",
    "\n",
    "* `while_block`\n",
    "\n",
    "whereas the following variables have restricted scope:\n",
    "\n",
    "* `in_arg1`\n",
    "\n",
    "* `in_arg2`\n",
    "\n",
    "* `func_block`\n",
    "\n",
    "* `comp_var`\n",
    "\n",
    "In C++, the variables `if_block`, `it_var`, `for_block`, and `while_block` all would have had restricted scopes - these variables would not be defined outside of their respective if/for/while blocks."
   ]
  },
  {
   "cell_type": "markdown",
   "metadata": {},
   "source": [
    "~~~\n",
    "Takeaway:\n",
    "\n",
    "Variables defined within a function have a restricted scope such that they do not exist outside of that function. Most other contexts for defining variables in Python produce variables with file scope (i.e. they can be accessed anywhere in the file’s code, subsequent to their definition).\n",
    "~~~"
   ]
  },
  {
   "cell_type": "markdown",
   "metadata": {},
   "source": [
    "#### Variable Shadowing\n",
    "What happens when a file-scope variable and a function-scope variable share the same name? This type of circumstance is known as variable shadowing. Python resolves this by giving precedence to the variable with the most restricted scope, when inside that scope:"
   ]
  },
  {
   "cell_type": "code",
   "execution_count": 143,
   "metadata": {},
   "outputs": [
    {
     "name": "stdout",
     "output_type": "stream",
     "text": [
      "0\n",
      "2 3\n"
     ]
    }
   ],
   "source": [
    "x = 2\n",
    "y = 3\n",
    "def func(x):\n",
    "    # input-org `x` overrides file-scope version of `x`\n",
    "    y  = 5 # overrides file-scope version of `y`\n",
    "    return x + y \n",
    "# `x` is 2 here , once again \n",
    "# `y` is 3 here , once again \n",
    "\n",
    "print(func(-5)) # print 0\n",
    "print(x  , y)  # print 2 ,3"
   ]
  },
  {
   "cell_type": "markdown",
   "metadata": {},
   "source": [
    "and simply"
   ]
  },
  {
   "cell_type": "code",
   "execution_count": 144,
   "metadata": {},
   "outputs": [],
   "source": [
    "it = 'cow'\n",
    "\n",
    "def func():\n",
    "    it = 'dog' # overrides file-scope version of `it`\n",
    "    my_list = [it**2 for it in [1 , 2 , 3]] # within the list comprehension , the funct-scope `it` is overridden \n",
    "    # `it` is 'dog' here , once again \n",
    "    return None\n",
    "# `it` is 'cow' here , once again \n"
   ]
  },
  {
   "cell_type": "markdown",
   "metadata": {},
   "source": [
    "#### Links to Official Documentation\n",
    "* [Scopes and namespaces](https://docs.python.org/3/tutorial/classes.html#python-scopes-and-namespaces)\n",
    "\n",
    "* [Python’s execution model](https://docs.python.org/3/reference/executionmodel.html)"
   ]
  },
  {
   "cell_type": "code",
   "execution_count": null,
   "metadata": {},
   "outputs": [],
   "source": []
  }
 ],
 "metadata": {
  "kernelspec": {
   "display_name": "Python 3",
   "language": "python",
   "name": "python3"
  },
  "language_info": {
   "codemirror_mode": {
    "name": "ipython",
    "version": 3
   },
   "file_extension": ".py",
   "mimetype": "text/x-python",
   "name": "python",
   "nbconvert_exporter": "python",
   "pygments_lexer": "ipython3",
   "version": "3.8.5"
  }
 },
 "nbformat": 4,
 "nbformat_minor": 4
}
